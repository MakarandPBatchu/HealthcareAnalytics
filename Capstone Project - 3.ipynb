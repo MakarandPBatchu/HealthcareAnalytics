{
 "cells": [
  {
   "cell_type": "code",
   "execution_count": 252,
   "metadata": {},
   "outputs": [],
   "source": [
    "import numpy as np\n",
    "import pandas as pd\n",
    "import matplotlib.pyplot as plt\n",
    "import seaborn as sns\n",
    "%matplotlib inline"
   ]
  },
  {
   "cell_type": "code",
   "execution_count": 253,
   "metadata": {},
   "outputs": [],
   "source": [
    "final = pd.read_csv('Final_Data.csv')"
   ]
  },
  {
   "cell_type": "markdown",
   "metadata": {},
   "source": [
    "### Filtering"
   ]
  },
  {
   "cell_type": "code",
   "execution_count": 254,
   "metadata": {},
   "outputs": [
    {
     "data": {
      "text/plain": [
       "Index(['patient_nbr', 'diag_1', 'diag_2', 'diag_3', 'number_diagnoses',\n",
       "       'admission_type_id', 'discharge_disposition_id', 'admission_source_id',\n",
       "       'time_in_hospital', 'payer_code', 'medical_specialty', 'encounter_id',\n",
       "       'race', 'gender', 'age', 'weight', 'num_lab_procedures',\n",
       "       'num_procedures', 'num_medications', 'number_outpatient',\n",
       "       'number_emergency', 'number_inpatient', 'max_glu_serum', 'A1Cresult',\n",
       "       'metformin', 'repaglinide', 'nateglinide', 'chlorpropamide',\n",
       "       'glimepiride', 'acetohexamide', 'glipizide', 'glyburide', 'tolbutamide',\n",
       "       'pioglitazone', 'rosiglitazone', 'acarbose', 'miglitol', 'troglitazone',\n",
       "       'tolazamide', 'examide', 'citoglipton', 'insulin',\n",
       "       'glyburide-metformin', 'glipizide-metformin',\n",
       "       'glimepiride-pioglitazone', 'metformin-rosiglitazone',\n",
       "       'metformin-pioglitazone', 'change', 'diabetesMed', 'readmitted'],\n",
       "      dtype='object')"
      ]
     },
     "execution_count": 254,
     "metadata": {},
     "output_type": "execute_result"
    }
   ],
   "source": [
    "final.columns"
   ]
  },
  {
   "cell_type": "code",
   "execution_count": 255,
   "metadata": {},
   "outputs": [
    {
     "data": {
      "text/plain": [
       "1    53990\n",
       "3    18869\n",
       "2    18480\n",
       "6     5291\n",
       "5     4785\n",
       "8      320\n",
       "7       21\n",
       "4       10\n",
       "Name: admission_type_id, dtype: int64"
      ]
     },
     "execution_count": 255,
     "metadata": {},
     "output_type": "execute_result"
    }
   ],
   "source": [
    "final['admission_type_id'].value_counts()"
   ]
  },
  {
   "cell_type": "code",
   "execution_count": 256,
   "metadata": {},
   "outputs": [
    {
     "data": {
      "text/html": [
       "<div>\n",
       "<style scoped>\n",
       "    .dataframe tbody tr th:only-of-type {\n",
       "        vertical-align: middle;\n",
       "    }\n",
       "\n",
       "    .dataframe tbody tr th {\n",
       "        vertical-align: top;\n",
       "    }\n",
       "\n",
       "    .dataframe thead th {\n",
       "        text-align: right;\n",
       "    }\n",
       "</style>\n",
       "<table border=\"1\" class=\"dataframe\">\n",
       "  <thead>\n",
       "    <tr style=\"text-align: right;\">\n",
       "      <th></th>\n",
       "      <th>patient_nbr</th>\n",
       "      <th>age</th>\n",
       "      <th>diabetesMed</th>\n",
       "    </tr>\n",
       "  </thead>\n",
       "  <tbody>\n",
       "    <tr>\n",
       "      <th>2043</th>\n",
       "      <td>20191257</td>\n",
       "      <td>[50-60)</td>\n",
       "      <td>Yes</td>\n",
       "    </tr>\n",
       "    <tr>\n",
       "      <th>2203</th>\n",
       "      <td>59902119</td>\n",
       "      <td>[80-90)</td>\n",
       "      <td>Yes</td>\n",
       "    </tr>\n",
       "    <tr>\n",
       "      <th>2461</th>\n",
       "      <td>21564738</td>\n",
       "      <td>[70-80)</td>\n",
       "      <td>Yes</td>\n",
       "    </tr>\n",
       "    <tr>\n",
       "      <th>4823</th>\n",
       "      <td>20593143</td>\n",
       "      <td>[60-70)</td>\n",
       "      <td>Yes</td>\n",
       "    </tr>\n",
       "    <tr>\n",
       "      <th>35877</th>\n",
       "      <td>2177469</td>\n",
       "      <td>[60-70)</td>\n",
       "      <td>Yes</td>\n",
       "    </tr>\n",
       "    <tr>\n",
       "      <th>47548</th>\n",
       "      <td>58776723</td>\n",
       "      <td>[40-50)</td>\n",
       "      <td>No</td>\n",
       "    </tr>\n",
       "    <tr>\n",
       "      <th>48711</th>\n",
       "      <td>217206</td>\n",
       "      <td>[70-80)</td>\n",
       "      <td>Yes</td>\n",
       "    </tr>\n",
       "    <tr>\n",
       "      <th>80354</th>\n",
       "      <td>20103048</td>\n",
       "      <td>[0-10)</td>\n",
       "      <td>No</td>\n",
       "    </tr>\n",
       "    <tr>\n",
       "      <th>87714</th>\n",
       "      <td>33119388</td>\n",
       "      <td>[60-70)</td>\n",
       "      <td>Yes</td>\n",
       "    </tr>\n",
       "    <tr>\n",
       "      <th>100721</th>\n",
       "      <td>115019244</td>\n",
       "      <td>[80-90)</td>\n",
       "      <td>Yes</td>\n",
       "    </tr>\n",
       "  </tbody>\n",
       "</table>\n",
       "</div>"
      ],
      "text/plain": [
       "        patient_nbr      age diabetesMed\n",
       "2043       20191257  [50-60)         Yes\n",
       "2203       59902119  [80-90)         Yes\n",
       "2461       21564738  [70-80)         Yes\n",
       "4823       20593143  [60-70)         Yes\n",
       "35877       2177469  [60-70)         Yes\n",
       "47548      58776723  [40-50)          No\n",
       "48711        217206  [70-80)         Yes\n",
       "80354      20103048   [0-10)          No\n",
       "87714      33119388  [60-70)         Yes\n",
       "100721    115019244  [80-90)         Yes"
      ]
     },
     "execution_count": 256,
     "metadata": {},
     "output_type": "execute_result"
    }
   ],
   "source": [
    "final[final['admission_type_id']==4][['patient_nbr','age','diabetesMed']]"
   ]
  },
  {
   "cell_type": "code",
   "execution_count": 257,
   "metadata": {},
   "outputs": [],
   "source": [
    "ama=final[final['discharge_disposition_id']==7]"
   ]
  },
  {
   "cell_type": "code",
   "execution_count": 258,
   "metadata": {},
   "outputs": [
    {
     "data": {
      "text/plain": [
       "50773     7\n",
       "72068     7\n",
       "82693     7\n",
       "101385    7\n",
       "Name: discharge_disposition_id, dtype: int64"
      ]
     },
     "execution_count": 258,
     "metadata": {},
     "output_type": "execute_result"
    }
   ],
   "source": [
    "ama[ama['patient_nbr']==88785891]['discharge_disposition_id']"
   ]
  },
  {
   "cell_type": "code",
   "execution_count": 259,
   "metadata": {},
   "outputs": [
    {
     "data": {
      "text/plain": [
       "88785891     4\n",
       "40451508     4\n",
       "89612235     4\n",
       "60950934     4\n",
       "85029048     3\n",
       "97341534     3\n",
       "85067748     3\n",
       "88838019     3\n",
       "88660782     3\n",
       "53240535     2\n",
       "141502793    2\n",
       "47016477     2\n",
       "33857055     2\n",
       "84669678     2\n",
       "109933875    2\n",
       "91320525     2\n",
       "384939       2\n",
       "110510172    2\n",
       "101707335    2\n",
       "59434875     2\n",
       "37143702     2\n",
       "79558839     2\n",
       "2465397      2\n",
       "64035891     2\n",
       "97286517     2\n",
       "98932320     2\n",
       "62352252     2\n",
       "23211693     2\n",
       "57416175     2\n",
       "88762302     2\n",
       "            ..\n",
       "29878893     1\n",
       "41938542     1\n",
       "3070575      1\n",
       "91788912     1\n",
       "24197364     1\n",
       "44181108     1\n",
       "97948278     1\n",
       "106892919    1\n",
       "5822073      1\n",
       "18010746     1\n",
       "68051583     1\n",
       "114823809    1\n",
       "89062020     1\n",
       "58632840     1\n",
       "47880864     1\n",
       "42159753     1\n",
       "545418       1\n",
       "91936395     1\n",
       "91241361     1\n",
       "68768397     1\n",
       "73336464     1\n",
       "212625       1\n",
       "22142610     1\n",
       "99530388     1\n",
       "24019605     1\n",
       "4206231      1\n",
       "28717722     1\n",
       "41648706     1\n",
       "1411740      1\n",
       "126428594    1\n",
       "Name: patient_nbr, Length: 570, dtype: int64"
      ]
     },
     "execution_count": 259,
     "metadata": {},
     "output_type": "execute_result"
    }
   ],
   "source": [
    "ama['patient_nbr'].value_counts()"
   ]
  },
  {
   "cell_type": "code",
   "execution_count": 260,
   "metadata": {},
   "outputs": [],
   "source": [
    "neo=final[final['discharge_disposition_id']==10]"
   ]
  },
  {
   "cell_type": "code",
   "execution_count": 261,
   "metadata": {},
   "outputs": [
    {
     "data": {
      "text/plain": [
       "487      [70-80)\n",
       "1027     [70-80)\n",
       "1101     [60-70)\n",
       "1585    [90-100)\n",
       "1636     [80-90)\n",
       "1983     [50-60)\n",
       "Name: age, dtype: object"
      ]
     },
     "execution_count": 261,
     "metadata": {},
     "output_type": "execute_result"
    }
   ],
   "source": [
    "neo['age']"
   ]
  },
  {
   "cell_type": "code",
   "execution_count": 262,
   "metadata": {},
   "outputs": [
    {
     "data": {
      "text/plain": [
       "(48, 50)"
      ]
     },
     "execution_count": 262,
     "metadata": {},
     "output_type": "execute_result"
    }
   ],
   "source": [
    "final[final['discharge_disposition_id']==24].shape"
   ]
  },
  {
   "cell_type": "code",
   "execution_count": 263,
   "metadata": {},
   "outputs": [],
   "source": [
    "medyes=pd.read_csv('Medyes.csv')"
   ]
  },
  {
   "cell_type": "code",
   "execution_count": 264,
   "metadata": {},
   "outputs": [
    {
     "data": {
      "text/plain": [
       "(78363, 49)"
      ]
     },
     "execution_count": 264,
     "metadata": {},
     "output_type": "execute_result"
    }
   ],
   "source": [
    "medyes.shape"
   ]
  },
  {
   "cell_type": "code",
   "execution_count": 265,
   "metadata": {},
   "outputs": [
    {
     "data": {
      "text/plain": [
       "ToHome                                                  46538\n",
       "ToSNF                                                   11025\n",
       "ToHomeWithHomeHealthCare                                10292\n",
       "ToRehab                                                  1643\n",
       "ToShortTermHosp                                          1543\n",
       "Expired                                                  1085\n",
       "ToInpatientCareInst                                       890\n",
       "Not_Mapped                                                767\n",
       "ToICF                                                     601\n",
       "LeftAMA                                                   452\n",
       "ToLongTermCare                                            351\n",
       "Hospice/Home                                              288\n",
       "Hospice/Med.Facility                                      265\n",
       "ToPsychiatricHosp.                                        113\n",
       "ToHomeIVProvider                                           80\n",
       "MedicareApprovedSwingBed                                   55\n",
       "ToNursingFac(MedicaidCertified,MedicareNotCertified)       36\n",
       "InpatientInSameHosp                                        19\n",
       "SameInst.Outpatient                                        12\n",
       "AnotherInst.Outpatient                                     11\n",
       "AnotherHospNeonatalCare                                     5\n",
       "ExpiredAtHome.MedicaidOnly                                  4\n",
       "ToFederalHealthCareFac.                                     3\n",
       "ExpiredInMedFacility.MedicaidOnly                           2\n",
       "Name: discharge_disposition_id, dtype: int64"
      ]
     },
     "execution_count": 265,
     "metadata": {},
     "output_type": "execute_result"
    }
   ],
   "source": [
    "medyes['discharge_disposition_id'].value_counts()"
   ]
  },
  {
   "cell_type": "code",
   "execution_count": 266,
   "metadata": {},
   "outputs": [],
   "source": [
    "tohome=medyes[medyes['discharge_disposition_id']=='ToHome']"
   ]
  },
  {
   "cell_type": "code",
   "execution_count": 267,
   "metadata": {},
   "outputs": [
    {
     "data": {
      "text/plain": [
       "26"
      ]
     },
     "execution_count": 267,
     "metadata": {},
     "output_type": "execute_result"
    }
   ],
   "source": [
    "final['discharge_disposition_id'].nunique()"
   ]
  },
  {
   "cell_type": "code",
   "execution_count": 268,
   "metadata": {},
   "outputs": [
    {
     "data": {
      "text/plain": [
       "24"
      ]
     },
     "execution_count": 268,
     "metadata": {},
     "output_type": "execute_result"
    }
   ],
   "source": [
    "medyes['discharge_disposition_id'].nunique()"
   ]
  },
  {
   "cell_type": "code",
   "execution_count": 269,
   "metadata": {},
   "outputs": [],
   "source": [
    "null=final[final['discharge_disposition_id']==18]"
   ]
  },
  {
   "cell_type": "code",
   "execution_count": 270,
   "metadata": {},
   "outputs": [
    {
     "data": {
      "text/plain": [
       "Yes    2283\n",
       "No     1408\n",
       "Name: diabetesMed, dtype: int64"
      ]
     },
     "execution_count": 270,
     "metadata": {},
     "output_type": "execute_result"
    }
   ],
   "source": [
    "null['diabetesMed'].value_counts()"
   ]
  },
  {
   "cell_type": "markdown",
   "metadata": {},
   "source": [
    "#### admission_type_id, discharge_disposition_id, admission_source_id were numerically encoded as ordinal but they are nominal data. They were handled by replacing the numbers with respective categories to enable one hot encoding."
   ]
  },
  {
   "cell_type": "code",
   "execution_count": 271,
   "metadata": {},
   "outputs": [],
   "source": [
    "final['admission_type_id'].replace([1,2,3,4,5,6,7,8],\n",
    "                                   ['Emergency','Urgent','Elective','Newborn','NA','NULL','Trauma Center','Not Mapped'],inplace=True)"
   ]
  },
  {
   "cell_type": "code",
   "execution_count": 272,
   "metadata": {},
   "outputs": [
    {
     "data": {
      "text/plain": [
       "Emergency        53990\n",
       "Elective         18869\n",
       "Urgent           18480\n",
       "NULL              5291\n",
       "NA                4785\n",
       "Not Mapped         320\n",
       "Trauma Center       21\n",
       "Newborn             10\n",
       "Name: admission_type_id, dtype: int64"
      ]
     },
     "execution_count": 272,
     "metadata": {},
     "output_type": "execute_result"
    }
   ],
   "source": [
    "final['admission_type_id'].value_counts()"
   ]
  },
  {
   "cell_type": "code",
   "execution_count": 273,
   "metadata": {},
   "outputs": [
    {
     "data": {
      "text/plain": [
       "(101766, 50)"
      ]
     },
     "execution_count": 273,
     "metadata": {},
     "output_type": "execute_result"
    }
   ],
   "source": [
    "final.shape"
   ]
  },
  {
   "cell_type": "code",
   "execution_count": 274,
   "metadata": {},
   "outputs": [],
   "source": [
    "final['discharge_disposition_id'].replace(np.arange(1,31),  ['ToHome' , 'ToShortTermHosp','ToSNF','ToICF','ToInpatientCareInst','ToHomeWithHomeHealthCare',\n",
    "                                   'LeftAMA','ToHomeIVProvider','InpatientInSameHosp','AnotherHospNeonatalCare','Expired',\n",
    "                                   'StillPatientOROutpatient','Hospice/Home','Hospice/Med.Facility','MedicareApprovedSwingBed',\n",
    "                                   'AnotherInst.Outpatient','SameInst.Outpatient','NULL','ExpiredAtHome.MedicaidOnly',\n",
    "                                  'ExpiredInMedFacility.MedicaidOnly','ExpiredUnknown.MedicaidOnly','ToRehab','ToLongTermCare',\n",
    "                                   'ToNursingFac(MedicaidCertified,MedicareNotCertified)','Not_Mapped','Unknown/Invalid',\n",
    "                                   'ToFederalHealthCareFac.','ToPsychiatricHosp.','ToCAHosp','ToUnknownHCHosp.']\n",
    "                                   ,inplace=True)"
   ]
  },
  {
   "cell_type": "code",
   "execution_count": 275,
   "metadata": {},
   "outputs": [
    {
     "data": {
      "text/plain": [
       "ToHome                                                  60234\n",
       "ToSNF                                                   13954\n",
       "ToHomeWithHomeHealthCare                                12902\n",
       "NULL                                                     3691\n",
       "ToShortTermHosp                                          2128\n",
       "ToRehab                                                  1993\n",
       "Expired                                                  1642\n",
       "ToInpatientCareInst                                      1184\n",
       "Not_Mapped                                                989\n",
       "ToICF                                                     815\n",
       "LeftAMA                                                   623\n",
       "ToLongTermCare                                            412\n",
       "Hospice/Home                                              399\n",
       "Hospice/Med.Facility                                      372\n",
       "ToPsychiatricHosp.                                        139\n",
       "ToHomeIVProvider                                          108\n",
       "MedicareApprovedSwingBed                                   63\n",
       "ToNursingFac(MedicaidCertified,MedicareNotCertified)       48\n",
       "InpatientInSameHosp                                        21\n",
       "SameInst.Outpatient                                        14\n",
       "AnotherInst.Outpatient                                     11\n",
       "ExpiredAtHome.MedicaidOnly                                  8\n",
       "AnotherHospNeonatalCare                                     6\n",
       "ToFederalHealthCareFac.                                     5\n",
       "StillPatientOROutpatient                                    3\n",
       "ExpiredInMedFacility.MedicaidOnly                           2\n",
       "Name: discharge_disposition_id, dtype: int64"
      ]
     },
     "execution_count": 275,
     "metadata": {},
     "output_type": "execute_result"
    }
   ],
   "source": [
    "final['discharge_disposition_id'].value_counts()"
   ]
  },
  {
   "cell_type": "code",
   "execution_count": 276,
   "metadata": {},
   "outputs": [
    {
     "data": {
      "text/plain": [
       "patient_nbr                 0\n",
       "diag_1                      0\n",
       "diag_2                      0\n",
       "diag_3                      0\n",
       "number_diagnoses            0\n",
       "admission_type_id           0\n",
       "discharge_disposition_id    0\n",
       "admission_source_id         0\n",
       "time_in_hospital            0\n",
       "payer_code                  0\n",
       "medical_specialty           0\n",
       "encounter_id                0\n",
       "race                        0\n",
       "gender                      0\n",
       "age                         0\n",
       "weight                      0\n",
       "num_lab_procedures          0\n",
       "num_procedures              0\n",
       "num_medications             0\n",
       "number_outpatient           0\n",
       "number_emergency            0\n",
       "number_inpatient            0\n",
       "max_glu_serum               0\n",
       "A1Cresult                   0\n",
       "metformin                   0\n",
       "repaglinide                 0\n",
       "nateglinide                 0\n",
       "chlorpropamide              0\n",
       "glimepiride                 0\n",
       "acetohexamide               0\n",
       "glipizide                   0\n",
       "glyburide                   0\n",
       "tolbutamide                 0\n",
       "pioglitazone                0\n",
       "rosiglitazone               0\n",
       "acarbose                    0\n",
       "miglitol                    0\n",
       "troglitazone                0\n",
       "tolazamide                  0\n",
       "examide                     0\n",
       "citoglipton                 0\n",
       "insulin                     0\n",
       "glyburide-metformin         0\n",
       "glipizide-metformin         0\n",
       "glimepiride-pioglitazone    0\n",
       "metformin-rosiglitazone     0\n",
       "metformin-pioglitazone      0\n",
       "change                      0\n",
       "diabetesMed                 0\n",
       "readmitted                  0\n",
       "dtype: int64"
      ]
     },
     "execution_count": 276,
     "metadata": {},
     "output_type": "execute_result"
    }
   ],
   "source": [
    "final.isnull().sum()"
   ]
  },
  {
   "cell_type": "code",
   "execution_count": 277,
   "metadata": {},
   "outputs": [],
   "source": [
    "final['admission_source_id'].replace(np.arange(1,27),['PhysicianReferral','ClinicReferral','HMOReferral','Transferfromahospital',' TransferfromaSkilledNursingFacility(SNF)',\n",
    " 'Transferfromanotherhealthcarefacility', 'EmergencyRoom',\n",
    "'Court/LawEnforcement','NotAvailable',\n",
    "'Transferfromcritialaccesshospital','NormalDelivery',\n",
    "'PrematureDelivery', 'SickBaby',\n",
    "'ExtramuralBirth','NotAvailable','','NULL',\n",
    " 'TransferFromAnotherHomeHealthAgency',\n",
    "'ReadmissiontoSameHomeHealthAgency',\n",
    "'NotMapped','Unknown/Invalid',\n",
    "'Transferfromhospitalinpt/samefacresultinasepclaim',\n",
    "'Borninsidethis hospital',' Bornoutsidethishospital',\n",
    "'TransferfromAmbulatorySurgeryCenter',\n",
    "'TransferfromHospice'],inplace=True)"
   ]
  },
  {
   "cell_type": "code",
   "execution_count": 278,
   "metadata": {},
   "outputs": [
    {
     "data": {
      "text/plain": [
       "EmergencyRoom                                        57494\n",
       "PhysicianReferral                                    29565\n",
       "NULL                                                  6781\n",
       "Transferfromahospital                                 3187\n",
       "Transferfromanotherhealthcarefacility                 2264\n",
       "ClinicReferral                                        1104\n",
       " TransferfromaSkilledNursingFacility(SNF)              855\n",
       "HMOReferral                                            187\n",
       "NotMapped                                              161\n",
       "NotAvailable                                           125\n",
       "Court/LawEnforcement                                    16\n",
       "Transferfromhospitalinpt/samefacresultinasepclaim       12\n",
       "Transferfromcritialaccesshospital                        8\n",
       "NormalDelivery                                           2\n",
       "ExtramuralBirth                                          2\n",
       "TransferfromAmbulatorySurgeryCenter                      2\n",
       "SickBaby                                                 1\n",
       "Name: admission_source_id, dtype: int64"
      ]
     },
     "execution_count": 278,
     "metadata": {},
     "output_type": "execute_result"
    }
   ],
   "source": [
    "final['admission_source_id'].value_counts()"
   ]
  },
  {
   "cell_type": "code",
   "execution_count": 279,
   "metadata": {},
   "outputs": [
    {
     "data": {
      "text/plain": [
       "(101766, 50)"
      ]
     },
     "execution_count": 279,
     "metadata": {},
     "output_type": "execute_result"
    }
   ],
   "source": [
    "final.shape"
   ]
  },
  {
   "cell_type": "code",
   "execution_count": 280,
   "metadata": {},
   "outputs": [
    {
     "data": {
      "text/plain": [
       "patient_nbr                 0\n",
       "diag_1                      0\n",
       "diag_2                      0\n",
       "diag_3                      0\n",
       "number_diagnoses            0\n",
       "admission_type_id           0\n",
       "discharge_disposition_id    0\n",
       "admission_source_id         0\n",
       "time_in_hospital            0\n",
       "payer_code                  0\n",
       "medical_specialty           0\n",
       "encounter_id                0\n",
       "race                        0\n",
       "gender                      0\n",
       "age                         0\n",
       "weight                      0\n",
       "num_lab_procedures          0\n",
       "num_procedures              0\n",
       "num_medications             0\n",
       "number_outpatient           0\n",
       "number_emergency            0\n",
       "number_inpatient            0\n",
       "max_glu_serum               0\n",
       "A1Cresult                   0\n",
       "metformin                   0\n",
       "repaglinide                 0\n",
       "nateglinide                 0\n",
       "chlorpropamide              0\n",
       "glimepiride                 0\n",
       "acetohexamide               0\n",
       "glipizide                   0\n",
       "glyburide                   0\n",
       "tolbutamide                 0\n",
       "pioglitazone                0\n",
       "rosiglitazone               0\n",
       "acarbose                    0\n",
       "miglitol                    0\n",
       "troglitazone                0\n",
       "tolazamide                  0\n",
       "examide                     0\n",
       "citoglipton                 0\n",
       "insulin                     0\n",
       "glyburide-metformin         0\n",
       "glipizide-metformin         0\n",
       "glimepiride-pioglitazone    0\n",
       "metformin-rosiglitazone     0\n",
       "metformin-pioglitazone      0\n",
       "change                      0\n",
       "diabetesMed                 0\n",
       "readmitted                  0\n",
       "dtype: int64"
      ]
     },
     "execution_count": 280,
     "metadata": {},
     "output_type": "execute_result"
    }
   ],
   "source": [
    "final.isnull().sum()"
   ]
  },
  {
   "cell_type": "markdown",
   "metadata": {},
   "source": [
    "### Filtering data based on diabetesmed = yes and discharge_disposition_id = any records indicating expired people"
   ]
  },
  {
   "cell_type": "code",
   "execution_count": 281,
   "metadata": {},
   "outputs": [
    {
     "data": {
      "text/plain": [
       "(78363, 50)"
      ]
     },
     "execution_count": 281,
     "metadata": {},
     "output_type": "execute_result"
    }
   ],
   "source": [
    "z=final[final['diabetesMed']=='Yes']\n",
    "z.shape"
   ]
  },
  {
   "cell_type": "code",
   "execution_count": 282,
   "metadata": {},
   "outputs": [
    {
     "data": {
      "text/plain": [
       "ToHome                                                  46538\n",
       "ToSNF                                                   11025\n",
       "ToHomeWithHomeHealthCare                                10292\n",
       "NULL                                                     2283\n",
       "ToRehab                                                  1643\n",
       "ToShortTermHosp                                          1543\n",
       "Expired                                                  1085\n",
       "ToInpatientCareInst                                       890\n",
       "Not_Mapped                                                767\n",
       "ToICF                                                     601\n",
       "LeftAMA                                                   452\n",
       "ToLongTermCare                                            351\n",
       "Hospice/Home                                              288\n",
       "Hospice/Med.Facility                                      265\n",
       "ToPsychiatricHosp.                                        113\n",
       "ToHomeIVProvider                                           80\n",
       "MedicareApprovedSwingBed                                   55\n",
       "ToNursingFac(MedicaidCertified,MedicareNotCertified)       36\n",
       "InpatientInSameHosp                                        19\n",
       "SameInst.Outpatient                                        12\n",
       "AnotherInst.Outpatient                                     11\n",
       "AnotherHospNeonatalCare                                     5\n",
       "ExpiredAtHome.MedicaidOnly                                  4\n",
       "ToFederalHealthCareFac.                                     3\n",
       "ExpiredInMedFacility.MedicaidOnly                           2\n",
       "Name: discharge_disposition_id, dtype: int64"
      ]
     },
     "execution_count": 282,
     "metadata": {},
     "output_type": "execute_result"
    }
   ],
   "source": [
    "z['discharge_disposition_id'].value_counts()"
   ]
  },
  {
   "cell_type": "code",
   "execution_count": null,
   "metadata": {},
   "outputs": [],
   "source": []
  },
  {
   "cell_type": "code",
   "execution_count": 283,
   "metadata": {},
   "outputs": [],
   "source": [
    "filtereddata = z[(z['discharge_disposition_id'] != 'Expired') & (z['discharge_disposition_id'] != 'ExpiredAtHome.MedicaidOnly')\n",
    " & (z['discharge_disposition_id'] != 'ExpiredInMedFacility.MedicaidOnly')]"
   ]
  },
  {
   "cell_type": "code",
   "execution_count": 284,
   "metadata": {},
   "outputs": [
    {
     "data": {
      "text/plain": [
       "patient_nbr                 0\n",
       "diag_1                      0\n",
       "diag_2                      0\n",
       "diag_3                      0\n",
       "number_diagnoses            0\n",
       "admission_type_id           0\n",
       "discharge_disposition_id    0\n",
       "admission_source_id         0\n",
       "time_in_hospital            0\n",
       "payer_code                  0\n",
       "medical_specialty           0\n",
       "encounter_id                0\n",
       "race                        0\n",
       "gender                      0\n",
       "age                         0\n",
       "weight                      0\n",
       "num_lab_procedures          0\n",
       "num_procedures              0\n",
       "num_medications             0\n",
       "number_outpatient           0\n",
       "number_emergency            0\n",
       "number_inpatient            0\n",
       "max_glu_serum               0\n",
       "A1Cresult                   0\n",
       "metformin                   0\n",
       "repaglinide                 0\n",
       "nateglinide                 0\n",
       "chlorpropamide              0\n",
       "glimepiride                 0\n",
       "acetohexamide               0\n",
       "glipizide                   0\n",
       "glyburide                   0\n",
       "tolbutamide                 0\n",
       "pioglitazone                0\n",
       "rosiglitazone               0\n",
       "acarbose                    0\n",
       "miglitol                    0\n",
       "troglitazone                0\n",
       "tolazamide                  0\n",
       "examide                     0\n",
       "citoglipton                 0\n",
       "insulin                     0\n",
       "glyburide-metformin         0\n",
       "glipizide-metformin         0\n",
       "glimepiride-pioglitazone    0\n",
       "metformin-rosiglitazone     0\n",
       "metformin-pioglitazone      0\n",
       "change                      0\n",
       "diabetesMed                 0\n",
       "readmitted                  0\n",
       "dtype: int64"
      ]
     },
     "execution_count": 284,
     "metadata": {},
     "output_type": "execute_result"
    }
   ],
   "source": [
    "filtereddata.isnull().sum()"
   ]
  },
  {
   "cell_type": "code",
   "execution_count": 285,
   "metadata": {},
   "outputs": [
    {
     "data": {
      "text/plain": [
       "(77272, 50)"
      ]
     },
     "execution_count": 285,
     "metadata": {},
     "output_type": "execute_result"
    }
   ],
   "source": [
    "filtereddata.shape"
   ]
  },
  {
   "cell_type": "code",
   "execution_count": 288,
   "metadata": {},
   "outputs": [],
   "source": [
    "filtereddata.to_csv('FilteredData.csv',index=0)"
   ]
  },
  {
   "cell_type": "code",
   "execution_count": null,
   "metadata": {},
   "outputs": [],
   "source": []
  },
  {
   "cell_type": "code",
   "execution_count": 287,
   "metadata": {},
   "outputs": [
    {
     "data": {
      "text/html": [
       "<div>\n",
       "<style scoped>\n",
       "    .dataframe tbody tr th:only-of-type {\n",
       "        vertical-align: middle;\n",
       "    }\n",
       "\n",
       "    .dataframe tbody tr th {\n",
       "        vertical-align: top;\n",
       "    }\n",
       "\n",
       "    .dataframe thead th {\n",
       "        text-align: right;\n",
       "    }\n",
       "</style>\n",
       "<table border=\"1\" class=\"dataframe\">\n",
       "  <thead>\n",
       "    <tr style=\"text-align: right;\">\n",
       "      <th></th>\n",
       "      <th>patient_nbr</th>\n",
       "      <th>number_diagnoses</th>\n",
       "      <th>time_in_hospital</th>\n",
       "      <th>encounter_id</th>\n",
       "      <th>num_lab_procedures</th>\n",
       "      <th>num_procedures</th>\n",
       "      <th>num_medications</th>\n",
       "      <th>number_outpatient</th>\n",
       "      <th>number_emergency</th>\n",
       "      <th>number_inpatient</th>\n",
       "    </tr>\n",
       "  </thead>\n",
       "  <tbody>\n",
       "    <tr>\n",
       "      <th>count</th>\n",
       "      <td>7.727200e+04</td>\n",
       "      <td>77272.000000</td>\n",
       "      <td>77272.000000</td>\n",
       "      <td>7.727200e+04</td>\n",
       "      <td>77272.000000</td>\n",
       "      <td>77272.000000</td>\n",
       "      <td>77272.000000</td>\n",
       "      <td>77272.000000</td>\n",
       "      <td>77272.000000</td>\n",
       "      <td>77272.000000</td>\n",
       "    </tr>\n",
       "    <tr>\n",
       "      <th>mean</th>\n",
       "      <td>5.470419e+07</td>\n",
       "      <td>7.431786</td>\n",
       "      <td>4.487990</td>\n",
       "      <td>1.682145e+08</td>\n",
       "      <td>43.310242</td>\n",
       "      <td>1.322161</td>\n",
       "      <td>16.796679</td>\n",
       "      <td>0.381833</td>\n",
       "      <td>0.211551</td>\n",
       "      <td>0.651672</td>\n",
       "    </tr>\n",
       "    <tr>\n",
       "      <th>std</th>\n",
       "      <td>3.860828e+07</td>\n",
       "      <td>1.936586</td>\n",
       "      <td>2.993418</td>\n",
       "      <td>1.029331e+08</td>\n",
       "      <td>19.778311</td>\n",
       "      <td>1.708569</td>\n",
       "      <td>8.212286</td>\n",
       "      <td>1.302233</td>\n",
       "      <td>0.975962</td>\n",
       "      <td>1.279715</td>\n",
       "    </tr>\n",
       "    <tr>\n",
       "      <th>min</th>\n",
       "      <td>1.350000e+02</td>\n",
       "      <td>1.000000</td>\n",
       "      <td>1.000000</td>\n",
       "      <td>1.252200e+04</td>\n",
       "      <td>1.000000</td>\n",
       "      <td>0.000000</td>\n",
       "      <td>1.000000</td>\n",
       "      <td>0.000000</td>\n",
       "      <td>0.000000</td>\n",
       "      <td>0.000000</td>\n",
       "    </tr>\n",
       "    <tr>\n",
       "      <th>25%</th>\n",
       "      <td>2.354589e+07</td>\n",
       "      <td>6.000000</td>\n",
       "      <td>2.000000</td>\n",
       "      <td>8.803799e+07</td>\n",
       "      <td>32.000000</td>\n",
       "      <td>0.000000</td>\n",
       "      <td>11.000000</td>\n",
       "      <td>0.000000</td>\n",
       "      <td>0.000000</td>\n",
       "      <td>0.000000</td>\n",
       "    </tr>\n",
       "    <tr>\n",
       "      <th>50%</th>\n",
       "      <td>4.558235e+07</td>\n",
       "      <td>8.000000</td>\n",
       "      <td>4.000000</td>\n",
       "      <td>1.553654e+08</td>\n",
       "      <td>44.000000</td>\n",
       "      <td>1.000000</td>\n",
       "      <td>15.000000</td>\n",
       "      <td>0.000000</td>\n",
       "      <td>0.000000</td>\n",
       "      <td>0.000000</td>\n",
       "    </tr>\n",
       "    <tr>\n",
       "      <th>75%</th>\n",
       "      <td>8.794880e+07</td>\n",
       "      <td>9.000000</td>\n",
       "      <td>6.000000</td>\n",
       "      <td>2.344952e+08</td>\n",
       "      <td>57.000000</td>\n",
       "      <td>2.000000</td>\n",
       "      <td>21.000000</td>\n",
       "      <td>0.000000</td>\n",
       "      <td>0.000000</td>\n",
       "      <td>1.000000</td>\n",
       "    </tr>\n",
       "    <tr>\n",
       "      <th>max</th>\n",
       "      <td>1.895026e+08</td>\n",
       "      <td>16.000000</td>\n",
       "      <td>14.000000</td>\n",
       "      <td>4.438572e+08</td>\n",
       "      <td>132.000000</td>\n",
       "      <td>6.000000</td>\n",
       "      <td>81.000000</td>\n",
       "      <td>42.000000</td>\n",
       "      <td>76.000000</td>\n",
       "      <td>21.000000</td>\n",
       "    </tr>\n",
       "  </tbody>\n",
       "</table>\n",
       "</div>"
      ],
      "text/plain": [
       "        patient_nbr  number_diagnoses  time_in_hospital  encounter_id  \\\n",
       "count  7.727200e+04      77272.000000      77272.000000  7.727200e+04   \n",
       "mean   5.470419e+07          7.431786          4.487990  1.682145e+08   \n",
       "std    3.860828e+07          1.936586          2.993418  1.029331e+08   \n",
       "min    1.350000e+02          1.000000          1.000000  1.252200e+04   \n",
       "25%    2.354589e+07          6.000000          2.000000  8.803799e+07   \n",
       "50%    4.558235e+07          8.000000          4.000000  1.553654e+08   \n",
       "75%    8.794880e+07          9.000000          6.000000  2.344952e+08   \n",
       "max    1.895026e+08         16.000000         14.000000  4.438572e+08   \n",
       "\n",
       "       num_lab_procedures  num_procedures  num_medications  number_outpatient  \\\n",
       "count        77272.000000    77272.000000     77272.000000       77272.000000   \n",
       "mean            43.310242        1.322161        16.796679           0.381833   \n",
       "std             19.778311        1.708569         8.212286           1.302233   \n",
       "min              1.000000        0.000000         1.000000           0.000000   \n",
       "25%             32.000000        0.000000        11.000000           0.000000   \n",
       "50%             44.000000        1.000000        15.000000           0.000000   \n",
       "75%             57.000000        2.000000        21.000000           0.000000   \n",
       "max            132.000000        6.000000        81.000000          42.000000   \n",
       "\n",
       "       number_emergency  number_inpatient  \n",
       "count      77272.000000      77272.000000  \n",
       "mean           0.211551          0.651672  \n",
       "std            0.975962          1.279715  \n",
       "min            0.000000          0.000000  \n",
       "25%            0.000000          0.000000  \n",
       "50%            0.000000          0.000000  \n",
       "75%            0.000000          1.000000  \n",
       "max           76.000000         21.000000  "
      ]
     },
     "execution_count": 287,
     "metadata": {},
     "output_type": "execute_result"
    }
   ],
   "source": [
    "filtereddata.describe()"
   ]
  },
  {
   "cell_type": "code",
   "execution_count": 34,
   "metadata": {
    "scrolled": true
   },
   "outputs": [
    {
     "name": "stderr",
     "output_type": "stream",
     "text": [
      "C:\\Users\\user\\Anaconda3\\lib\\site-packages\\scipy\\stats\\stats.py:1713: FutureWarning: Using a non-tuple sequence for multidimensional indexing is deprecated; use `arr[tuple(seq)]` instead of `arr[seq]`. In the future this will be interpreted as an array index, `arr[np.array(seq)]`, which will result either in an error or a different result.\n",
      "  return np.add.reduce(sorted[indexer] * weights, axis=axis) / sumval\n"
     ]
    },
    {
     "data": {
      "text/plain": [
       "<matplotlib.axes._subplots.AxesSubplot at 0xad21898>"
      ]
     },
     "execution_count": 34,
     "metadata": {},
     "output_type": "execute_result"
    },
    {
     "data": {
      "image/png": "[encoded data removed]",
      "text/plain": [
       "<Figure size 432x288 with 1 Axes>"
      ]
     },
     "metadata": {
      "needs_background": "light"
     },
     "output_type": "display_data"
    }
   ],
   "source": [
    "sns.distplot(filtereddata['number_diagnoses'])"
   ]
  },
  {
   "cell_type": "code",
   "execution_count": 35,
   "metadata": {},
   "outputs": [
    {
     "data": {
      "text/plain": [
       "3.750364900195231"
      ]
     },
     "execution_count": 35,
     "metadata": {},
     "output_type": "execute_result"
    }
   ],
   "source": [
    "np.var(filtereddata['number_diagnoses'],ddof=1)"
   ]
  },
  {
   "cell_type": "code",
   "execution_count": 36,
   "metadata": {},
   "outputs": [
    {
     "data": {
      "text/plain": [
       "(77031, 50)"
      ]
     },
     "execution_count": 36,
     "metadata": {},
     "output_type": "execute_result"
    }
   ],
   "source": [
    "q1=filtereddata['number_diagnoses'].quantile(.25)\n",
    "q3=filtereddata['number_diagnoses'].quantile(.75)\n",
    "iqr=q3-q1\n",
    "lower=q1-(1.5*iqr)\n",
    "upper=q3+(1.5*iqr)\n",
    "filtereddata[(filtereddata['number_diagnoses']>=lower) & (filtereddata['number_diagnoses']<=upper)].shape"
   ]
  },
  {
   "cell_type": "code",
   "execution_count": 37,
   "metadata": {},
   "outputs": [
    {
     "data": {
      "text/plain": [
       "<matplotlib.axes._subplots.AxesSubplot at 0xad1e048>"
      ]
     },
     "execution_count": 37,
     "metadata": {},
     "output_type": "execute_result"
    },
    {
     "data": {
      "image/png": "[encoded data removed]",
      "text/plain": [
       "<Figure size 432x288 with 1 Axes>"
      ]
     },
     "metadata": {
      "needs_background": "light"
     },
     "output_type": "display_data"
    }
   ],
   "source": [
    "sns.distplot(filtereddata['time_in_hospital'])"
   ]
  },
  {
   "cell_type": "code",
   "execution_count": 38,
   "metadata": {},
   "outputs": [
    {
     "data": {
      "text/plain": [
       "8.960552537966436"
      ]
     },
     "execution_count": 38,
     "metadata": {},
     "output_type": "execute_result"
    }
   ],
   "source": [
    "np.var(filtereddata['time_in_hospital'],ddof=1)"
   ]
  },
  {
   "cell_type": "code",
   "execution_count": 39,
   "metadata": {},
   "outputs": [
    {
     "data": {
      "text/plain": [
       "<matplotlib.axes._subplots.AxesSubplot at 0xbd0bd30>"
      ]
     },
     "execution_count": 39,
     "metadata": {},
     "output_type": "execute_result"
    },
    {
     "data": {
      "image/png": "[encoded data removed]",
      "text/plain": [
       "<Figure size 432x288 with 1 Axes>"
      ]
     },
     "metadata": {
      "needs_background": "light"
     },
     "output_type": "display_data"
    }
   ],
   "source": [
    "sns.distplot(filtereddata['num_lab_procedures'])"
   ]
  },
  {
   "cell_type": "code",
   "execution_count": 40,
   "metadata": {},
   "outputs": [
    {
     "data": {
      "text/plain": [
       "391.1815762017714"
      ]
     },
     "execution_count": 40,
     "metadata": {},
     "output_type": "execute_result"
    }
   ],
   "source": [
    "np.var(filtereddata['num_lab_procedures'],ddof=1)"
   ]
  },
  {
   "cell_type": "code",
   "execution_count": 41,
   "metadata": {},
   "outputs": [
    {
     "data": {
      "text/plain": [
       "<matplotlib.axes._subplots.AxesSubplot at 0xc5ca198>"
      ]
     },
     "execution_count": 41,
     "metadata": {},
     "output_type": "execute_result"
    },
    {
     "data": {
      "image/png": "[encoded data removed]",
      "text/plain": [
       "<Figure size 432x288 with 1 Axes>"
      ]
     },
     "metadata": {
      "needs_background": "light"
     },
     "output_type": "display_data"
    }
   ],
   "source": [
    "sns.distplot(filtereddata['num_procedures'])"
   ]
  },
  {
   "cell_type": "code",
   "execution_count": 42,
   "metadata": {},
   "outputs": [
    {
     "data": {
      "text/plain": [
       "2.91920813827761"
      ]
     },
     "execution_count": 42,
     "metadata": {},
     "output_type": "execute_result"
    }
   ],
   "source": [
    "np.var(filtereddata['num_procedures'],ddof=1)"
   ]
  },
  {
   "cell_type": "code",
   "execution_count": 43,
   "metadata": {},
   "outputs": [
    {
     "data": {
      "text/plain": [
       "<matplotlib.axes._subplots.AxesSubplot at 0xad18630>"
      ]
     },
     "execution_count": 43,
     "metadata": {},
     "output_type": "execute_result"
    },
    {
     "data": {
      "image/png": "[encoded data removed]",
      "text/plain": [
       "<Figure size 432x288 with 1 Axes>"
      ]
     },
     "metadata": {
      "needs_background": "light"
     },
     "output_type": "display_data"
    }
   ],
   "source": [
    "sns.distplot(filtereddata['num_medications'])"
   ]
  },
  {
   "cell_type": "code",
   "execution_count": 44,
   "metadata": {},
   "outputs": [
    {
     "data": {
      "text/plain": [
       "67.44163564466996"
      ]
     },
     "execution_count": 44,
     "metadata": {},
     "output_type": "execute_result"
    }
   ],
   "source": [
    "np.var(filtereddata['num_medications'],ddof=1)"
   ]
  },
  {
   "cell_type": "code",
   "execution_count": 45,
   "metadata": {
    "scrolled": true
   },
   "outputs": [
    {
     "data": {
      "text/plain": [
       "<matplotlib.axes._subplots.AxesSubplot at 0xdbd03c8>"
      ]
     },
     "execution_count": 45,
     "metadata": {},
     "output_type": "execute_result"
    },
    {
     "data": {
      "image/png": "[encoded data removed]",
      "text/plain": [
       "<Figure size 432x288 with 1 Axes>"
      ]
     },
     "metadata": {
      "needs_background": "light"
     },
     "output_type": "display_data"
    }
   ],
   "source": [
    "sns.distplot(filtereddata['number_emergency'])"
   ]
  },
  {
   "cell_type": "code",
   "execution_count": 46,
   "metadata": {},
   "outputs": [
    {
     "data": {
      "text/plain": [
       "0.952501834036541"
      ]
     },
     "execution_count": 46,
     "metadata": {},
     "output_type": "execute_result"
    }
   ],
   "source": [
    "np.var(filtereddata['number_emergency'],ddof=1)"
   ]
  },
  {
   "cell_type": "code",
   "execution_count": 47,
   "metadata": {
    "scrolled": true
   },
   "outputs": [
    {
     "data": {
      "text/plain": [
       "<matplotlib.axes._subplots.AxesSubplot at 0xdcae860>"
      ]
     },
     "execution_count": 47,
     "metadata": {},
     "output_type": "execute_result"
    },
    {
     "data": {
      "image/png": "[encoded data removed]",
      "text/plain": [
       "<Figure size 432x288 with 1 Axes>"
      ]
     },
     "metadata": {
      "needs_background": "light"
     },
     "output_type": "display_data"
    }
   ],
   "source": [
    "sns.distplot(filtereddata['number_inpatient'])"
   ]
  },
  {
   "cell_type": "code",
   "execution_count": 48,
   "metadata": {},
   "outputs": [
    {
     "data": {
      "text/plain": [
       "1.6376700699547073"
      ]
     },
     "execution_count": 48,
     "metadata": {},
     "output_type": "execute_result"
    }
   ],
   "source": [
    "np.var(filtereddata['number_inpatient'],ddof=1)"
   ]
  },
  {
   "cell_type": "code",
   "execution_count": 49,
   "metadata": {
    "scrolled": true
   },
   "outputs": [
    {
     "data": {
      "text/plain": [
       "<matplotlib.axes._subplots.AxesSubplot at 0xdd81a58>"
      ]
     },
     "execution_count": 49,
     "metadata": {},
     "output_type": "execute_result"
    },
    {
     "data": {
      "image/png": "[encoded data removed]",
      "text/plain": [
       "<Figure size 432x288 with 1 Axes>"
      ]
     },
     "metadata": {
      "needs_background": "light"
     },
     "output_type": "display_data"
    }
   ],
   "source": [
    "sns.distplot(filtereddata['number_outpatient'])"
   ]
  },
  {
   "cell_type": "code",
   "execution_count": 50,
   "metadata": {},
   "outputs": [
    {
     "data": {
      "text/plain": [
       "1.6958110697810402"
      ]
     },
     "execution_count": 50,
     "metadata": {},
     "output_type": "execute_result"
    }
   ],
   "source": [
    "np.var(filtereddata['number_outpatient'],ddof=1)"
   ]
  },
  {
   "cell_type": "code",
   "execution_count": 51,
   "metadata": {},
   "outputs": [
    {
     "data": {
      "text/plain": [
       "55428"
      ]
     },
     "execution_count": 51,
     "metadata": {},
     "output_type": "execute_result"
    }
   ],
   "source": [
    "filtereddata['patient_nbr'].nunique()"
   ]
  },
  {
   "cell_type": "code",
   "execution_count": 289,
   "metadata": {},
   "outputs": [],
   "source": [
    "import scipy.stats.mstats as mstats"
   ]
  },
  {
   "cell_type": "code",
   "execution_count": 187,
   "metadata": {},
   "outputs": [],
   "source": [
    "a=mstats.winsorize(a=filtereddata['number_diagnoses'],limits=[0.05,0.05]) # 90%"
   ]
  },
  {
   "cell_type": "code",
   "execution_count": 188,
   "metadata": {},
   "outputs": [
    {
     "name": "stderr",
     "output_type": "stream",
     "text": [
      "C:\\Users\\user\\Anaconda3\\lib\\site-packages\\scipy\\stats\\stats.py:1713: FutureWarning: Using a non-tuple sequence for multidimensional indexing is deprecated; use `arr[tuple(seq)]` instead of `arr[seq]`. In the future this will be interpreted as an array index, `arr[np.array(seq)]`, which will result either in an error or a different result.\n",
      "  return np.add.reduce(sorted[indexer] * weights, axis=axis) / sumval\n"
     ]
    },
    {
     "data": {
      "text/plain": [
       "<matplotlib.axes._subplots.AxesSubplot at 0xb2fa6d8>"
      ]
     },
     "execution_count": 188,
     "metadata": {},
     "output_type": "execute_result"
    },
    {
     "data": {
      "image/png": "[encoded data removed]",
      "text/plain": [
       "<Figure size 432x288 with 1 Axes>"
      ]
     },
     "metadata": {
      "needs_background": "light"
     },
     "output_type": "display_data"
    }
   ],
   "source": [
    "sns.distplot(a)"
   ]
  },
  {
   "cell_type": "code",
   "execution_count": 55,
   "metadata": {},
   "outputs": [
    {
     "data": {
      "text/plain": [
       "array([ 9,  6,  7,  5,  8,  3,  4,  1,  2, 16, 13, 10, 12, 11, 14, 15],\n",
       "      dtype=int64)"
      ]
     },
     "execution_count": 55,
     "metadata": {},
     "output_type": "execute_result"
    }
   ],
   "source": [
    "filtereddata['number_diagnoses'].unique()"
   ]
  },
  {
   "cell_type": "code",
   "execution_count": 56,
   "metadata": {},
   "outputs": [
    {
     "data": {
      "text/plain": [
       "9     37880\n",
       "5      8769\n",
       "8      8015\n",
       "7      7843\n",
       "6      7438\n",
       "4      4141\n",
       "3      2108\n",
       "2       795\n",
       "1       196\n",
       "16       32\n",
       "13       14\n",
       "10       14\n",
       "11       10\n",
       "15        7\n",
       "14        6\n",
       "12        4\n",
       "Name: number_diagnoses, dtype: int64"
      ]
     },
     "execution_count": 56,
     "metadata": {},
     "output_type": "execute_result"
    }
   ],
   "source": [
    "filtereddata['number_diagnoses'].value_counts()"
   ]
  },
  {
   "cell_type": "code",
   "execution_count": 57,
   "metadata": {},
   "outputs": [
    {
     "data": {
      "text/plain": [
       "array([9, 6, 7, 5, 8, 4], dtype=int64)"
      ]
     },
     "execution_count": 57,
     "metadata": {},
     "output_type": "execute_result"
    }
   ],
   "source": [
    "pd.Series(a).unique()"
   ]
  },
  {
   "cell_type": "code",
   "execution_count": 58,
   "metadata": {
    "scrolled": true
   },
   "outputs": [
    {
     "data": {
      "text/plain": [
       "<matplotlib.axes._subplots.AxesSubplot at 0x11ccb828>"
      ]
     },
     "execution_count": 58,
     "metadata": {},
     "output_type": "execute_result"
    },
    {
     "data": {
      "image/png": "[encoded data removed]",
      "text/plain": [
       "<Figure size 432x288 with 1 Axes>"
      ]
     },
     "metadata": {
      "needs_background": "light"
     },
     "output_type": "display_data"
    }
   ],
   "source": [
    "b=mstats.winsorize(a=filtereddata['number_diagnoses'],limits=[0.025,0.025]) # 95% \n",
    "sns.distplot(b)"
   ]
  },
  {
   "cell_type": "code",
   "execution_count": 59,
   "metadata": {},
   "outputs": [
    {
     "data": {
      "text/plain": [
       "<matplotlib.axes._subplots.AxesSubplot at 0x11d9b0f0>"
      ]
     },
     "execution_count": 59,
     "metadata": {},
     "output_type": "execute_result"
    },
    {
     "data": {
      "image/png": "[encoded data removed]",
      "text/plain": [
       "<Figure size 432x288 with 1 Axes>"
      ]
     },
     "metadata": {
      "needs_background": "light"
     },
     "output_type": "display_data"
    }
   ],
   "source": [
    "c=mstats.winsorize(a=filtereddata['number_diagnoses'],limits=[0.005,0.005]) # 99% \n",
    "sns.distplot(c)"
   ]
  },
  {
   "cell_type": "code",
   "execution_count": 60,
   "metadata": {
    "scrolled": true
   },
   "outputs": [
    {
     "data": {
      "text/plain": [
       "array([9, 6, 7, 5, 8, 3, 4], dtype=int64)"
      ]
     },
     "execution_count": 60,
     "metadata": {},
     "output_type": "execute_result"
    }
   ],
   "source": [
    "pd.Series(b).unique()"
   ]
  },
  {
   "cell_type": "code",
   "execution_count": 61,
   "metadata": {},
   "outputs": [
    {
     "data": {
      "text/plain": [
       "array([9, 6, 7, 5, 8, 3, 4, 2], dtype=int64)"
      ]
     },
     "execution_count": 61,
     "metadata": {},
     "output_type": "execute_result"
    }
   ],
   "source": [
    "pd.Series(c).unique()"
   ]
  },
  {
   "cell_type": "code",
   "execution_count": 62,
   "metadata": {},
   "outputs": [
    {
     "data": {
      "text/plain": [
       "<matplotlib.axes._subplots.AxesSubplot at 0x11e663c8>"
      ]
     },
     "execution_count": 62,
     "metadata": {},
     "output_type": "execute_result"
    },
    {
     "data": {
      "image/png": "[encoded data removed]",
      "text/plain": [
       "<Figure size 432x288 with 1 Axes>"
      ]
     },
     "metadata": {
      "needs_background": "light"
     },
     "output_type": "display_data"
    }
   ],
   "source": [
    "sns.boxplot(filtereddata['number_diagnoses'])"
   ]
  },
  {
   "cell_type": "code",
   "execution_count": 63,
   "metadata": {},
   "outputs": [
    {
     "data": {
      "text/plain": [
       "<matplotlib.axes._subplots.AxesSubplot at 0x11ec6da0>"
      ]
     },
     "execution_count": 63,
     "metadata": {},
     "output_type": "execute_result"
    },
    {
     "data": {
      "image/png": "[encoded data removed]",
      "text/plain": [
       "<Figure size 432x288 with 1 Axes>"
      ]
     },
     "metadata": {
      "needs_background": "light"
     },
     "output_type": "display_data"
    }
   ],
   "source": [
    "sns.boxplot(a) # 90%"
   ]
  },
  {
   "cell_type": "code",
   "execution_count": 64,
   "metadata": {},
   "outputs": [
    {
     "data": {
      "text/plain": [
       "<matplotlib.axes._subplots.AxesSubplot at 0x11f190b8>"
      ]
     },
     "execution_count": 64,
     "metadata": {},
     "output_type": "execute_result"
    },
    {
     "data": {
      "image/png": "[encoded data removed]",
      "text/plain": [
       "<Figure size 432x288 with 1 Axes>"
      ]
     },
     "metadata": {
      "needs_background": "light"
     },
     "output_type": "display_data"
    }
   ],
   "source": [
    "sns.boxplot(b) # 95%"
   ]
  },
  {
   "cell_type": "code",
   "execution_count": 65,
   "metadata": {},
   "outputs": [
    {
     "data": {
      "text/plain": [
       "<matplotlib.axes._subplots.AxesSubplot at 0x11f75f60>"
      ]
     },
     "execution_count": 65,
     "metadata": {},
     "output_type": "execute_result"
    },
    {
     "data": {
      "image/png": "[encoded data removed]",
      "text/plain": [
       "<Figure size 432x288 with 1 Axes>"
      ]
     },
     "metadata": {
      "needs_background": "light"
     },
     "output_type": "display_data"
    }
   ],
   "source": [
    "sns.boxplot(c) # 95%"
   ]
  },
  {
   "cell_type": "markdown",
   "metadata": {},
   "source": [
    "#### Missing value treatment"
   ]
  },
  {
   "cell_type": "code",
   "execution_count": 189,
   "metadata": {},
   "outputs": [
    {
     "data": {
      "text/plain": [
       "Index(['patient_nbr', 'diag_1', 'diag_2', 'diag_3', 'number_diagnoses',\n",
       "       'admission_type_id', 'discharge_disposition_id', 'admission_source_id',\n",
       "       'time_in_hospital', 'payer_code', 'medical_specialty', 'encounter_id',\n",
       "       'race', 'gender', 'age', 'weight', 'num_lab_procedures',\n",
       "       'num_procedures', 'num_medications', 'number_outpatient',\n",
       "       'number_emergency', 'number_inpatient', 'max_glu_serum', 'A1Cresult',\n",
       "       'metformin', 'repaglinide', 'nateglinide', 'chlorpropamide',\n",
       "       'glimepiride', 'acetohexamide', 'glipizide', 'glyburide', 'tolbutamide',\n",
       "       'pioglitazone', 'rosiglitazone', 'acarbose', 'miglitol', 'troglitazone',\n",
       "       'tolazamide', 'examide', 'citoglipton', 'insulin',\n",
       "       'glyburide-metformin', 'glipizide-metformin',\n",
       "       'glimepiride-pioglitazone', 'metformin-rosiglitazone',\n",
       "       'metformin-pioglitazone', 'change', 'diabetesMed', 'readmitted'],\n",
       "      dtype='object')"
      ]
     },
     "execution_count": 189,
     "metadata": {},
     "output_type": "execute_result"
    }
   ],
   "source": [
    "filtereddata.columns"
   ]
  },
  {
   "cell_type": "code",
   "execution_count": 290,
   "metadata": {},
   "outputs": [
    {
     "data": {
      "text/plain": [
       "(77272, 50)"
      ]
     },
     "execution_count": 290,
     "metadata": {},
     "output_type": "execute_result"
    }
   ],
   "source": [
    "filtereddata.shape"
   ]
  },
  {
   "cell_type": "code",
   "execution_count": 291,
   "metadata": {},
   "outputs": [
    {
     "data": {
      "text/plain": [
       "patient_nbr                 0\n",
       "diag_1                      0\n",
       "diag_2                      0\n",
       "diag_3                      0\n",
       "number_diagnoses            0\n",
       "admission_type_id           0\n",
       "discharge_disposition_id    0\n",
       "admission_source_id         0\n",
       "time_in_hospital            0\n",
       "payer_code                  0\n",
       "medical_specialty           0\n",
       "encounter_id                0\n",
       "race                        0\n",
       "gender                      0\n",
       "age                         0\n",
       "weight                      0\n",
       "num_lab_procedures          0\n",
       "num_procedures              0\n",
       "num_medications             0\n",
       "number_outpatient           0\n",
       "number_emergency            0\n",
       "number_inpatient            0\n",
       "max_glu_serum               0\n",
       "A1Cresult                   0\n",
       "metformin                   0\n",
       "repaglinide                 0\n",
       "nateglinide                 0\n",
       "chlorpropamide              0\n",
       "glimepiride                 0\n",
       "acetohexamide               0\n",
       "glipizide                   0\n",
       "glyburide                   0\n",
       "tolbutamide                 0\n",
       "pioglitazone                0\n",
       "rosiglitazone               0\n",
       "acarbose                    0\n",
       "miglitol                    0\n",
       "troglitazone                0\n",
       "tolazamide                  0\n",
       "examide                     0\n",
       "citoglipton                 0\n",
       "insulin                     0\n",
       "glyburide-metformin         0\n",
       "glipizide-metformin         0\n",
       "glimepiride-pioglitazone    0\n",
       "metformin-rosiglitazone     0\n",
       "metformin-pioglitazone      0\n",
       "change                      0\n",
       "diabetesMed                 0\n",
       "readmitted                  0\n",
       "dtype: int64"
      ]
     },
     "execution_count": 291,
     "metadata": {},
     "output_type": "execute_result"
    }
   ],
   "source": [
    "filtereddata.isnull().sum()"
   ]
  },
  {
   "cell_type": "code",
   "execution_count": 292,
   "metadata": {},
   "outputs": [
    {
     "data": {
      "text/plain": [
       "55428"
      ]
     },
     "execution_count": 292,
     "metadata": {},
     "output_type": "execute_result"
    }
   ],
   "source": [
    "filtereddata['patient_nbr'].nunique()"
   ]
  },
  {
   "cell_type": "code",
   "execution_count": 293,
   "metadata": {},
   "outputs": [
    {
     "data": {
      "text/plain": [
       "(15, 50)"
      ]
     },
     "execution_count": 293,
     "metadata": {},
     "output_type": "execute_result"
    }
   ],
   "source": [
    "filtereddata[filtereddata['diag_1']=='?'].shape"
   ]
  },
  {
   "cell_type": "code",
   "execution_count": 294,
   "metadata": {},
   "outputs": [
    {
     "name": "stderr",
     "output_type": "stream",
     "text": [
      "C:\\Users\\user\\Anaconda3\\lib\\site-packages\\pandas\\core\\generic.py:5890: SettingWithCopyWarning: \n",
      "A value is trying to be set on a copy of a slice from a DataFrame\n",
      "\n",
      "See the caveats in the documentation: http://pandas.pydata.org/pandas-docs/stable/indexing.html#indexing-view-versus-copy\n",
      "  self._update_inplace(new_data)\n"
     ]
    }
   ],
   "source": [
    "filtereddata['diag_1'].replace({'?':'missing'},inplace=True)"
   ]
  },
  {
   "cell_type": "code",
   "execution_count": 295,
   "metadata": {},
   "outputs": [
    {
     "data": {
      "text/plain": [
       "(0, 50)"
      ]
     },
     "execution_count": 295,
     "metadata": {},
     "output_type": "execute_result"
    }
   ],
   "source": [
    "filtereddata[filtereddata['diag_1']=='?'].shape"
   ]
  },
  {
   "cell_type": "code",
   "execution_count": 296,
   "metadata": {},
   "outputs": [
    {
     "data": {
      "text/plain": [
       "(301, 50)"
      ]
     },
     "execution_count": 296,
     "metadata": {},
     "output_type": "execute_result"
    }
   ],
   "source": [
    "filtereddata[filtereddata['diag_2']=='?'].shape"
   ]
  },
  {
   "cell_type": "code",
   "execution_count": 297,
   "metadata": {},
   "outputs": [],
   "source": [
    "filtereddata['diag_2'].replace({'?':'missing'},inplace=True)"
   ]
  },
  {
   "cell_type": "code",
   "execution_count": 298,
   "metadata": {},
   "outputs": [
    {
     "data": {
      "text/plain": [
       "(0, 50)"
      ]
     },
     "execution_count": 298,
     "metadata": {},
     "output_type": "execute_result"
    }
   ],
   "source": [
    "filtereddata[filtereddata['diag_2']=='?'].shape"
   ]
  },
  {
   "cell_type": "code",
   "execution_count": 299,
   "metadata": {},
   "outputs": [
    {
     "data": {
      "text/plain": [
       "(1128, 50)"
      ]
     },
     "execution_count": 299,
     "metadata": {},
     "output_type": "execute_result"
    }
   ],
   "source": [
    "filtereddata[filtereddata['diag_3']=='?'].shape"
   ]
  },
  {
   "cell_type": "code",
   "execution_count": 300,
   "metadata": {},
   "outputs": [],
   "source": [
    "filtereddata['diag_3'].replace({'?':'missing'},inplace=True)"
   ]
  },
  {
   "cell_type": "code",
   "execution_count": 301,
   "metadata": {},
   "outputs": [
    {
     "data": {
      "text/plain": [
       "(0, 50)"
      ]
     },
     "execution_count": 301,
     "metadata": {},
     "output_type": "execute_result"
    }
   ],
   "source": [
    "filtereddata[filtereddata['diag_3']=='?'].shape"
   ]
  },
  {
   "cell_type": "code",
   "execution_count": 302,
   "metadata": {},
   "outputs": [
    {
     "data": {
      "text/plain": [
       "?                                       37430\n",
       "InternalMedicine                        11195\n",
       "Emergency/Trauma                         6177\n",
       "Family/GeneralPractice                   5730\n",
       "Cardiology                               3974\n",
       "Surgery-General                          2254\n",
       "Orthopedics                              1127\n",
       "Nephrology                               1122\n",
       "Orthopedics-Reconstructive                962\n",
       "Radiologist                               883\n",
       "Pulmonology                               687\n",
       "Psychiatry                                662\n",
       "Surgery-Cardiovascular/Thoracic           554\n",
       "Urology                                   481\n",
       "ObstetricsandGynecology                   439\n",
       "Gastroenterology                          427\n",
       "Surgery-Vascular                          415\n",
       "Surgery-Neuro                             356\n",
       "PhysicalMedicineandRehabilitation         309\n",
       "Oncology                                  229\n",
       "Pediatrics                                188\n",
       "Neurology                                 166\n",
       "Hematology/Oncology                       152\n",
       "Pediatrics-Endocrinology                  147\n",
       "Endocrinology                             106\n",
       "Otolaryngology                             96\n",
       "Podiatry                                   91\n",
       "Surgery-Thoracic                           91\n",
       "Psychology                                 88\n",
       "Pediatrics-CriticalCare                    86\n",
       "                                        ...  \n",
       "Obsterics&Gynecology-GynecologicOnco       17\n",
       "Rheumatology                               16\n",
       "OutreachServices                           11\n",
       "Obstetrics                                 10\n",
       "Pathology                                   9\n",
       "Anesthesiology                              8\n",
       "Surgery-Maxillofacial                       7\n",
       "Pediatrics-Neurology                        7\n",
       "PhysicianNotFound                           7\n",
       "Psychiatry-Child/Adolescent                 7\n",
       "Cardiology-Pediatric                        6\n",
       "Endocrinology-Metabolism                    6\n",
       "DCPTEAM                                     4\n",
       "Surgery-Pediatric                           4\n",
       "Surgery-Colon&Rectal                        4\n",
       "AllergyandImmunology                        4\n",
       "Pediatrics-Hematology-Oncology              4\n",
       "Pediatrics-EmergencyMedicine                3\n",
       "Pediatrics-AllergyandImmunology             3\n",
       "Resident                                    2\n",
       "Dentistry                                   2\n",
       "Proctology                                  1\n",
       "Psychiatry-Addictive                        1\n",
       "SportsMedicine                              1\n",
       "Perinatology                                1\n",
       "Surgery-PlasticwithinHeadandNeck            1\n",
       "Pediatrics-InfectiousDiseases               1\n",
       "Neurophysiology                             1\n",
       "Dermatology                                 1\n",
       "Speech                                      1\n",
       "Name: medical_specialty, Length: 73, dtype: int64"
      ]
     },
     "execution_count": 302,
     "metadata": {},
     "output_type": "execute_result"
    }
   ],
   "source": [
    "filtereddata['medical_specialty'].value_counts()"
   ]
  },
  {
   "cell_type": "code",
   "execution_count": 303,
   "metadata": {},
   "outputs": [
    {
     "data": {
      "text/plain": [
       "missing                                 37430\n",
       "InternalMedicine                        11195\n",
       "Emergency/Trauma                         6177\n",
       "Family/GeneralPractice                   5730\n",
       "Cardiology                               3974\n",
       "Surgery-General                          2254\n",
       "Orthopedics                              1127\n",
       "Nephrology                               1122\n",
       "Orthopedics-Reconstructive                962\n",
       "Radiologist                               883\n",
       "Pulmonology                               687\n",
       "Psychiatry                                662\n",
       "Surgery-Cardiovascular/Thoracic           554\n",
       "Urology                                   481\n",
       "ObstetricsandGynecology                   439\n",
       "Gastroenterology                          427\n",
       "Surgery-Vascular                          415\n",
       "Surgery-Neuro                             356\n",
       "PhysicalMedicineandRehabilitation         309\n",
       "Oncology                                  229\n",
       "Pediatrics                                188\n",
       "Neurology                                 166\n",
       "Hematology/Oncology                       152\n",
       "Pediatrics-Endocrinology                  147\n",
       "Endocrinology                             106\n",
       "Otolaryngology                             96\n",
       "Surgery-Thoracic                           91\n",
       "Podiatry                                   91\n",
       "Psychology                                 88\n",
       "Pediatrics-CriticalCare                    86\n",
       "                                        ...  \n",
       "Obsterics&Gynecology-GynecologicOnco       17\n",
       "Rheumatology                               16\n",
       "OutreachServices                           11\n",
       "Obstetrics                                 10\n",
       "Pathology                                   9\n",
       "Anesthesiology                              8\n",
       "Surgery-Maxillofacial                       7\n",
       "Pediatrics-Neurology                        7\n",
       "Psychiatry-Child/Adolescent                 7\n",
       "PhysicianNotFound                           7\n",
       "Cardiology-Pediatric                        6\n",
       "Endocrinology-Metabolism                    6\n",
       "Surgery-Pediatric                           4\n",
       "Surgery-Colon&Rectal                        4\n",
       "AllergyandImmunology                        4\n",
       "DCPTEAM                                     4\n",
       "Pediatrics-Hematology-Oncology              4\n",
       "Pediatrics-EmergencyMedicine                3\n",
       "Pediatrics-AllergyandImmunology             3\n",
       "Resident                                    2\n",
       "Dentistry                                   2\n",
       "Proctology                                  1\n",
       "Psychiatry-Addictive                        1\n",
       "SportsMedicine                              1\n",
       "Perinatology                                1\n",
       "Surgery-PlasticwithinHeadandNeck            1\n",
       "Pediatrics-InfectiousDiseases               1\n",
       "Neurophysiology                             1\n",
       "Dermatology                                 1\n",
       "Speech                                      1\n",
       "Name: medical_specialty, Length: 73, dtype: int64"
      ]
     },
     "execution_count": 303,
     "metadata": {},
     "output_type": "execute_result"
    }
   ],
   "source": [
    "filtereddata['medical_specialty'].replace({'?':'missing'},inplace=True) # as close to 50% data is missing, we cannot replace with mode\n",
    "filtereddata['medical_specialty'].value_counts()"
   ]
  },
  {
   "cell_type": "code",
   "execution_count": 304,
   "metadata": {},
   "outputs": [
    {
     "data": {
      "text/plain": [
       "Caucasian          57631\n",
       "AfricanAmerican    14578\n",
       "?                   1848\n",
       "Hispanic            1543\n",
       "Other               1202\n",
       "Asian                470\n",
       "Name: race, dtype: int64"
      ]
     },
     "execution_count": 304,
     "metadata": {},
     "output_type": "execute_result"
    }
   ],
   "source": [
    "filtereddata['race'].value_counts()"
   ]
  },
  {
   "cell_type": "code",
   "execution_count": 305,
   "metadata": {},
   "outputs": [
    {
     "data": {
      "text/plain": [
       "Caucasian          59479\n",
       "AfricanAmerican    14578\n",
       "Hispanic            1543\n",
       "Other               1202\n",
       "Asian                470\n",
       "Name: race, dtype: int64"
      ]
     },
     "execution_count": 305,
     "metadata": {},
     "output_type": "execute_result"
    }
   ],
   "source": [
    "filtereddata['race'].replace({'?':'Caucasian'},inplace=True) # replacing with mode-caucasian\n",
    "filtereddata['race'].value_counts()"
   ]
  },
  {
   "cell_type": "code",
   "execution_count": 306,
   "metadata": {},
   "outputs": [
    {
     "data": {
      "text/plain": [
       "Female             41223\n",
       "Male               36047\n",
       "Unknown/Invalid        2\n",
       "Name: gender, dtype: int64"
      ]
     },
     "execution_count": 306,
     "metadata": {},
     "output_type": "execute_result"
    }
   ],
   "source": [
    "filtereddata['gender'].value_counts()"
   ]
  },
  {
   "cell_type": "code",
   "execution_count": 307,
   "metadata": {},
   "outputs": [
    {
     "data": {
      "text/plain": [
       "Female    41225\n",
       "Male      36047\n",
       "Name: gender, dtype: int64"
      ]
     },
     "execution_count": 307,
     "metadata": {},
     "output_type": "execute_result"
    }
   ],
   "source": [
    "filtereddata['gender'].replace({'Unknown/Invalid':'Female'},inplace=True)\n",
    "# replacing Unknown/Invalid with mode - Female\n",
    "filtereddata['gender'].value_counts()"
   ]
  },
  {
   "cell_type": "markdown",
   "metadata": {},
   "source": [
    "#### 24 drug columns have no null/missing values\n",
    "\n",
    "#### Other columns have no nulls or missing vals\n",
    "\n",
    "#### Columns having missing values or ? or unknowns are \n",
    "\n",
    "1. Race - 2273 missing vals have been replaced by mode - caucasian\n",
    "\n",
    "2. Gender - 3 unknown vals were replaced with mode - Female\n",
    "\n",
    "3. payer code - 40% vals are missing - no clear mode\n",
    "\n",
    "4. medical speciality - 50% vals are missing - no clear mode\n",
    "\n",
    "5. Weight - 97% vals are missing\n",
    "\n",
    "6. diag1 - have been handled as a new category - missing\n",
    "\n",
    "7. diag2 - have been handled as a new category - missing\n",
    "\n",
    "8. diag3 - have been handled as a new category - missing\n",
    "\n",
    "9. Examide - all values are NO\n",
    "\n",
    "10. Citoglipton - all values are NO"
   ]
  },
  {
   "cell_type": "markdown",
   "metadata": {},
   "source": [
    "### dropping unnecessary columns with high no. of missing vals or having no useful info"
   ]
  },
  {
   "cell_type": "code",
   "execution_count": 308,
   "metadata": {},
   "outputs": [
    {
     "name": "stderr",
     "output_type": "stream",
     "text": [
      "C:\\Users\\user\\Anaconda3\\lib\\site-packages\\pandas\\core\\frame.py:3697: SettingWithCopyWarning: \n",
      "A value is trying to be set on a copy of a slice from a DataFrame\n",
      "\n",
      "See the caveats in the documentation: http://pandas.pydata.org/pandas-docs/stable/indexing.html#indexing-view-versus-copy\n",
      "  errors=errors)\n"
     ]
    }
   ],
   "source": [
    "filtereddata.drop(['weight','payer_code','medical_specialty','examide','citoglipton'],axis=1,inplace=True)"
   ]
  },
  {
   "cell_type": "code",
   "execution_count": 309,
   "metadata": {},
   "outputs": [],
   "source": []
  },
  {
   "cell_type": "code",
   "execution_count": 311,
   "metadata": {},
   "outputs": [],
   "source": [
    "copymedyes = filtereddata.copy()"
   ]
  },
  {
   "cell_type": "code",
   "execution_count": 312,
   "metadata": {},
   "outputs": [
    {
     "data": {
      "text/plain": [
       "Index(['patient_nbr', 'diag_1', 'diag_2', 'diag_3', 'number_diagnoses',\n",
       "       'admission_type_id', 'discharge_disposition_id', 'admission_source_id',\n",
       "       'time_in_hospital', 'encounter_id', 'race', 'gender', 'age',\n",
       "       'num_lab_procedures', 'num_procedures', 'num_medications',\n",
       "       'number_outpatient', 'number_emergency', 'number_inpatient',\n",
       "       'max_glu_serum', 'A1Cresult', 'metformin', 'repaglinide', 'nateglinide',\n",
       "       'chlorpropamide', 'glimepiride', 'acetohexamide', 'glipizide',\n",
       "       'glyburide', 'tolbutamide', 'pioglitazone', 'rosiglitazone', 'acarbose',\n",
       "       'miglitol', 'troglitazone', 'tolazamide', 'insulin',\n",
       "       'glyburide-metformin', 'glipizide-metformin',\n",
       "       'glimepiride-pioglitazone', 'metformin-rosiglitazone',\n",
       "       'metformin-pioglitazone', 'change', 'diabetesMed', 'readmitted'],\n",
       "      dtype='object')"
      ]
     },
     "execution_count": 312,
     "metadata": {},
     "output_type": "execute_result"
    }
   ],
   "source": [
    "copymedyes.columns"
   ]
  },
  {
   "cell_type": "code",
   "execution_count": 313,
   "metadata": {},
   "outputs": [],
   "source": [
    "copymedyes.iloc[:,21:42]=copymedyes.iloc[:,21:42].replace(['No','Up','Down','Steady'],[0,1,1,1])"
   ]
  },
  {
   "cell_type": "code",
   "execution_count": 314,
   "metadata": {},
   "outputs": [
    {
     "data": {
      "text/html": [
       "<div>\n",
       "<style scoped>\n",
       "    .dataframe tbody tr th:only-of-type {\n",
       "        vertical-align: middle;\n",
       "    }\n",
       "\n",
       "    .dataframe tbody tr th {\n",
       "        vertical-align: top;\n",
       "    }\n",
       "\n",
       "    .dataframe thead th {\n",
       "        text-align: right;\n",
       "    }\n",
       "</style>\n",
       "<table border=\"1\" class=\"dataframe\">\n",
       "  <thead>\n",
       "    <tr style=\"text-align: right;\">\n",
       "      <th></th>\n",
       "      <th>patient_nbr</th>\n",
       "      <th>diag_1</th>\n",
       "      <th>diag_2</th>\n",
       "      <th>diag_3</th>\n",
       "      <th>number_diagnoses</th>\n",
       "      <th>admission_type_id</th>\n",
       "      <th>discharge_disposition_id</th>\n",
       "      <th>admission_source_id</th>\n",
       "      <th>time_in_hospital</th>\n",
       "      <th>encounter_id</th>\n",
       "      <th>...</th>\n",
       "      <th>tolazamide</th>\n",
       "      <th>insulin</th>\n",
       "      <th>glyburide-metformin</th>\n",
       "      <th>glipizide-metformin</th>\n",
       "      <th>glimepiride-pioglitazone</th>\n",
       "      <th>metformin-rosiglitazone</th>\n",
       "      <th>metformin-pioglitazone</th>\n",
       "      <th>change</th>\n",
       "      <th>diabetesMed</th>\n",
       "      <th>readmitted</th>\n",
       "    </tr>\n",
       "  </thead>\n",
       "  <tbody>\n",
       "    <tr>\n",
       "      <th>1</th>\n",
       "      <td>55629189</td>\n",
       "      <td>276</td>\n",
       "      <td>250.01</td>\n",
       "      <td>255</td>\n",
       "      <td>9</td>\n",
       "      <td>Emergency</td>\n",
       "      <td>ToHome</td>\n",
       "      <td>EmergencyRoom</td>\n",
       "      <td>3</td>\n",
       "      <td>149190</td>\n",
       "      <td>...</td>\n",
       "      <td>0</td>\n",
       "      <td>1</td>\n",
       "      <td>0</td>\n",
       "      <td>0</td>\n",
       "      <td>0</td>\n",
       "      <td>0</td>\n",
       "      <td>0</td>\n",
       "      <td>Ch</td>\n",
       "      <td>Yes</td>\n",
       "      <td>&gt;30</td>\n",
       "    </tr>\n",
       "    <tr>\n",
       "      <th>2</th>\n",
       "      <td>86047875</td>\n",
       "      <td>648</td>\n",
       "      <td>250</td>\n",
       "      <td>V27</td>\n",
       "      <td>6</td>\n",
       "      <td>Emergency</td>\n",
       "      <td>ToHome</td>\n",
       "      <td>EmergencyRoom</td>\n",
       "      <td>2</td>\n",
       "      <td>64410</td>\n",
       "      <td>...</td>\n",
       "      <td>0</td>\n",
       "      <td>0</td>\n",
       "      <td>0</td>\n",
       "      <td>0</td>\n",
       "      <td>0</td>\n",
       "      <td>0</td>\n",
       "      <td>0</td>\n",
       "      <td>No</td>\n",
       "      <td>Yes</td>\n",
       "      <td>NO</td>\n",
       "    </tr>\n",
       "    <tr>\n",
       "      <th>3</th>\n",
       "      <td>82442376</td>\n",
       "      <td>8</td>\n",
       "      <td>250.43</td>\n",
       "      <td>403</td>\n",
       "      <td>7</td>\n",
       "      <td>Emergency</td>\n",
       "      <td>ToHome</td>\n",
       "      <td>EmergencyRoom</td>\n",
       "      <td>2</td>\n",
       "      <td>500364</td>\n",
       "      <td>...</td>\n",
       "      <td>0</td>\n",
       "      <td>1</td>\n",
       "      <td>0</td>\n",
       "      <td>0</td>\n",
       "      <td>0</td>\n",
       "      <td>0</td>\n",
       "      <td>0</td>\n",
       "      <td>Ch</td>\n",
       "      <td>Yes</td>\n",
       "      <td>NO</td>\n",
       "    </tr>\n",
       "    <tr>\n",
       "      <th>4</th>\n",
       "      <td>42519267</td>\n",
       "      <td>197</td>\n",
       "      <td>157</td>\n",
       "      <td>250</td>\n",
       "      <td>5</td>\n",
       "      <td>Emergency</td>\n",
       "      <td>ToHome</td>\n",
       "      <td>EmergencyRoom</td>\n",
       "      <td>1</td>\n",
       "      <td>16680</td>\n",
       "      <td>...</td>\n",
       "      <td>0</td>\n",
       "      <td>1</td>\n",
       "      <td>0</td>\n",
       "      <td>0</td>\n",
       "      <td>0</td>\n",
       "      <td>0</td>\n",
       "      <td>0</td>\n",
       "      <td>Ch</td>\n",
       "      <td>Yes</td>\n",
       "      <td>NO</td>\n",
       "    </tr>\n",
       "    <tr>\n",
       "      <th>5</th>\n",
       "      <td>82637451</td>\n",
       "      <td>414</td>\n",
       "      <td>411</td>\n",
       "      <td>250</td>\n",
       "      <td>9</td>\n",
       "      <td>Urgent</td>\n",
       "      <td>ToHome</td>\n",
       "      <td>ClinicReferral</td>\n",
       "      <td>3</td>\n",
       "      <td>35754</td>\n",
       "      <td>...</td>\n",
       "      <td>0</td>\n",
       "      <td>1</td>\n",
       "      <td>0</td>\n",
       "      <td>0</td>\n",
       "      <td>0</td>\n",
       "      <td>0</td>\n",
       "      <td>0</td>\n",
       "      <td>No</td>\n",
       "      <td>Yes</td>\n",
       "      <td>&gt;30</td>\n",
       "    </tr>\n",
       "  </tbody>\n",
       "</table>\n",
       "<p>5 rows × 45 columns</p>\n",
       "</div>"
      ],
      "text/plain": [
       "   patient_nbr diag_1  diag_2 diag_3  number_diagnoses admission_type_id  \\\n",
       "1     55629189    276  250.01    255                 9         Emergency   \n",
       "2     86047875    648     250    V27                 6         Emergency   \n",
       "3     82442376      8  250.43    403                 7         Emergency   \n",
       "4     42519267    197     157    250                 5         Emergency   \n",
       "5     82637451    414     411    250                 9            Urgent   \n",
       "\n",
       "  discharge_disposition_id admission_source_id  time_in_hospital  \\\n",
       "1                   ToHome       EmergencyRoom                 3   \n",
       "2                   ToHome       EmergencyRoom                 2   \n",
       "3                   ToHome       EmergencyRoom                 2   \n",
       "4                   ToHome       EmergencyRoom                 1   \n",
       "5                   ToHome      ClinicReferral                 3   \n",
       "\n",
       "   encounter_id    ...     tolazamide insulin glyburide-metformin  \\\n",
       "1        149190    ...              0       1                   0   \n",
       "2         64410    ...              0       0                   0   \n",
       "3        500364    ...              0       1                   0   \n",
       "4         16680    ...              0       1                   0   \n",
       "5         35754    ...              0       1                   0   \n",
       "\n",
       "   glipizide-metformin  glimepiride-pioglitazone  metformin-rosiglitazone  \\\n",
       "1                    0                         0                        0   \n",
       "2                    0                         0                        0   \n",
       "3                    0                         0                        0   \n",
       "4                    0                         0                        0   \n",
       "5                    0                         0                        0   \n",
       "\n",
       "   metformin-pioglitazone  change  diabetesMed readmitted  \n",
       "1                       0      Ch          Yes        >30  \n",
       "2                       0      No          Yes         NO  \n",
       "3                       0      Ch          Yes         NO  \n",
       "4                       0      Ch          Yes         NO  \n",
       "5                       0      No          Yes        >30  \n",
       "\n",
       "[5 rows x 45 columns]"
      ]
     },
     "execution_count": 314,
     "metadata": {},
     "output_type": "execute_result"
    }
   ],
   "source": [
    "copymedyes.head()"
   ]
  },
  {
   "cell_type": "code",
   "execution_count": 315,
   "metadata": {},
   "outputs": [
    {
     "data": {
      "text/html": [
       "<div>\n",
       "<style scoped>\n",
       "    .dataframe tbody tr th:only-of-type {\n",
       "        vertical-align: middle;\n",
       "    }\n",
       "\n",
       "    .dataframe tbody tr th {\n",
       "        vertical-align: top;\n",
       "    }\n",
       "\n",
       "    .dataframe thead th {\n",
       "        text-align: right;\n",
       "    }\n",
       "</style>\n",
       "<table border=\"1\" class=\"dataframe\">\n",
       "  <thead>\n",
       "    <tr style=\"text-align: right;\">\n",
       "      <th></th>\n",
       "      <th>patient_nbr</th>\n",
       "      <th>diag_1</th>\n",
       "      <th>diag_2</th>\n",
       "      <th>diag_3</th>\n",
       "      <th>number_diagnoses</th>\n",
       "      <th>admission_type_id</th>\n",
       "      <th>discharge_disposition_id</th>\n",
       "      <th>admission_source_id</th>\n",
       "      <th>time_in_hospital</th>\n",
       "      <th>encounter_id</th>\n",
       "      <th>...</th>\n",
       "      <th>insulin</th>\n",
       "      <th>glyburide-metformin</th>\n",
       "      <th>glipizide-metformin</th>\n",
       "      <th>glimepiride-pioglitazone</th>\n",
       "      <th>metformin-rosiglitazone</th>\n",
       "      <th>metformin-pioglitazone</th>\n",
       "      <th>change</th>\n",
       "      <th>diabetesMed</th>\n",
       "      <th>readmitted</th>\n",
       "      <th>Total_drugs</th>\n",
       "    </tr>\n",
       "  </thead>\n",
       "  <tbody>\n",
       "    <tr>\n",
       "      <th>1</th>\n",
       "      <td>55629189</td>\n",
       "      <td>276</td>\n",
       "      <td>250.01</td>\n",
       "      <td>255</td>\n",
       "      <td>9</td>\n",
       "      <td>Emergency</td>\n",
       "      <td>ToHome</td>\n",
       "      <td>EmergencyRoom</td>\n",
       "      <td>3</td>\n",
       "      <td>149190</td>\n",
       "      <td>...</td>\n",
       "      <td>1</td>\n",
       "      <td>0</td>\n",
       "      <td>0</td>\n",
       "      <td>0</td>\n",
       "      <td>0</td>\n",
       "      <td>0</td>\n",
       "      <td>Ch</td>\n",
       "      <td>Yes</td>\n",
       "      <td>&gt;30</td>\n",
       "      <td>1</td>\n",
       "    </tr>\n",
       "    <tr>\n",
       "      <th>2</th>\n",
       "      <td>86047875</td>\n",
       "      <td>648</td>\n",
       "      <td>250</td>\n",
       "      <td>V27</td>\n",
       "      <td>6</td>\n",
       "      <td>Emergency</td>\n",
       "      <td>ToHome</td>\n",
       "      <td>EmergencyRoom</td>\n",
       "      <td>2</td>\n",
       "      <td>64410</td>\n",
       "      <td>...</td>\n",
       "      <td>0</td>\n",
       "      <td>0</td>\n",
       "      <td>0</td>\n",
       "      <td>0</td>\n",
       "      <td>0</td>\n",
       "      <td>0</td>\n",
       "      <td>No</td>\n",
       "      <td>Yes</td>\n",
       "      <td>NO</td>\n",
       "      <td>1</td>\n",
       "    </tr>\n",
       "    <tr>\n",
       "      <th>3</th>\n",
       "      <td>82442376</td>\n",
       "      <td>8</td>\n",
       "      <td>250.43</td>\n",
       "      <td>403</td>\n",
       "      <td>7</td>\n",
       "      <td>Emergency</td>\n",
       "      <td>ToHome</td>\n",
       "      <td>EmergencyRoom</td>\n",
       "      <td>2</td>\n",
       "      <td>500364</td>\n",
       "      <td>...</td>\n",
       "      <td>1</td>\n",
       "      <td>0</td>\n",
       "      <td>0</td>\n",
       "      <td>0</td>\n",
       "      <td>0</td>\n",
       "      <td>0</td>\n",
       "      <td>Ch</td>\n",
       "      <td>Yes</td>\n",
       "      <td>NO</td>\n",
       "      <td>1</td>\n",
       "    </tr>\n",
       "    <tr>\n",
       "      <th>4</th>\n",
       "      <td>42519267</td>\n",
       "      <td>197</td>\n",
       "      <td>157</td>\n",
       "      <td>250</td>\n",
       "      <td>5</td>\n",
       "      <td>Emergency</td>\n",
       "      <td>ToHome</td>\n",
       "      <td>EmergencyRoom</td>\n",
       "      <td>1</td>\n",
       "      <td>16680</td>\n",
       "      <td>...</td>\n",
       "      <td>1</td>\n",
       "      <td>0</td>\n",
       "      <td>0</td>\n",
       "      <td>0</td>\n",
       "      <td>0</td>\n",
       "      <td>0</td>\n",
       "      <td>Ch</td>\n",
       "      <td>Yes</td>\n",
       "      <td>NO</td>\n",
       "      <td>2</td>\n",
       "    </tr>\n",
       "    <tr>\n",
       "      <th>5</th>\n",
       "      <td>82637451</td>\n",
       "      <td>414</td>\n",
       "      <td>411</td>\n",
       "      <td>250</td>\n",
       "      <td>9</td>\n",
       "      <td>Urgent</td>\n",
       "      <td>ToHome</td>\n",
       "      <td>ClinicReferral</td>\n",
       "      <td>3</td>\n",
       "      <td>35754</td>\n",
       "      <td>...</td>\n",
       "      <td>1</td>\n",
       "      <td>0</td>\n",
       "      <td>0</td>\n",
       "      <td>0</td>\n",
       "      <td>0</td>\n",
       "      <td>0</td>\n",
       "      <td>No</td>\n",
       "      <td>Yes</td>\n",
       "      <td>&gt;30</td>\n",
       "      <td>1</td>\n",
       "    </tr>\n",
       "    <tr>\n",
       "      <th>6</th>\n",
       "      <td>84259809</td>\n",
       "      <td>414</td>\n",
       "      <td>411</td>\n",
       "      <td>V45</td>\n",
       "      <td>7</td>\n",
       "      <td>Elective</td>\n",
       "      <td>ToHome</td>\n",
       "      <td>ClinicReferral</td>\n",
       "      <td>4</td>\n",
       "      <td>55842</td>\n",
       "      <td>...</td>\n",
       "      <td>1</td>\n",
       "      <td>0</td>\n",
       "      <td>0</td>\n",
       "      <td>0</td>\n",
       "      <td>0</td>\n",
       "      <td>0</td>\n",
       "      <td>Ch</td>\n",
       "      <td>Yes</td>\n",
       "      <td>NO</td>\n",
       "      <td>3</td>\n",
       "    </tr>\n",
       "    <tr>\n",
       "      <th>7</th>\n",
       "      <td>114882984</td>\n",
       "      <td>428</td>\n",
       "      <td>492</td>\n",
       "      <td>250</td>\n",
       "      <td>8</td>\n",
       "      <td>Emergency</td>\n",
       "      <td>ToHome</td>\n",
       "      <td>EmergencyRoom</td>\n",
       "      <td>5</td>\n",
       "      <td>63768</td>\n",
       "      <td>...</td>\n",
       "      <td>0</td>\n",
       "      <td>0</td>\n",
       "      <td>0</td>\n",
       "      <td>0</td>\n",
       "      <td>0</td>\n",
       "      <td>0</td>\n",
       "      <td>No</td>\n",
       "      <td>Yes</td>\n",
       "      <td>&gt;30</td>\n",
       "      <td>1</td>\n",
       "    </tr>\n",
       "    <tr>\n",
       "      <th>8</th>\n",
       "      <td>48330783</td>\n",
       "      <td>398</td>\n",
       "      <td>427</td>\n",
       "      <td>38</td>\n",
       "      <td>8</td>\n",
       "      <td>Urgent</td>\n",
       "      <td>ToHome</td>\n",
       "      <td>Transferfromahospital</td>\n",
       "      <td>13</td>\n",
       "      <td>12522</td>\n",
       "      <td>...</td>\n",
       "      <td>1</td>\n",
       "      <td>0</td>\n",
       "      <td>0</td>\n",
       "      <td>0</td>\n",
       "      <td>0</td>\n",
       "      <td>0</td>\n",
       "      <td>Ch</td>\n",
       "      <td>Yes</td>\n",
       "      <td>NO</td>\n",
       "      <td>2</td>\n",
       "    </tr>\n",
       "    <tr>\n",
       "      <th>9</th>\n",
       "      <td>63555939</td>\n",
       "      <td>434</td>\n",
       "      <td>198</td>\n",
       "      <td>486</td>\n",
       "      <td>8</td>\n",
       "      <td>Elective</td>\n",
       "      <td>ToSNF</td>\n",
       "      <td>Transferfromahospital</td>\n",
       "      <td>12</td>\n",
       "      <td>15738</td>\n",
       "      <td>...</td>\n",
       "      <td>1</td>\n",
       "      <td>0</td>\n",
       "      <td>0</td>\n",
       "      <td>0</td>\n",
       "      <td>0</td>\n",
       "      <td>0</td>\n",
       "      <td>Ch</td>\n",
       "      <td>Yes</td>\n",
       "      <td>NO</td>\n",
       "      <td>2</td>\n",
       "    </tr>\n",
       "    <tr>\n",
       "      <th>10</th>\n",
       "      <td>89869032</td>\n",
       "      <td>250.7</td>\n",
       "      <td>403</td>\n",
       "      <td>996</td>\n",
       "      <td>9</td>\n",
       "      <td>Emergency</td>\n",
       "      <td>ToHome</td>\n",
       "      <td>EmergencyRoom</td>\n",
       "      <td>9</td>\n",
       "      <td>28236</td>\n",
       "      <td>...</td>\n",
       "      <td>1</td>\n",
       "      <td>0</td>\n",
       "      <td>0</td>\n",
       "      <td>0</td>\n",
       "      <td>0</td>\n",
       "      <td>0</td>\n",
       "      <td>No</td>\n",
       "      <td>Yes</td>\n",
       "      <td>&gt;30</td>\n",
       "      <td>1</td>\n",
       "    </tr>\n",
       "    <tr>\n",
       "      <th>11</th>\n",
       "      <td>77391171</td>\n",
       "      <td>157</td>\n",
       "      <td>288</td>\n",
       "      <td>197</td>\n",
       "      <td>7</td>\n",
       "      <td>Urgent</td>\n",
       "      <td>ToHome</td>\n",
       "      <td>Transferfromahospital</td>\n",
       "      <td>7</td>\n",
       "      <td>36900</td>\n",
       "      <td>...</td>\n",
       "      <td>1</td>\n",
       "      <td>0</td>\n",
       "      <td>0</td>\n",
       "      <td>0</td>\n",
       "      <td>0</td>\n",
       "      <td>0</td>\n",
       "      <td>Ch</td>\n",
       "      <td>Yes</td>\n",
       "      <td>&lt;30</td>\n",
       "      <td>2</td>\n",
       "    </tr>\n",
       "    <tr>\n",
       "      <th>12</th>\n",
       "      <td>85504905</td>\n",
       "      <td>428</td>\n",
       "      <td>250.43</td>\n",
       "      <td>250.6</td>\n",
       "      <td>8</td>\n",
       "      <td>Emergency</td>\n",
       "      <td>ToSNF</td>\n",
       "      <td>EmergencyRoom</td>\n",
       "      <td>7</td>\n",
       "      <td>40926</td>\n",
       "      <td>...</td>\n",
       "      <td>1</td>\n",
       "      <td>0</td>\n",
       "      <td>0</td>\n",
       "      <td>0</td>\n",
       "      <td>0</td>\n",
       "      <td>0</td>\n",
       "      <td>Ch</td>\n",
       "      <td>Yes</td>\n",
       "      <td>&lt;30</td>\n",
       "      <td>3</td>\n",
       "    </tr>\n",
       "    <tr>\n",
       "      <th>13</th>\n",
       "      <td>77586282</td>\n",
       "      <td>428</td>\n",
       "      <td>411</td>\n",
       "      <td>427</td>\n",
       "      <td>8</td>\n",
       "      <td>Emergency</td>\n",
       "      <td>ToHomeWithHomeHealthCare</td>\n",
       "      <td>EmergencyRoom</td>\n",
       "      <td>10</td>\n",
       "      <td>42570</td>\n",
       "      <td>...</td>\n",
       "      <td>1</td>\n",
       "      <td>0</td>\n",
       "      <td>0</td>\n",
       "      <td>0</td>\n",
       "      <td>0</td>\n",
       "      <td>0</td>\n",
       "      <td>No</td>\n",
       "      <td>Yes</td>\n",
       "      <td>NO</td>\n",
       "      <td>1</td>\n",
       "    </tr>\n",
       "    <tr>\n",
       "      <th>14</th>\n",
       "      <td>49726791</td>\n",
       "      <td>518</td>\n",
       "      <td>998</td>\n",
       "      <td>627</td>\n",
       "      <td>8</td>\n",
       "      <td>Elective</td>\n",
       "      <td>ToHome</td>\n",
       "      <td>ClinicReferral</td>\n",
       "      <td>1</td>\n",
       "      <td>62256</td>\n",
       "      <td>...</td>\n",
       "      <td>1</td>\n",
       "      <td>0</td>\n",
       "      <td>0</td>\n",
       "      <td>0</td>\n",
       "      <td>0</td>\n",
       "      <td>0</td>\n",
       "      <td>No</td>\n",
       "      <td>Yes</td>\n",
       "      <td>&gt;30</td>\n",
       "      <td>1</td>\n",
       "    </tr>\n",
       "    <tr>\n",
       "      <th>15</th>\n",
       "      <td>86328819</td>\n",
       "      <td>999</td>\n",
       "      <td>507</td>\n",
       "      <td>996</td>\n",
       "      <td>9</td>\n",
       "      <td>Emergency</td>\n",
       "      <td>ToSNF</td>\n",
       "      <td>EmergencyRoom</td>\n",
       "      <td>12</td>\n",
       "      <td>73578</td>\n",
       "      <td>...</td>\n",
       "      <td>1</td>\n",
       "      <td>0</td>\n",
       "      <td>0</td>\n",
       "      <td>0</td>\n",
       "      <td>0</td>\n",
       "      <td>0</td>\n",
       "      <td>Ch</td>\n",
       "      <td>Yes</td>\n",
       "      <td>NO</td>\n",
       "      <td>1</td>\n",
       "    </tr>\n",
       "  </tbody>\n",
       "</table>\n",
       "<p>15 rows × 46 columns</p>\n",
       "</div>"
      ],
      "text/plain": [
       "    patient_nbr diag_1  diag_2 diag_3  number_diagnoses admission_type_id  \\\n",
       "1      55629189    276  250.01    255                 9         Emergency   \n",
       "2      86047875    648     250    V27                 6         Emergency   \n",
       "3      82442376      8  250.43    403                 7         Emergency   \n",
       "4      42519267    197     157    250                 5         Emergency   \n",
       "5      82637451    414     411    250                 9            Urgent   \n",
       "6      84259809    414     411    V45                 7          Elective   \n",
       "7     114882984    428     492    250                 8         Emergency   \n",
       "8      48330783    398     427     38                 8            Urgent   \n",
       "9      63555939    434     198    486                 8          Elective   \n",
       "10     89869032  250.7     403    996                 9         Emergency   \n",
       "11     77391171    157     288    197                 7            Urgent   \n",
       "12     85504905    428  250.43  250.6                 8         Emergency   \n",
       "13     77586282    428     411    427                 8         Emergency   \n",
       "14     49726791    518     998    627                 8          Elective   \n",
       "15     86328819    999     507    996                 9         Emergency   \n",
       "\n",
       "    discharge_disposition_id    admission_source_id  time_in_hospital  \\\n",
       "1                     ToHome          EmergencyRoom                 3   \n",
       "2                     ToHome          EmergencyRoom                 2   \n",
       "3                     ToHome          EmergencyRoom                 2   \n",
       "4                     ToHome          EmergencyRoom                 1   \n",
       "5                     ToHome         ClinicReferral                 3   \n",
       "6                     ToHome         ClinicReferral                 4   \n",
       "7                     ToHome          EmergencyRoom                 5   \n",
       "8                     ToHome  Transferfromahospital                13   \n",
       "9                      ToSNF  Transferfromahospital                12   \n",
       "10                    ToHome          EmergencyRoom                 9   \n",
       "11                    ToHome  Transferfromahospital                 7   \n",
       "12                     ToSNF          EmergencyRoom                 7   \n",
       "13  ToHomeWithHomeHealthCare          EmergencyRoom                10   \n",
       "14                    ToHome         ClinicReferral                 1   \n",
       "15                     ToSNF          EmergencyRoom                12   \n",
       "\n",
       "    encounter_id     ...     insulin glyburide-metformin glipizide-metformin  \\\n",
       "1         149190     ...           1                   0                   0   \n",
       "2          64410     ...           0                   0                   0   \n",
       "3         500364     ...           1                   0                   0   \n",
       "4          16680     ...           1                   0                   0   \n",
       "5          35754     ...           1                   0                   0   \n",
       "6          55842     ...           1                   0                   0   \n",
       "7          63768     ...           0                   0                   0   \n",
       "8          12522     ...           1                   0                   0   \n",
       "9          15738     ...           1                   0                   0   \n",
       "10         28236     ...           1                   0                   0   \n",
       "11         36900     ...           1                   0                   0   \n",
       "12         40926     ...           1                   0                   0   \n",
       "13         42570     ...           1                   0                   0   \n",
       "14         62256     ...           1                   0                   0   \n",
       "15         73578     ...           1                   0                   0   \n",
       "\n",
       "    glimepiride-pioglitazone  metformin-rosiglitazone  metformin-pioglitazone  \\\n",
       "1                          0                        0                       0   \n",
       "2                          0                        0                       0   \n",
       "3                          0                        0                       0   \n",
       "4                          0                        0                       0   \n",
       "5                          0                        0                       0   \n",
       "6                          0                        0                       0   \n",
       "7                          0                        0                       0   \n",
       "8                          0                        0                       0   \n",
       "9                          0                        0                       0   \n",
       "10                         0                        0                       0   \n",
       "11                         0                        0                       0   \n",
       "12                         0                        0                       0   \n",
       "13                         0                        0                       0   \n",
       "14                         0                        0                       0   \n",
       "15                         0                        0                       0   \n",
       "\n",
       "    change  diabetesMed  readmitted Total_drugs  \n",
       "1       Ch          Yes         >30           1  \n",
       "2       No          Yes          NO           1  \n",
       "3       Ch          Yes          NO           1  \n",
       "4       Ch          Yes          NO           2  \n",
       "5       No          Yes         >30           1  \n",
       "6       Ch          Yes          NO           3  \n",
       "7       No          Yes         >30           1  \n",
       "8       Ch          Yes          NO           2  \n",
       "9       Ch          Yes          NO           2  \n",
       "10      No          Yes         >30           1  \n",
       "11      Ch          Yes         <30           2  \n",
       "12      Ch          Yes         <30           3  \n",
       "13      No          Yes          NO           1  \n",
       "14      No          Yes         >30           1  \n",
       "15      Ch          Yes          NO           1  \n",
       "\n",
       "[15 rows x 46 columns]"
      ]
     },
     "execution_count": 315,
     "metadata": {},
     "output_type": "execute_result"
    }
   ],
   "source": [
    "# counting the total no. of drugs given to each diabetic patient\n",
    "copymedyes['Total_drugs'] =copymedyes.iloc[:,21:42].sum(axis=1)\n",
    "copymedyes.head(15)"
   ]
  },
  {
   "cell_type": "code",
   "execution_count": 316,
   "metadata": {},
   "outputs": [
    {
     "data": {
      "text/plain": [
       "1    46433\n",
       "2    21714\n",
       "3     7737\n",
       "4     1325\n",
       "5       58\n",
       "6        5\n",
       "Name: Total_drugs, dtype: int64"
      ]
     },
     "execution_count": 316,
     "metadata": {},
     "output_type": "execute_result"
    }
   ],
   "source": [
    "copymedyes['Total_drugs'].value_counts()"
   ]
  },
  {
   "cell_type": "code",
   "execution_count": 317,
   "metadata": {},
   "outputs": [
    {
     "data": {
      "text/plain": [
       "Index(['patient_nbr', 'diag_1', 'diag_2', 'diag_3', 'number_diagnoses',\n",
       "       'admission_type_id', 'discharge_disposition_id', 'admission_source_id',\n",
       "       'time_in_hospital', 'encounter_id', 'race', 'gender', 'age',\n",
       "       'num_lab_procedures', 'num_procedures', 'num_medications',\n",
       "       'number_outpatient', 'number_emergency', 'number_inpatient',\n",
       "       'max_glu_serum', 'A1Cresult', 'metformin', 'repaglinide', 'nateglinide',\n",
       "       'chlorpropamide', 'glimepiride', 'acetohexamide', 'glipizide',\n",
       "       'glyburide', 'tolbutamide', 'pioglitazone', 'rosiglitazone', 'acarbose',\n",
       "       'miglitol', 'troglitazone', 'tolazamide', 'insulin',\n",
       "       'glyburide-metformin', 'glipizide-metformin',\n",
       "       'glimepiride-pioglitazone', 'metformin-rosiglitazone',\n",
       "       'metformin-pioglitazone', 'change', 'diabetesMed', 'readmitted',\n",
       "       'Total_drugs'],\n",
       "      dtype='object')"
      ]
     },
     "execution_count": 317,
     "metadata": {},
     "output_type": "execute_result"
    }
   ],
   "source": [
    "copymedyes.columns"
   ]
  },
  {
   "cell_type": "code",
   "execution_count": 318,
   "metadata": {},
   "outputs": [],
   "source": [
    "def soloinsulin(df):\n",
    "    lst=[]\n",
    "    for i in range(len(df)):\n",
    "        if df.iloc[i,45] >=2:\n",
    "            lst.append(0)\n",
    "        else:\n",
    "            if df.iloc[i,36] ==1:\n",
    "                lst.append(1)\n",
    "            else:\n",
    "                lst.append(0)\n",
    "    return lst\n",
    "            "
   ]
  },
  {
   "cell_type": "code",
   "execution_count": 319,
   "metadata": {},
   "outputs": [
    {
     "data": {
      "text/plain": [
       "0    47070\n",
       "1    30202\n",
       "Name: Solo_Insulin, dtype: int64"
      ]
     },
     "execution_count": 319,
     "metadata": {},
     "output_type": "execute_result"
    }
   ],
   "source": [
    "copymedyes['Solo_Insulin'] =soloinsulin(copymedyes)\n",
    "copymedyes['Solo_Insulin'].value_counts()"
   ]
  },
  {
   "cell_type": "code",
   "execution_count": 320,
   "metadata": {},
   "outputs": [],
   "source": [
    "totaldrugs=copymedyes['Total_drugs']\n",
    "soloinsulin=copymedyes['Solo_Insulin']"
   ]
  },
  {
   "cell_type": "code",
   "execution_count": 321,
   "metadata": {},
   "outputs": [
    {
     "name": "stderr",
     "output_type": "stream",
     "text": [
      "C:\\Users\\user\\Anaconda3\\lib\\site-packages\\ipykernel_launcher.py:1: SettingWithCopyWarning: \n",
      "A value is trying to be set on a copy of a slice from a DataFrame.\n",
      "Try using .loc[row_indexer,col_indexer] = value instead\n",
      "\n",
      "See the caveats in the documentation: http://pandas.pydata.org/pandas-docs/stable/indexing.html#indexing-view-versus-copy\n",
      "  \"\"\"Entry point for launching an IPython kernel.\n",
      "C:\\Users\\user\\Anaconda3\\lib\\site-packages\\ipykernel_launcher.py:2: SettingWithCopyWarning: \n",
      "A value is trying to be set on a copy of a slice from a DataFrame.\n",
      "Try using .loc[row_indexer,col_indexer] = value instead\n",
      "\n",
      "See the caveats in the documentation: http://pandas.pydata.org/pandas-docs/stable/indexing.html#indexing-view-versus-copy\n",
      "  \n"
     ]
    },
    {
     "data": {
      "text/html": [
       "<div>\n",
       "<style scoped>\n",
       "    .dataframe tbody tr th:only-of-type {\n",
       "        vertical-align: middle;\n",
       "    }\n",
       "\n",
       "    .dataframe tbody tr th {\n",
       "        vertical-align: top;\n",
       "    }\n",
       "\n",
       "    .dataframe thead th {\n",
       "        text-align: right;\n",
       "    }\n",
       "</style>\n",
       "<table border=\"1\" class=\"dataframe\">\n",
       "  <thead>\n",
       "    <tr style=\"text-align: right;\">\n",
       "      <th></th>\n",
       "      <th>patient_nbr</th>\n",
       "      <th>diag_1</th>\n",
       "      <th>diag_2</th>\n",
       "      <th>diag_3</th>\n",
       "      <th>number_diagnoses</th>\n",
       "      <th>admission_type_id</th>\n",
       "      <th>discharge_disposition_id</th>\n",
       "      <th>admission_source_id</th>\n",
       "      <th>time_in_hospital</th>\n",
       "      <th>encounter_id</th>\n",
       "      <th>...</th>\n",
       "      <th>glyburide-metformin</th>\n",
       "      <th>glipizide-metformin</th>\n",
       "      <th>glimepiride-pioglitazone</th>\n",
       "      <th>metformin-rosiglitazone</th>\n",
       "      <th>metformin-pioglitazone</th>\n",
       "      <th>change</th>\n",
       "      <th>diabetesMed</th>\n",
       "      <th>readmitted</th>\n",
       "      <th>Total_drugs</th>\n",
       "      <th>Solo_Insulin</th>\n",
       "    </tr>\n",
       "  </thead>\n",
       "  <tbody>\n",
       "    <tr>\n",
       "      <th>1</th>\n",
       "      <td>55629189</td>\n",
       "      <td>276</td>\n",
       "      <td>250.01</td>\n",
       "      <td>255</td>\n",
       "      <td>9</td>\n",
       "      <td>Emergency</td>\n",
       "      <td>ToHome</td>\n",
       "      <td>EmergencyRoom</td>\n",
       "      <td>3</td>\n",
       "      <td>149190</td>\n",
       "      <td>...</td>\n",
       "      <td>No</td>\n",
       "      <td>No</td>\n",
       "      <td>No</td>\n",
       "      <td>No</td>\n",
       "      <td>No</td>\n",
       "      <td>Ch</td>\n",
       "      <td>Yes</td>\n",
       "      <td>&gt;30</td>\n",
       "      <td>1</td>\n",
       "      <td>1</td>\n",
       "    </tr>\n",
       "    <tr>\n",
       "      <th>2</th>\n",
       "      <td>86047875</td>\n",
       "      <td>648</td>\n",
       "      <td>250</td>\n",
       "      <td>V27</td>\n",
       "      <td>6</td>\n",
       "      <td>Emergency</td>\n",
       "      <td>ToHome</td>\n",
       "      <td>EmergencyRoom</td>\n",
       "      <td>2</td>\n",
       "      <td>64410</td>\n",
       "      <td>...</td>\n",
       "      <td>No</td>\n",
       "      <td>No</td>\n",
       "      <td>No</td>\n",
       "      <td>No</td>\n",
       "      <td>No</td>\n",
       "      <td>No</td>\n",
       "      <td>Yes</td>\n",
       "      <td>NO</td>\n",
       "      <td>1</td>\n",
       "      <td>0</td>\n",
       "    </tr>\n",
       "    <tr>\n",
       "      <th>3</th>\n",
       "      <td>82442376</td>\n",
       "      <td>8</td>\n",
       "      <td>250.43</td>\n",
       "      <td>403</td>\n",
       "      <td>7</td>\n",
       "      <td>Emergency</td>\n",
       "      <td>ToHome</td>\n",
       "      <td>EmergencyRoom</td>\n",
       "      <td>2</td>\n",
       "      <td>500364</td>\n",
       "      <td>...</td>\n",
       "      <td>No</td>\n",
       "      <td>No</td>\n",
       "      <td>No</td>\n",
       "      <td>No</td>\n",
       "      <td>No</td>\n",
       "      <td>Ch</td>\n",
       "      <td>Yes</td>\n",
       "      <td>NO</td>\n",
       "      <td>1</td>\n",
       "      <td>1</td>\n",
       "    </tr>\n",
       "    <tr>\n",
       "      <th>4</th>\n",
       "      <td>42519267</td>\n",
       "      <td>197</td>\n",
       "      <td>157</td>\n",
       "      <td>250</td>\n",
       "      <td>5</td>\n",
       "      <td>Emergency</td>\n",
       "      <td>ToHome</td>\n",
       "      <td>EmergencyRoom</td>\n",
       "      <td>1</td>\n",
       "      <td>16680</td>\n",
       "      <td>...</td>\n",
       "      <td>No</td>\n",
       "      <td>No</td>\n",
       "      <td>No</td>\n",
       "      <td>No</td>\n",
       "      <td>No</td>\n",
       "      <td>Ch</td>\n",
       "      <td>Yes</td>\n",
       "      <td>NO</td>\n",
       "      <td>2</td>\n",
       "      <td>0</td>\n",
       "    </tr>\n",
       "    <tr>\n",
       "      <th>5</th>\n",
       "      <td>82637451</td>\n",
       "      <td>414</td>\n",
       "      <td>411</td>\n",
       "      <td>250</td>\n",
       "      <td>9</td>\n",
       "      <td>Urgent</td>\n",
       "      <td>ToHome</td>\n",
       "      <td>ClinicReferral</td>\n",
       "      <td>3</td>\n",
       "      <td>35754</td>\n",
       "      <td>...</td>\n",
       "      <td>No</td>\n",
       "      <td>No</td>\n",
       "      <td>No</td>\n",
       "      <td>No</td>\n",
       "      <td>No</td>\n",
       "      <td>No</td>\n",
       "      <td>Yes</td>\n",
       "      <td>&gt;30</td>\n",
       "      <td>1</td>\n",
       "      <td>1</td>\n",
       "    </tr>\n",
       "    <tr>\n",
       "      <th>6</th>\n",
       "      <td>84259809</td>\n",
       "      <td>414</td>\n",
       "      <td>411</td>\n",
       "      <td>V45</td>\n",
       "      <td>7</td>\n",
       "      <td>Elective</td>\n",
       "      <td>ToHome</td>\n",
       "      <td>ClinicReferral</td>\n",
       "      <td>4</td>\n",
       "      <td>55842</td>\n",
       "      <td>...</td>\n",
       "      <td>No</td>\n",
       "      <td>No</td>\n",
       "      <td>No</td>\n",
       "      <td>No</td>\n",
       "      <td>No</td>\n",
       "      <td>Ch</td>\n",
       "      <td>Yes</td>\n",
       "      <td>NO</td>\n",
       "      <td>3</td>\n",
       "      <td>0</td>\n",
       "    </tr>\n",
       "    <tr>\n",
       "      <th>7</th>\n",
       "      <td>114882984</td>\n",
       "      <td>428</td>\n",
       "      <td>492</td>\n",
       "      <td>250</td>\n",
       "      <td>8</td>\n",
       "      <td>Emergency</td>\n",
       "      <td>ToHome</td>\n",
       "      <td>EmergencyRoom</td>\n",
       "      <td>5</td>\n",
       "      <td>63768</td>\n",
       "      <td>...</td>\n",
       "      <td>No</td>\n",
       "      <td>No</td>\n",
       "      <td>No</td>\n",
       "      <td>No</td>\n",
       "      <td>No</td>\n",
       "      <td>No</td>\n",
       "      <td>Yes</td>\n",
       "      <td>&gt;30</td>\n",
       "      <td>1</td>\n",
       "      <td>0</td>\n",
       "    </tr>\n",
       "    <tr>\n",
       "      <th>8</th>\n",
       "      <td>48330783</td>\n",
       "      <td>398</td>\n",
       "      <td>427</td>\n",
       "      <td>38</td>\n",
       "      <td>8</td>\n",
       "      <td>Urgent</td>\n",
       "      <td>ToHome</td>\n",
       "      <td>Transferfromahospital</td>\n",
       "      <td>13</td>\n",
       "      <td>12522</td>\n",
       "      <td>...</td>\n",
       "      <td>No</td>\n",
       "      <td>No</td>\n",
       "      <td>No</td>\n",
       "      <td>No</td>\n",
       "      <td>No</td>\n",
       "      <td>Ch</td>\n",
       "      <td>Yes</td>\n",
       "      <td>NO</td>\n",
       "      <td>2</td>\n",
       "      <td>0</td>\n",
       "    </tr>\n",
       "    <tr>\n",
       "      <th>9</th>\n",
       "      <td>63555939</td>\n",
       "      <td>434</td>\n",
       "      <td>198</td>\n",
       "      <td>486</td>\n",
       "      <td>8</td>\n",
       "      <td>Elective</td>\n",
       "      <td>ToSNF</td>\n",
       "      <td>Transferfromahospital</td>\n",
       "      <td>12</td>\n",
       "      <td>15738</td>\n",
       "      <td>...</td>\n",
       "      <td>No</td>\n",
       "      <td>No</td>\n",
       "      <td>No</td>\n",
       "      <td>No</td>\n",
       "      <td>No</td>\n",
       "      <td>Ch</td>\n",
       "      <td>Yes</td>\n",
       "      <td>NO</td>\n",
       "      <td>2</td>\n",
       "      <td>0</td>\n",
       "    </tr>\n",
       "    <tr>\n",
       "      <th>10</th>\n",
       "      <td>89869032</td>\n",
       "      <td>250.7</td>\n",
       "      <td>403</td>\n",
       "      <td>996</td>\n",
       "      <td>9</td>\n",
       "      <td>Emergency</td>\n",
       "      <td>ToHome</td>\n",
       "      <td>EmergencyRoom</td>\n",
       "      <td>9</td>\n",
       "      <td>28236</td>\n",
       "      <td>...</td>\n",
       "      <td>No</td>\n",
       "      <td>No</td>\n",
       "      <td>No</td>\n",
       "      <td>No</td>\n",
       "      <td>No</td>\n",
       "      <td>No</td>\n",
       "      <td>Yes</td>\n",
       "      <td>&gt;30</td>\n",
       "      <td>1</td>\n",
       "      <td>1</td>\n",
       "    </tr>\n",
       "    <tr>\n",
       "      <th>11</th>\n",
       "      <td>77391171</td>\n",
       "      <td>157</td>\n",
       "      <td>288</td>\n",
       "      <td>197</td>\n",
       "      <td>7</td>\n",
       "      <td>Urgent</td>\n",
       "      <td>ToHome</td>\n",
       "      <td>Transferfromahospital</td>\n",
       "      <td>7</td>\n",
       "      <td>36900</td>\n",
       "      <td>...</td>\n",
       "      <td>No</td>\n",
       "      <td>No</td>\n",
       "      <td>No</td>\n",
       "      <td>No</td>\n",
       "      <td>No</td>\n",
       "      <td>Ch</td>\n",
       "      <td>Yes</td>\n",
       "      <td>&lt;30</td>\n",
       "      <td>2</td>\n",
       "      <td>0</td>\n",
       "    </tr>\n",
       "    <tr>\n",
       "      <th>12</th>\n",
       "      <td>85504905</td>\n",
       "      <td>428</td>\n",
       "      <td>250.43</td>\n",
       "      <td>250.6</td>\n",
       "      <td>8</td>\n",
       "      <td>Emergency</td>\n",
       "      <td>ToSNF</td>\n",
       "      <td>EmergencyRoom</td>\n",
       "      <td>7</td>\n",
       "      <td>40926</td>\n",
       "      <td>...</td>\n",
       "      <td>No</td>\n",
       "      <td>No</td>\n",
       "      <td>No</td>\n",
       "      <td>No</td>\n",
       "      <td>No</td>\n",
       "      <td>Ch</td>\n",
       "      <td>Yes</td>\n",
       "      <td>&lt;30</td>\n",
       "      <td>3</td>\n",
       "      <td>0</td>\n",
       "    </tr>\n",
       "    <tr>\n",
       "      <th>13</th>\n",
       "      <td>77586282</td>\n",
       "      <td>428</td>\n",
       "      <td>411</td>\n",
       "      <td>427</td>\n",
       "      <td>8</td>\n",
       "      <td>Emergency</td>\n",
       "      <td>ToHomeWithHomeHealthCare</td>\n",
       "      <td>EmergencyRoom</td>\n",
       "      <td>10</td>\n",
       "      <td>42570</td>\n",
       "      <td>...</td>\n",
       "      <td>No</td>\n",
       "      <td>No</td>\n",
       "      <td>No</td>\n",
       "      <td>No</td>\n",
       "      <td>No</td>\n",
       "      <td>No</td>\n",
       "      <td>Yes</td>\n",
       "      <td>NO</td>\n",
       "      <td>1</td>\n",
       "      <td>1</td>\n",
       "    </tr>\n",
       "    <tr>\n",
       "      <th>14</th>\n",
       "      <td>49726791</td>\n",
       "      <td>518</td>\n",
       "      <td>998</td>\n",
       "      <td>627</td>\n",
       "      <td>8</td>\n",
       "      <td>Elective</td>\n",
       "      <td>ToHome</td>\n",
       "      <td>ClinicReferral</td>\n",
       "      <td>1</td>\n",
       "      <td>62256</td>\n",
       "      <td>...</td>\n",
       "      <td>No</td>\n",
       "      <td>No</td>\n",
       "      <td>No</td>\n",
       "      <td>No</td>\n",
       "      <td>No</td>\n",
       "      <td>No</td>\n",
       "      <td>Yes</td>\n",
       "      <td>&gt;30</td>\n",
       "      <td>1</td>\n",
       "      <td>1</td>\n",
       "    </tr>\n",
       "    <tr>\n",
       "      <th>15</th>\n",
       "      <td>86328819</td>\n",
       "      <td>999</td>\n",
       "      <td>507</td>\n",
       "      <td>996</td>\n",
       "      <td>9</td>\n",
       "      <td>Emergency</td>\n",
       "      <td>ToSNF</td>\n",
       "      <td>EmergencyRoom</td>\n",
       "      <td>12</td>\n",
       "      <td>73578</td>\n",
       "      <td>...</td>\n",
       "      <td>No</td>\n",
       "      <td>No</td>\n",
       "      <td>No</td>\n",
       "      <td>No</td>\n",
       "      <td>No</td>\n",
       "      <td>Ch</td>\n",
       "      <td>Yes</td>\n",
       "      <td>NO</td>\n",
       "      <td>1</td>\n",
       "      <td>1</td>\n",
       "    </tr>\n",
       "  </tbody>\n",
       "</table>\n",
       "<p>15 rows × 47 columns</p>\n",
       "</div>"
      ],
      "text/plain": [
       "    patient_nbr diag_1  diag_2 diag_3  number_diagnoses admission_type_id  \\\n",
       "1      55629189    276  250.01    255                 9         Emergency   \n",
       "2      86047875    648     250    V27                 6         Emergency   \n",
       "3      82442376      8  250.43    403                 7         Emergency   \n",
       "4      42519267    197     157    250                 5         Emergency   \n",
       "5      82637451    414     411    250                 9            Urgent   \n",
       "6      84259809    414     411    V45                 7          Elective   \n",
       "7     114882984    428     492    250                 8         Emergency   \n",
       "8      48330783    398     427     38                 8            Urgent   \n",
       "9      63555939    434     198    486                 8          Elective   \n",
       "10     89869032  250.7     403    996                 9         Emergency   \n",
       "11     77391171    157     288    197                 7            Urgent   \n",
       "12     85504905    428  250.43  250.6                 8         Emergency   \n",
       "13     77586282    428     411    427                 8         Emergency   \n",
       "14     49726791    518     998    627                 8          Elective   \n",
       "15     86328819    999     507    996                 9         Emergency   \n",
       "\n",
       "    discharge_disposition_id    admission_source_id  time_in_hospital  \\\n",
       "1                     ToHome          EmergencyRoom                 3   \n",
       "2                     ToHome          EmergencyRoom                 2   \n",
       "3                     ToHome          EmergencyRoom                 2   \n",
       "4                     ToHome          EmergencyRoom                 1   \n",
       "5                     ToHome         ClinicReferral                 3   \n",
       "6                     ToHome         ClinicReferral                 4   \n",
       "7                     ToHome          EmergencyRoom                 5   \n",
       "8                     ToHome  Transferfromahospital                13   \n",
       "9                      ToSNF  Transferfromahospital                12   \n",
       "10                    ToHome          EmergencyRoom                 9   \n",
       "11                    ToHome  Transferfromahospital                 7   \n",
       "12                     ToSNF          EmergencyRoom                 7   \n",
       "13  ToHomeWithHomeHealthCare          EmergencyRoom                10   \n",
       "14                    ToHome         ClinicReferral                 1   \n",
       "15                     ToSNF          EmergencyRoom                12   \n",
       "\n",
       "    encounter_id     ...      glyburide-metformin glipizide-metformin  \\\n",
       "1         149190     ...                       No                  No   \n",
       "2          64410     ...                       No                  No   \n",
       "3         500364     ...                       No                  No   \n",
       "4          16680     ...                       No                  No   \n",
       "5          35754     ...                       No                  No   \n",
       "6          55842     ...                       No                  No   \n",
       "7          63768     ...                       No                  No   \n",
       "8          12522     ...                       No                  No   \n",
       "9          15738     ...                       No                  No   \n",
       "10         28236     ...                       No                  No   \n",
       "11         36900     ...                       No                  No   \n",
       "12         40926     ...                       No                  No   \n",
       "13         42570     ...                       No                  No   \n",
       "14         62256     ...                       No                  No   \n",
       "15         73578     ...                       No                  No   \n",
       "\n",
       "   glimepiride-pioglitazone  metformin-rosiglitazone  metformin-pioglitazone  \\\n",
       "1                        No                       No                      No   \n",
       "2                        No                       No                      No   \n",
       "3                        No                       No                      No   \n",
       "4                        No                       No                      No   \n",
       "5                        No                       No                      No   \n",
       "6                        No                       No                      No   \n",
       "7                        No                       No                      No   \n",
       "8                        No                       No                      No   \n",
       "9                        No                       No                      No   \n",
       "10                       No                       No                      No   \n",
       "11                       No                       No                      No   \n",
       "12                       No                       No                      No   \n",
       "13                       No                       No                      No   \n",
       "14                       No                       No                      No   \n",
       "15                       No                       No                      No   \n",
       "\n",
       "    change  diabetesMed  readmitted  Total_drugs Solo_Insulin  \n",
       "1       Ch          Yes         >30            1            1  \n",
       "2       No          Yes          NO            1            0  \n",
       "3       Ch          Yes          NO            1            1  \n",
       "4       Ch          Yes          NO            2            0  \n",
       "5       No          Yes         >30            1            1  \n",
       "6       Ch          Yes          NO            3            0  \n",
       "7       No          Yes         >30            1            0  \n",
       "8       Ch          Yes          NO            2            0  \n",
       "9       Ch          Yes          NO            2            0  \n",
       "10      No          Yes         >30            1            1  \n",
       "11      Ch          Yes         <30            2            0  \n",
       "12      Ch          Yes         <30            3            0  \n",
       "13      No          Yes          NO            1            1  \n",
       "14      No          Yes         >30            1            1  \n",
       "15      Ch          Yes          NO            1            1  \n",
       "\n",
       "[15 rows x 47 columns]"
      ]
     },
     "execution_count": 321,
     "metadata": {},
     "output_type": "execute_result"
    }
   ],
   "source": [
    "filtereddata['Total_drugs'] = totaldrugs\n",
    "filtereddata['Solo_Insulin'] = soloinsulin\n",
    "filtereddata.head(15)"
   ]
  },
  {
   "cell_type": "code",
   "execution_count": 322,
   "metadata": {},
   "outputs": [
    {
     "data": {
      "text/plain": [
       "1    46433\n",
       "2    21714\n",
       "3     7737\n",
       "4     1325\n",
       "5       58\n",
       "6        5\n",
       "Name: Total_drugs, dtype: int64"
      ]
     },
     "execution_count": 322,
     "metadata": {},
     "output_type": "execute_result"
    }
   ],
   "source": [
    "filtereddata['Total_drugs'].value_counts()"
   ]
  },
  {
   "cell_type": "code",
   "execution_count": 323,
   "metadata": {},
   "outputs": [
    {
     "data": {
      "text/plain": [
       "0    47070\n",
       "1    30202\n",
       "Name: Solo_Insulin, dtype: int64"
      ]
     },
     "execution_count": 323,
     "metadata": {},
     "output_type": "execute_result"
    }
   ],
   "source": [
    "filtereddata['Solo_Insulin'].value_counts()"
   ]
  },
  {
   "cell_type": "code",
   "execution_count": 324,
   "metadata": {},
   "outputs": [],
   "source": [
    "filtereddata.to_csv('FilteredData.csv',index=0)"
   ]
  },
  {
   "cell_type": "code",
   "execution_count": 326,
   "metadata": {},
   "outputs": [
    {
     "data": {
      "text/plain": [
       "None    63155\n",
       ">8       7362\n",
       "Norm     3702\n",
       ">7       3053\n",
       "Name: A1Cresult, dtype: int64"
      ]
     },
     "execution_count": 326,
     "metadata": {},
     "output_type": "execute_result"
    }
   ],
   "source": [
    "filtereddata['A1Cresult'].value_counts()"
   ]
  },
  {
   "cell_type": "code",
   "execution_count": 327,
   "metadata": {},
   "outputs": [
    {
     "data": {
      "text/plain": [
       "None    73421\n",
       "Norm     1674\n",
       ">200     1176\n",
       ">300     1001\n",
       "Name: max_glu_serum, dtype: int64"
      ]
     },
     "execution_count": 327,
     "metadata": {},
     "output_type": "execute_result"
    }
   ],
   "source": [
    "filtereddata['max_glu_serum'].value_counts()"
   ]
  },
  {
   "cell_type": "markdown",
   "metadata": {},
   "source": [
    "### dropping A1Cresult and max_glu_serum cols because they have 81% and 95% data as None"
   ]
  },
  {
   "cell_type": "code",
   "execution_count": 328,
   "metadata": {},
   "outputs": [
    {
     "data": {
      "text/plain": [
       "(77272, 47)"
      ]
     },
     "execution_count": 328,
     "metadata": {},
     "output_type": "execute_result"
    }
   ],
   "source": [
    "filtereddata.shape"
   ]
  },
  {
   "cell_type": "code",
   "execution_count": 329,
   "metadata": {},
   "outputs": [
    {
     "name": "stderr",
     "output_type": "stream",
     "text": [
      "C:\\Users\\user\\Anaconda3\\lib\\site-packages\\pandas\\core\\frame.py:3697: SettingWithCopyWarning: \n",
      "A value is trying to be set on a copy of a slice from a DataFrame\n",
      "\n",
      "See the caveats in the documentation: http://pandas.pydata.org/pandas-docs/stable/indexing.html#indexing-view-versus-copy\n",
      "  errors=errors)\n"
     ]
    }
   ],
   "source": [
    "filtereddata.drop(['A1Cresult','max_glu_serum'],axis=1,inplace=True)"
   ]
  },
  {
   "cell_type": "code",
   "execution_count": 330,
   "metadata": {},
   "outputs": [
    {
     "data": {
      "text/plain": [
       "(77272, 45)"
      ]
     },
     "execution_count": 330,
     "metadata": {},
     "output_type": "execute_result"
    }
   ],
   "source": [
    "filtereddata.shape"
   ]
  },
  {
   "cell_type": "code",
   "execution_count": 332,
   "metadata": {},
   "outputs": [],
   "source": [
    "filtereddata.to_csv('FilteredData.csv',index=0)"
   ]
  },
  {
   "cell_type": "code",
   "execution_count": 333,
   "metadata": {},
   "outputs": [
    {
     "data": {
      "text/plain": [
       "patient_nbr                 0\n",
       "diag_1                      0\n",
       "diag_2                      0\n",
       "diag_3                      0\n",
       "number_diagnoses            0\n",
       "admission_type_id           0\n",
       "discharge_disposition_id    0\n",
       "admission_source_id         0\n",
       "time_in_hospital            0\n",
       "encounter_id                0\n",
       "race                        0\n",
       "gender                      0\n",
       "age                         0\n",
       "num_lab_procedures          0\n",
       "num_procedures              0\n",
       "num_medications             0\n",
       "number_outpatient           0\n",
       "number_emergency            0\n",
       "number_inpatient            0\n",
       "metformin                   0\n",
       "repaglinide                 0\n",
       "nateglinide                 0\n",
       "chlorpropamide              0\n",
       "glimepiride                 0\n",
       "acetohexamide               0\n",
       "glipizide                   0\n",
       "glyburide                   0\n",
       "tolbutamide                 0\n",
       "pioglitazone                0\n",
       "rosiglitazone               0\n",
       "acarbose                    0\n",
       "miglitol                    0\n",
       "troglitazone                0\n",
       "tolazamide                  0\n",
       "insulin                     0\n",
       "glyburide-metformin         0\n",
       "glipizide-metformin         0\n",
       "glimepiride-pioglitazone    0\n",
       "metformin-rosiglitazone     0\n",
       "metformin-pioglitazone      0\n",
       "change                      0\n",
       "diabetesMed                 0\n",
       "readmitted                  0\n",
       "Total_drugs                 0\n",
       "Solo_Insulin                0\n",
       "dtype: int64"
      ]
     },
     "execution_count": 333,
     "metadata": {},
     "output_type": "execute_result"
    }
   ],
   "source": [
    "filtereddata.isnull().sum()"
   ]
  },
  {
   "cell_type": "code",
   "execution_count": 336,
   "metadata": {},
   "outputs": [
    {
     "data": {
      "text/plain": [
       "EmergencyRoom                                        43498\n",
       "PhysicianReferral                                    22654\n",
       "NULL                                                  5142\n",
       "Transferfromahospital                                 2430\n",
       "Transferfromanotherhealthcarefacility                 1769\n",
       "ClinicReferral                                         832\n",
       " TransferfromaSkilledNursingFacility(SNF)              529\n",
       "NotMapped                                              139\n",
       "HMOReferral                                            128\n",
       "NotAvailable                                           111\n",
       "Court/LawEnforcement                                    14\n",
       "Transferfromhospitalinpt/samefacresultinasepclaim       12\n",
       "Transferfromcritialaccesshospital                        8\n",
       "TransferfromAmbulatorySurgeryCenter                      2\n",
       "NormalDelivery                                           2\n",
       "ExtramuralBirth                                          1\n",
       "SickBaby                                                 1\n",
       "Name: admission_source_id, dtype: int64"
      ]
     },
     "execution_count": 336,
     "metadata": {},
     "output_type": "execute_result"
    }
   ],
   "source": [
    "filtereddata['admission_source_id'].value_counts()"
   ]
  },
  {
   "cell_type": "code",
   "execution_count": 337,
   "metadata": {},
   "outputs": [
    {
     "name": "stderr",
     "output_type": "stream",
     "text": [
      "C:\\Users\\user\\Anaconda3\\lib\\site-packages\\pandas\\core\\generic.py:5890: SettingWithCopyWarning: \n",
      "A value is trying to be set on a copy of a slice from a DataFrame\n",
      "\n",
      "See the caveats in the documentation: http://pandas.pydata.org/pandas-docs/stable/indexing.html#indexing-view-versus-copy\n",
      "  self._update_inplace(new_data)\n"
     ]
    }
   ],
   "source": [
    "filtereddata['admission_source_id'].replace({'NULL':'NA','NotMapped':'NA','NotAvailable':'NA','PhysicianReferral':'Referral',\n",
    "                                      'ClinicReferral':'Referral','HMOReferral':'Referral','Transferfromahospital':'Transfer'\n",
    "                                     ,'Transferfromanotherhealthcarefacility':'Transfer',\n",
    "                                      ' TransferfromaSkilledNursingFacility(SNF)':'Transfer',\n",
    "                                      'Transferfromhospitalinpt/samefacresultinasepclaim':'Transfer',\n",
    "                                     'Transferfromcritialaccesshospital':'Transfer',\n",
    "                                             'TransferfromAmbulatorySurgeryCenter':'Transfer'\n",
    "                                     },inplace=True)\n",
    "filtereddata['admission_source_id'].replace({'Court/LawEnforcement':'Misc',\n",
    "                                             'NormalDelivery':'Misc','ExtramuralBirth':'Misc',\n",
    "                                     'SickBaby':'Misc'},inplace=True)"
   ]
  },
  {
   "cell_type": "code",
   "execution_count": 338,
   "metadata": {},
   "outputs": [
    {
     "data": {
      "text/plain": [
       "patient_nbr                 0\n",
       "diag_1                      0\n",
       "diag_2                      0\n",
       "diag_3                      0\n",
       "number_diagnoses            0\n",
       "admission_type_id           0\n",
       "discharge_disposition_id    0\n",
       "admission_source_id         0\n",
       "time_in_hospital            0\n",
       "encounter_id                0\n",
       "race                        0\n",
       "gender                      0\n",
       "age                         0\n",
       "num_lab_procedures          0\n",
       "num_procedures              0\n",
       "num_medications             0\n",
       "number_outpatient           0\n",
       "number_emergency            0\n",
       "number_inpatient            0\n",
       "metformin                   0\n",
       "repaglinide                 0\n",
       "nateglinide                 0\n",
       "chlorpropamide              0\n",
       "glimepiride                 0\n",
       "acetohexamide               0\n",
       "glipizide                   0\n",
       "glyburide                   0\n",
       "tolbutamide                 0\n",
       "pioglitazone                0\n",
       "rosiglitazone               0\n",
       "acarbose                    0\n",
       "miglitol                    0\n",
       "troglitazone                0\n",
       "tolazamide                  0\n",
       "insulin                     0\n",
       "glyburide-metformin         0\n",
       "glipizide-metformin         0\n",
       "glimepiride-pioglitazone    0\n",
       "metformin-rosiglitazone     0\n",
       "metformin-pioglitazone      0\n",
       "change                      0\n",
       "diabetesMed                 0\n",
       "readmitted                  0\n",
       "Total_drugs                 0\n",
       "Solo_Insulin                0\n",
       "dtype: int64"
      ]
     },
     "execution_count": 338,
     "metadata": {},
     "output_type": "execute_result"
    }
   ],
   "source": [
    "filtereddata.isnull().sum()"
   ]
  },
  {
   "cell_type": "code",
   "execution_count": 340,
   "metadata": {},
   "outputs": [
    {
     "data": {
      "text/plain": [
       "EmergencyRoom    43498\n",
       "Referral         23614\n",
       "NA                5392\n",
       "Transfer          4750\n",
       "Misc                18\n",
       "Name: admission_source_id, dtype: int64"
      ]
     },
     "execution_count": 340,
     "metadata": {},
     "output_type": "execute_result"
    }
   ],
   "source": [
    "filtereddata['admission_source_id'].value_counts()"
   ]
  },
  {
   "cell_type": "code",
   "execution_count": 342,
   "metadata": {},
   "outputs": [
    {
     "data": {
      "text/plain": [
       "Emergency        40547\n",
       "Elective         14509\n",
       "Urgent           14351\n",
       "NA                3817\n",
       "NULL              3756\n",
       "Not Mapped         272\n",
       "Trauma Center       12\n",
       "Newborn              8\n",
       "Name: admission_type_id, dtype: int64"
      ]
     },
     "execution_count": 342,
     "metadata": {},
     "output_type": "execute_result"
    }
   ],
   "source": [
    "filtereddata['admission_type_id'].value_counts()"
   ]
  },
  {
   "cell_type": "code",
   "execution_count": 344,
   "metadata": {},
   "outputs": [
    {
     "data": {
      "text/plain": [
       "ToHome                                                  46538\n",
       "ToSNF                                                   11025\n",
       "ToHomeWithHomeHealthCare                                10292\n",
       "NULL                                                     2283\n",
       "ToRehab                                                  1643\n",
       "ToShortTermHosp                                          1543\n",
       "ToInpatientCareInst                                       890\n",
       "Not_Mapped                                                767\n",
       "ToICF                                                     601\n",
       "LeftAMA                                                   452\n",
       "ToLongTermCare                                            351\n",
       "Hospice/Home                                              288\n",
       "Hospice/Med.Facility                                      265\n",
       "ToPsychiatricHosp.                                        113\n",
       "ToHomeIVProvider                                           80\n",
       "MedicareApprovedSwingBed                                   55\n",
       "ToNursingFac(MedicaidCertified,MedicareNotCertified)       36\n",
       "InpatientInSameHosp                                        19\n",
       "SameInst.Outpatient                                        12\n",
       "AnotherInst.Outpatient                                     11\n",
       "AnotherHospNeonatalCare                                     5\n",
       "ToFederalHealthCareFac.                                     3\n",
       "Name: discharge_disposition_id, dtype: int64"
      ]
     },
     "execution_count": 344,
     "metadata": {},
     "output_type": "execute_result"
    }
   ],
   "source": [
    "filtereddata['discharge_disposition_id'].value_counts()"
   ]
  },
  {
   "cell_type": "code",
   "execution_count": 345,
   "metadata": {},
   "outputs": [
    {
     "name": "stderr",
     "output_type": "stream",
     "text": [
      "C:\\Users\\user\\Anaconda3\\lib\\site-packages\\pandas\\core\\generic.py:5890: SettingWithCopyWarning: \n",
      "A value is trying to be set on a copy of a slice from a DataFrame\n",
      "\n",
      "See the caveats in the documentation: http://pandas.pydata.org/pandas-docs/stable/indexing.html#indexing-view-versus-copy\n",
      "  self._update_inplace(new_data)\n"
     ]
    },
    {
     "data": {
      "text/plain": [
       "ToHome                  56910\n",
       "To_further_treatment    16860\n",
       "NA                       3050\n",
       "LeftAMA                   452\n",
       "Name: discharge_disposition_id, dtype: int64"
      ]
     },
     "execution_count": 345,
     "metadata": {},
     "output_type": "execute_result"
    }
   ],
   "source": [
    "filtereddata['discharge_disposition_id'].replace(['ToShortTermHosp','ToSNF','ToICF','ToInpatientCareInst',\n",
    "                                          'InpatientInSameHosp','AnotherHospNeonatalCare','StillPatientOROutpatient',\n",
    "                                          'Hospice/Home','Hospice/Med.Facility','MedicareApprovedSwingBed',\n",
    "                                   'AnotherInst.Outpatient','SameInst.Outpatient','ToRehab','ToLongTermCare',\n",
    "                                          'ToNursingFac(MedicaidCertified,MedicareNotCertified)','ToFederalHealthCareFac.',\n",
    "                                          'ToPsychiatricHosp.','ToCAHosp','ToUnknownHCHosp.'],\n",
    "                                         ['To_further_treatment','To_further_treatment','To_further_treatment',\n",
    "                                          'To_further_treatment','To_further_treatment','To_further_treatment',\n",
    "                                          'To_further_treatment','To_further_treatment','To_further_treatment',\n",
    "                                          'To_further_treatment','To_further_treatment','To_further_treatment',\n",
    "                                          'To_further_treatment','To_further_treatment','To_further_treatment',\n",
    "                                          'To_further_treatment','To_further_treatment','To_further_treatment','To_further_treatment'],inplace=True)\n",
    "filtereddata['discharge_disposition_id'].replace(['NULL','Not_Mapped'],['NA','NA'],inplace=True)\n",
    "filtereddata['discharge_disposition_id'].replace(['ToHomeWithHomeHealthCare','ToHomeIVProvider'],['ToHome','ToHome'],inplace=True)\n",
    "filtereddata['discharge_disposition_id'].replace(['ExpiredAtHome.MedicaidOnly','ExpiredInMedFacility.MedicaidOnly'],['Expired','Expired'],inplace=True)\n",
    "filtereddata['discharge_disposition_id'].value_counts()"
   ]
  },
  {
   "cell_type": "code",
   "execution_count": 347,
   "metadata": {},
   "outputs": [],
   "source": [
    "filtereddata.to_csv('FilteredData_Updated.csv',index=0)"
   ]
  },
  {
   "cell_type": "code",
   "execution_count": 348,
   "metadata": {},
   "outputs": [
    {
     "data": {
      "text/plain": [
       "Index(['patient_nbr', 'diag_1', 'diag_2', 'diag_3', 'number_diagnoses',\n",
       "       'admission_type_id', 'discharge_disposition_id', 'admission_source_id',\n",
       "       'time_in_hospital', 'encounter_id', 'race', 'gender', 'age',\n",
       "       'num_lab_procedures', 'num_procedures', 'num_medications',\n",
       "       'number_outpatient', 'number_emergency', 'number_inpatient',\n",
       "       'metformin', 'repaglinide', 'nateglinide', 'chlorpropamide',\n",
       "       'glimepiride', 'acetohexamide', 'glipizide', 'glyburide', 'tolbutamide',\n",
       "       'pioglitazone', 'rosiglitazone', 'acarbose', 'miglitol', 'troglitazone',\n",
       "       'tolazamide', 'insulin', 'glyburide-metformin', 'glipizide-metformin',\n",
       "       'glimepiride-pioglitazone', 'metformin-rosiglitazone',\n",
       "       'metformin-pioglitazone', 'change', 'diabetesMed', 'readmitted',\n",
       "       'Total_drugs', 'Solo_Insulin'],\n",
       "      dtype='object')"
      ]
     },
     "execution_count": 348,
     "metadata": {},
     "output_type": "execute_result"
    }
   ],
   "source": [
    "filtereddata.columns"
   ]
  },
  {
   "cell_type": "code",
   "execution_count": 236,
   "metadata": {},
   "outputs": [
    {
     "data": {
      "text/html": [
       "<div>\n",
       "<style scoped>\n",
       "    .dataframe tbody tr th:only-of-type {\n",
       "        vertical-align: middle;\n",
       "    }\n",
       "\n",
       "    .dataframe tbody tr th {\n",
       "        vertical-align: top;\n",
       "    }\n",
       "\n",
       "    .dataframe thead th {\n",
       "        text-align: right;\n",
       "    }\n",
       "</style>\n",
       "<table border=\"1\" class=\"dataframe\">\n",
       "  <thead>\n",
       "    <tr style=\"text-align: right;\">\n",
       "      <th></th>\n",
       "      <th>patient_nbr</th>\n",
       "      <th>diag_1</th>\n",
       "      <th>diag_2</th>\n",
       "      <th>diag_3</th>\n",
       "      <th>number_diagnoses</th>\n",
       "      <th>admission_type_id</th>\n",
       "      <th>discharge_disposition_id</th>\n",
       "      <th>admission_source_id</th>\n",
       "      <th>time_in_hospital</th>\n",
       "      <th>encounter_id</th>\n",
       "      <th>...</th>\n",
       "      <th>glyburide-metformin</th>\n",
       "      <th>glipizide-metformin</th>\n",
       "      <th>glimepiride-pioglitazone</th>\n",
       "      <th>metformin-rosiglitazone</th>\n",
       "      <th>metformin-pioglitazone</th>\n",
       "      <th>change</th>\n",
       "      <th>diabetesMed</th>\n",
       "      <th>readmitted</th>\n",
       "      <th>Total_drugs</th>\n",
       "      <th>Solo_Insulin</th>\n",
       "    </tr>\n",
       "  </thead>\n",
       "  <tbody>\n",
       "    <tr>\n",
       "      <th>9</th>\n",
       "      <td>63555939</td>\n",
       "      <td>434</td>\n",
       "      <td>198</td>\n",
       "      <td>486</td>\n",
       "      <td>8</td>\n",
       "      <td>Elective</td>\n",
       "      <td>To_further_treatment</td>\n",
       "      <td>Transfer</td>\n",
       "      <td>12</td>\n",
       "      <td>15738</td>\n",
       "      <td>...</td>\n",
       "      <td>No</td>\n",
       "      <td>No</td>\n",
       "      <td>No</td>\n",
       "      <td>No</td>\n",
       "      <td>No</td>\n",
       "      <td>Ch</td>\n",
       "      <td>Yes</td>\n",
       "      <td>NO</td>\n",
       "      <td>2</td>\n",
       "      <td>0</td>\n",
       "    </tr>\n",
       "    <tr>\n",
       "      <th>12</th>\n",
       "      <td>85504905</td>\n",
       "      <td>428</td>\n",
       "      <td>250.43</td>\n",
       "      <td>250.6</td>\n",
       "      <td>8</td>\n",
       "      <td>Emergency</td>\n",
       "      <td>To_further_treatment</td>\n",
       "      <td>EmergencyRoom</td>\n",
       "      <td>7</td>\n",
       "      <td>40926</td>\n",
       "      <td>...</td>\n",
       "      <td>No</td>\n",
       "      <td>No</td>\n",
       "      <td>No</td>\n",
       "      <td>No</td>\n",
       "      <td>No</td>\n",
       "      <td>Ch</td>\n",
       "      <td>Yes</td>\n",
       "      <td>&lt;30</td>\n",
       "      <td>3</td>\n",
       "      <td>0</td>\n",
       "    </tr>\n",
       "    <tr>\n",
       "      <th>15</th>\n",
       "      <td>86328819</td>\n",
       "      <td>999</td>\n",
       "      <td>507</td>\n",
       "      <td>996</td>\n",
       "      <td>9</td>\n",
       "      <td>Emergency</td>\n",
       "      <td>To_further_treatment</td>\n",
       "      <td>EmergencyRoom</td>\n",
       "      <td>12</td>\n",
       "      <td>73578</td>\n",
       "      <td>...</td>\n",
       "      <td>No</td>\n",
       "      <td>No</td>\n",
       "      <td>No</td>\n",
       "      <td>No</td>\n",
       "      <td>No</td>\n",
       "      <td>Ch</td>\n",
       "      <td>Yes</td>\n",
       "      <td>NO</td>\n",
       "      <td>1</td>\n",
       "      <td>1</td>\n",
       "    </tr>\n",
       "    <tr>\n",
       "      <th>26</th>\n",
       "      <td>40523301</td>\n",
       "      <td>427</td>\n",
       "      <td>428</td>\n",
       "      <td>414</td>\n",
       "      <td>7</td>\n",
       "      <td>Emergency</td>\n",
       "      <td>To_further_treatment</td>\n",
       "      <td>EmergencyRoom</td>\n",
       "      <td>6</td>\n",
       "      <td>236316</td>\n",
       "      <td>...</td>\n",
       "      <td>No</td>\n",
       "      <td>No</td>\n",
       "      <td>No</td>\n",
       "      <td>No</td>\n",
       "      <td>No</td>\n",
       "      <td>Ch</td>\n",
       "      <td>Yes</td>\n",
       "      <td>NO</td>\n",
       "      <td>2</td>\n",
       "      <td>0</td>\n",
       "    </tr>\n",
       "    <tr>\n",
       "      <th>29</th>\n",
       "      <td>18196434</td>\n",
       "      <td>428</td>\n",
       "      <td>410</td>\n",
       "      <td>414</td>\n",
       "      <td>8</td>\n",
       "      <td>Emergency</td>\n",
       "      <td>To_further_treatment</td>\n",
       "      <td>EmergencyRoom</td>\n",
       "      <td>5</td>\n",
       "      <td>252822</td>\n",
       "      <td>...</td>\n",
       "      <td>No</td>\n",
       "      <td>No</td>\n",
       "      <td>No</td>\n",
       "      <td>No</td>\n",
       "      <td>No</td>\n",
       "      <td>Ch</td>\n",
       "      <td>Yes</td>\n",
       "      <td>&gt;30</td>\n",
       "      <td>2</td>\n",
       "      <td>0</td>\n",
       "    </tr>\n",
       "    <tr>\n",
       "      <th>31</th>\n",
       "      <td>96664626</td>\n",
       "      <td>462</td>\n",
       "      <td>250.01</td>\n",
       "      <td>276</td>\n",
       "      <td>8</td>\n",
       "      <td>Emergency</td>\n",
       "      <td>To_further_treatment</td>\n",
       "      <td>EmergencyRoom</td>\n",
       "      <td>1</td>\n",
       "      <td>253722</td>\n",
       "      <td>...</td>\n",
       "      <td>No</td>\n",
       "      <td>No</td>\n",
       "      <td>No</td>\n",
       "      <td>No</td>\n",
       "      <td>No</td>\n",
       "      <td>Ch</td>\n",
       "      <td>Yes</td>\n",
       "      <td>&gt;30</td>\n",
       "      <td>1</td>\n",
       "      <td>1</td>\n",
       "    </tr>\n",
       "    <tr>\n",
       "      <th>40</th>\n",
       "      <td>80588529</td>\n",
       "      <td>414</td>\n",
       "      <td>411</td>\n",
       "      <td>250.01</td>\n",
       "      <td>4</td>\n",
       "      <td>Emergency</td>\n",
       "      <td>To_further_treatment</td>\n",
       "      <td>EmergencyRoom</td>\n",
       "      <td>1</td>\n",
       "      <td>383430</td>\n",
       "      <td>...</td>\n",
       "      <td>No</td>\n",
       "      <td>No</td>\n",
       "      <td>No</td>\n",
       "      <td>No</td>\n",
       "      <td>No</td>\n",
       "      <td>Ch</td>\n",
       "      <td>Yes</td>\n",
       "      <td>&gt;30</td>\n",
       "      <td>2</td>\n",
       "      <td>0</td>\n",
       "    </tr>\n",
       "    <tr>\n",
       "      <th>46</th>\n",
       "      <td>86240259</td>\n",
       "      <td>428</td>\n",
       "      <td>427</td>\n",
       "      <td>250.01</td>\n",
       "      <td>7</td>\n",
       "      <td>Elective</td>\n",
       "      <td>To_further_treatment</td>\n",
       "      <td>Transfer</td>\n",
       "      <td>9</td>\n",
       "      <td>486156</td>\n",
       "      <td>...</td>\n",
       "      <td>No</td>\n",
       "      <td>No</td>\n",
       "      <td>No</td>\n",
       "      <td>No</td>\n",
       "      <td>No</td>\n",
       "      <td>Ch</td>\n",
       "      <td>Yes</td>\n",
       "      <td>&lt;30</td>\n",
       "      <td>2</td>\n",
       "      <td>0</td>\n",
       "    </tr>\n",
       "    <tr>\n",
       "      <th>47</th>\n",
       "      <td>51838164</td>\n",
       "      <td>295</td>\n",
       "      <td>599</td>\n",
       "      <td>250</td>\n",
       "      <td>3</td>\n",
       "      <td>Elective</td>\n",
       "      <td>To_further_treatment</td>\n",
       "      <td>Transfer</td>\n",
       "      <td>9</td>\n",
       "      <td>498030</td>\n",
       "      <td>...</td>\n",
       "      <td>No</td>\n",
       "      <td>No</td>\n",
       "      <td>No</td>\n",
       "      <td>No</td>\n",
       "      <td>No</td>\n",
       "      <td>Ch</td>\n",
       "      <td>Yes</td>\n",
       "      <td>NO</td>\n",
       "      <td>2</td>\n",
       "      <td>0</td>\n",
       "    </tr>\n",
       "    <tr>\n",
       "      <th>61</th>\n",
       "      <td>94994802</td>\n",
       "      <td>414</td>\n",
       "      <td>411</td>\n",
       "      <td>428</td>\n",
       "      <td>8</td>\n",
       "      <td>Emergency</td>\n",
       "      <td>To_further_treatment</td>\n",
       "      <td>EmergencyRoom</td>\n",
       "      <td>4</td>\n",
       "      <td>679722</td>\n",
       "      <td>...</td>\n",
       "      <td>No</td>\n",
       "      <td>No</td>\n",
       "      <td>No</td>\n",
       "      <td>No</td>\n",
       "      <td>No</td>\n",
       "      <td>Ch</td>\n",
       "      <td>Yes</td>\n",
       "      <td>&gt;30</td>\n",
       "      <td>2</td>\n",
       "      <td>0</td>\n",
       "    </tr>\n",
       "    <tr>\n",
       "      <th>62</th>\n",
       "      <td>64729746</td>\n",
       "      <td>428</td>\n",
       "      <td>250.03</td>\n",
       "      <td>707</td>\n",
       "      <td>9</td>\n",
       "      <td>Emergency</td>\n",
       "      <td>To_further_treatment</td>\n",
       "      <td>EmergencyRoom</td>\n",
       "      <td>3</td>\n",
       "      <td>682494</td>\n",
       "      <td>...</td>\n",
       "      <td>No</td>\n",
       "      <td>No</td>\n",
       "      <td>No</td>\n",
       "      <td>No</td>\n",
       "      <td>No</td>\n",
       "      <td>Ch</td>\n",
       "      <td>Yes</td>\n",
       "      <td>&gt;30</td>\n",
       "      <td>1</td>\n",
       "      <td>1</td>\n",
       "    </tr>\n",
       "    <tr>\n",
       "      <th>63</th>\n",
       "      <td>24370299</td>\n",
       "      <td>722</td>\n",
       "      <td>357</td>\n",
       "      <td>496</td>\n",
       "      <td>9</td>\n",
       "      <td>Emergency</td>\n",
       "      <td>To_further_treatment</td>\n",
       "      <td>EmergencyRoom</td>\n",
       "      <td>4</td>\n",
       "      <td>685086</td>\n",
       "      <td>...</td>\n",
       "      <td>No</td>\n",
       "      <td>No</td>\n",
       "      <td>No</td>\n",
       "      <td>No</td>\n",
       "      <td>No</td>\n",
       "      <td>Ch</td>\n",
       "      <td>Yes</td>\n",
       "      <td>NO</td>\n",
       "      <td>3</td>\n",
       "      <td>0</td>\n",
       "    </tr>\n",
       "    <tr>\n",
       "      <th>65</th>\n",
       "      <td>58231314</td>\n",
       "      <td>250.7</td>\n",
       "      <td>440</td>\n",
       "      <td>715</td>\n",
       "      <td>9</td>\n",
       "      <td>Urgent</td>\n",
       "      <td>To_further_treatment</td>\n",
       "      <td>Referral</td>\n",
       "      <td>8</td>\n",
       "      <td>713268</td>\n",
       "      <td>...</td>\n",
       "      <td>No</td>\n",
       "      <td>No</td>\n",
       "      <td>No</td>\n",
       "      <td>No</td>\n",
       "      <td>No</td>\n",
       "      <td>No</td>\n",
       "      <td>Yes</td>\n",
       "      <td>&gt;30</td>\n",
       "      <td>1</td>\n",
       "      <td>1</td>\n",
       "    </tr>\n",
       "    <tr>\n",
       "      <th>66</th>\n",
       "      <td>3376278</td>\n",
       "      <td>250.11</td>\n",
       "      <td>missing</td>\n",
       "      <td>missing</td>\n",
       "      <td>1</td>\n",
       "      <td>Emergency</td>\n",
       "      <td>To_further_treatment</td>\n",
       "      <td>EmergencyRoom</td>\n",
       "      <td>1</td>\n",
       "      <td>715086</td>\n",
       "      <td>...</td>\n",
       "      <td>No</td>\n",
       "      <td>No</td>\n",
       "      <td>No</td>\n",
       "      <td>No</td>\n",
       "      <td>No</td>\n",
       "      <td>Ch</td>\n",
       "      <td>Yes</td>\n",
       "      <td>NO</td>\n",
       "      <td>1</td>\n",
       "      <td>1</td>\n",
       "    </tr>\n",
       "    <tr>\n",
       "      <th>74</th>\n",
       "      <td>93196251</td>\n",
       "      <td>414</td>\n",
       "      <td>411</td>\n",
       "      <td>276</td>\n",
       "      <td>7</td>\n",
       "      <td>Emergency</td>\n",
       "      <td>To_further_treatment</td>\n",
       "      <td>EmergencyRoom</td>\n",
       "      <td>5</td>\n",
       "      <td>955884</td>\n",
       "      <td>...</td>\n",
       "      <td>No</td>\n",
       "      <td>No</td>\n",
       "      <td>No</td>\n",
       "      <td>No</td>\n",
       "      <td>No</td>\n",
       "      <td>Ch</td>\n",
       "      <td>Yes</td>\n",
       "      <td>&gt;30</td>\n",
       "      <td>1</td>\n",
       "      <td>1</td>\n",
       "    </tr>\n",
       "    <tr>\n",
       "      <th>77</th>\n",
       "      <td>100113975</td>\n",
       "      <td>715</td>\n",
       "      <td>250.01</td>\n",
       "      <td>401</td>\n",
       "      <td>6</td>\n",
       "      <td>Elective</td>\n",
       "      <td>To_further_treatment</td>\n",
       "      <td>Referral</td>\n",
       "      <td>3</td>\n",
       "      <td>1050294</td>\n",
       "      <td>...</td>\n",
       "      <td>No</td>\n",
       "      <td>No</td>\n",
       "      <td>No</td>\n",
       "      <td>No</td>\n",
       "      <td>No</td>\n",
       "      <td>Ch</td>\n",
       "      <td>Yes</td>\n",
       "      <td>&lt;30</td>\n",
       "      <td>1</td>\n",
       "      <td>1</td>\n",
       "    </tr>\n",
       "    <tr>\n",
       "      <th>87</th>\n",
       "      <td>73921680</td>\n",
       "      <td>812</td>\n",
       "      <td>496</td>\n",
       "      <td>250</td>\n",
       "      <td>7</td>\n",
       "      <td>Urgent</td>\n",
       "      <td>To_further_treatment</td>\n",
       "      <td>Referral</td>\n",
       "      <td>3</td>\n",
       "      <td>1139226</td>\n",
       "      <td>...</td>\n",
       "      <td>No</td>\n",
       "      <td>No</td>\n",
       "      <td>No</td>\n",
       "      <td>No</td>\n",
       "      <td>No</td>\n",
       "      <td>No</td>\n",
       "      <td>Yes</td>\n",
       "      <td>NO</td>\n",
       "      <td>1</td>\n",
       "      <td>0</td>\n",
       "    </tr>\n",
       "    <tr>\n",
       "      <th>90</th>\n",
       "      <td>20830941</td>\n",
       "      <td>410</td>\n",
       "      <td>424</td>\n",
       "      <td>250</td>\n",
       "      <td>5</td>\n",
       "      <td>Emergency</td>\n",
       "      <td>To_further_treatment</td>\n",
       "      <td>EmergencyRoom</td>\n",
       "      <td>5</td>\n",
       "      <td>1161024</td>\n",
       "      <td>...</td>\n",
       "      <td>No</td>\n",
       "      <td>No</td>\n",
       "      <td>No</td>\n",
       "      <td>No</td>\n",
       "      <td>No</td>\n",
       "      <td>Ch</td>\n",
       "      <td>Yes</td>\n",
       "      <td>&gt;30</td>\n",
       "      <td>2</td>\n",
       "      <td>0</td>\n",
       "    </tr>\n",
       "    <tr>\n",
       "      <th>96</th>\n",
       "      <td>106343838</td>\n",
       "      <td>38</td>\n",
       "      <td>428</td>\n",
       "      <td>427</td>\n",
       "      <td>8</td>\n",
       "      <td>Emergency</td>\n",
       "      <td>To_further_treatment</td>\n",
       "      <td>EmergencyRoom</td>\n",
       "      <td>5</td>\n",
       "      <td>1195548</td>\n",
       "      <td>...</td>\n",
       "      <td>No</td>\n",
       "      <td>No</td>\n",
       "      <td>No</td>\n",
       "      <td>No</td>\n",
       "      <td>No</td>\n",
       "      <td>No</td>\n",
       "      <td>Yes</td>\n",
       "      <td>&gt;30</td>\n",
       "      <td>1</td>\n",
       "      <td>1</td>\n",
       "    </tr>\n",
       "    <tr>\n",
       "      <th>103</th>\n",
       "      <td>67897251</td>\n",
       "      <td>411</td>\n",
       "      <td>401</td>\n",
       "      <td>490</td>\n",
       "      <td>7</td>\n",
       "      <td>Emergency</td>\n",
       "      <td>To_further_treatment</td>\n",
       "      <td>EmergencyRoom</td>\n",
       "      <td>1</td>\n",
       "      <td>1270524</td>\n",
       "      <td>...</td>\n",
       "      <td>No</td>\n",
       "      <td>No</td>\n",
       "      <td>No</td>\n",
       "      <td>No</td>\n",
       "      <td>No</td>\n",
       "      <td>No</td>\n",
       "      <td>Yes</td>\n",
       "      <td>NO</td>\n",
       "      <td>1</td>\n",
       "      <td>1</td>\n",
       "    </tr>\n",
       "    <tr>\n",
       "      <th>114</th>\n",
       "      <td>6915888</td>\n",
       "      <td>434</td>\n",
       "      <td>250.6</td>\n",
       "      <td>250.7</td>\n",
       "      <td>8</td>\n",
       "      <td>Emergency</td>\n",
       "      <td>To_further_treatment</td>\n",
       "      <td>EmergencyRoom</td>\n",
       "      <td>14</td>\n",
       "      <td>1810752</td>\n",
       "      <td>...</td>\n",
       "      <td>No</td>\n",
       "      <td>No</td>\n",
       "      <td>No</td>\n",
       "      <td>No</td>\n",
       "      <td>No</td>\n",
       "      <td>Ch</td>\n",
       "      <td>Yes</td>\n",
       "      <td>&lt;30</td>\n",
       "      <td>1</td>\n",
       "      <td>1</td>\n",
       "    </tr>\n",
       "    <tr>\n",
       "      <th>116</th>\n",
       "      <td>3115566</td>\n",
       "      <td>428</td>\n",
       "      <td>410</td>\n",
       "      <td>518</td>\n",
       "      <td>7</td>\n",
       "      <td>Emergency</td>\n",
       "      <td>To_further_treatment</td>\n",
       "      <td>EmergencyRoom</td>\n",
       "      <td>4</td>\n",
       "      <td>1881372</td>\n",
       "      <td>...</td>\n",
       "      <td>No</td>\n",
       "      <td>No</td>\n",
       "      <td>No</td>\n",
       "      <td>No</td>\n",
       "      <td>No</td>\n",
       "      <td>No</td>\n",
       "      <td>Yes</td>\n",
       "      <td>&lt;30</td>\n",
       "      <td>1</td>\n",
       "      <td>1</td>\n",
       "    </tr>\n",
       "    <tr>\n",
       "      <th>172</th>\n",
       "      <td>88614963</td>\n",
       "      <td>428</td>\n",
       "      <td>427</td>\n",
       "      <td>V45</td>\n",
       "      <td>6</td>\n",
       "      <td>Elective</td>\n",
       "      <td>To_further_treatment</td>\n",
       "      <td>Transfer</td>\n",
       "      <td>6</td>\n",
       "      <td>2549268</td>\n",
       "      <td>...</td>\n",
       "      <td>No</td>\n",
       "      <td>No</td>\n",
       "      <td>No</td>\n",
       "      <td>No</td>\n",
       "      <td>No</td>\n",
       "      <td>Ch</td>\n",
       "      <td>Yes</td>\n",
       "      <td>&lt;30</td>\n",
       "      <td>2</td>\n",
       "      <td>0</td>\n",
       "    </tr>\n",
       "    <tr>\n",
       "      <th>175</th>\n",
       "      <td>86240259</td>\n",
       "      <td>276</td>\n",
       "      <td>8</td>\n",
       "      <td>496</td>\n",
       "      <td>8</td>\n",
       "      <td>Emergency</td>\n",
       "      <td>To_further_treatment</td>\n",
       "      <td>EmergencyRoom</td>\n",
       "      <td>11</td>\n",
       "      <td>2552952</td>\n",
       "      <td>...</td>\n",
       "      <td>No</td>\n",
       "      <td>No</td>\n",
       "      <td>No</td>\n",
       "      <td>No</td>\n",
       "      <td>No</td>\n",
       "      <td>Ch</td>\n",
       "      <td>Yes</td>\n",
       "      <td>&gt;30</td>\n",
       "      <td>2</td>\n",
       "      <td>0</td>\n",
       "    </tr>\n",
       "    <tr>\n",
       "      <th>211</th>\n",
       "      <td>83363985</td>\n",
       "      <td>593</td>\n",
       "      <td>401</td>\n",
       "      <td>428</td>\n",
       "      <td>6</td>\n",
       "      <td>Urgent</td>\n",
       "      <td>To_further_treatment</td>\n",
       "      <td>Referral</td>\n",
       "      <td>1</td>\n",
       "      <td>2730936</td>\n",
       "      <td>...</td>\n",
       "      <td>No</td>\n",
       "      <td>No</td>\n",
       "      <td>No</td>\n",
       "      <td>No</td>\n",
       "      <td>No</td>\n",
       "      <td>No</td>\n",
       "      <td>Yes</td>\n",
       "      <td>&gt;30</td>\n",
       "      <td>1</td>\n",
       "      <td>1</td>\n",
       "    </tr>\n",
       "    <tr>\n",
       "      <th>328</th>\n",
       "      <td>94582188</td>\n",
       "      <td>722</td>\n",
       "      <td>428</td>\n",
       "      <td>496</td>\n",
       "      <td>8</td>\n",
       "      <td>Elective</td>\n",
       "      <td>To_further_treatment</td>\n",
       "      <td>Transfer</td>\n",
       "      <td>10</td>\n",
       "      <td>3302454</td>\n",
       "      <td>...</td>\n",
       "      <td>No</td>\n",
       "      <td>No</td>\n",
       "      <td>No</td>\n",
       "      <td>No</td>\n",
       "      <td>No</td>\n",
       "      <td>Ch</td>\n",
       "      <td>Yes</td>\n",
       "      <td>&lt;30</td>\n",
       "      <td>1</td>\n",
       "      <td>1</td>\n",
       "    </tr>\n",
       "    <tr>\n",
       "      <th>426</th>\n",
       "      <td>2524077</td>\n",
       "      <td>715</td>\n",
       "      <td>250</td>\n",
       "      <td>401</td>\n",
       "      <td>5</td>\n",
       "      <td>Elective</td>\n",
       "      <td>To_further_treatment</td>\n",
       "      <td>Referral</td>\n",
       "      <td>3</td>\n",
       "      <td>3863700</td>\n",
       "      <td>...</td>\n",
       "      <td>No</td>\n",
       "      <td>No</td>\n",
       "      <td>No</td>\n",
       "      <td>No</td>\n",
       "      <td>No</td>\n",
       "      <td>Ch</td>\n",
       "      <td>Yes</td>\n",
       "      <td>NO</td>\n",
       "      <td>3</td>\n",
       "      <td>0</td>\n",
       "    </tr>\n",
       "    <tr>\n",
       "      <th>476</th>\n",
       "      <td>90460242</td>\n",
       "      <td>414</td>\n",
       "      <td>599</td>\n",
       "      <td>403</td>\n",
       "      <td>6</td>\n",
       "      <td>Emergency</td>\n",
       "      <td>To_further_treatment</td>\n",
       "      <td>EmergencyRoom</td>\n",
       "      <td>3</td>\n",
       "      <td>4166928</td>\n",
       "      <td>...</td>\n",
       "      <td>No</td>\n",
       "      <td>No</td>\n",
       "      <td>No</td>\n",
       "      <td>No</td>\n",
       "      <td>No</td>\n",
       "      <td>No</td>\n",
       "      <td>Yes</td>\n",
       "      <td>&lt;30</td>\n",
       "      <td>1</td>\n",
       "      <td>1</td>\n",
       "    </tr>\n",
       "    <tr>\n",
       "      <th>487</th>\n",
       "      <td>86797872</td>\n",
       "      <td>434</td>\n",
       "      <td>428</td>\n",
       "      <td>250.01</td>\n",
       "      <td>5</td>\n",
       "      <td>NULL</td>\n",
       "      <td>To_further_treatment</td>\n",
       "      <td>EmergencyRoom</td>\n",
       "      <td>9</td>\n",
       "      <td>4211154</td>\n",
       "      <td>...</td>\n",
       "      <td>No</td>\n",
       "      <td>No</td>\n",
       "      <td>No</td>\n",
       "      <td>No</td>\n",
       "      <td>No</td>\n",
       "      <td>No</td>\n",
       "      <td>Yes</td>\n",
       "      <td>&gt;30</td>\n",
       "      <td>1</td>\n",
       "      <td>1</td>\n",
       "    </tr>\n",
       "    <tr>\n",
       "      <th>507</th>\n",
       "      <td>83898765</td>\n",
       "      <td>414</td>\n",
       "      <td>411</td>\n",
       "      <td>250.01</td>\n",
       "      <td>4</td>\n",
       "      <td>Urgent</td>\n",
       "      <td>To_further_treatment</td>\n",
       "      <td>Transfer</td>\n",
       "      <td>1</td>\n",
       "      <td>4313136</td>\n",
       "      <td>...</td>\n",
       "      <td>No</td>\n",
       "      <td>No</td>\n",
       "      <td>No</td>\n",
       "      <td>No</td>\n",
       "      <td>No</td>\n",
       "      <td>No</td>\n",
       "      <td>Yes</td>\n",
       "      <td>&lt;30</td>\n",
       "      <td>1</td>\n",
       "      <td>1</td>\n",
       "    </tr>\n",
       "    <tr>\n",
       "      <th>...</th>\n",
       "      <td>...</td>\n",
       "      <td>...</td>\n",
       "      <td>...</td>\n",
       "      <td>...</td>\n",
       "      <td>...</td>\n",
       "      <td>...</td>\n",
       "      <td>...</td>\n",
       "      <td>...</td>\n",
       "      <td>...</td>\n",
       "      <td>...</td>\n",
       "      <td>...</td>\n",
       "      <td>...</td>\n",
       "      <td>...</td>\n",
       "      <td>...</td>\n",
       "      <td>...</td>\n",
       "      <td>...</td>\n",
       "      <td>...</td>\n",
       "      <td>...</td>\n",
       "      <td>...</td>\n",
       "      <td>...</td>\n",
       "      <td>...</td>\n",
       "    </tr>\n",
       "    <tr>\n",
       "      <th>101626</th>\n",
       "      <td>65713158</td>\n",
       "      <td>518</td>\n",
       "      <td>486</td>\n",
       "      <td>491</td>\n",
       "      <td>9</td>\n",
       "      <td>Emergency</td>\n",
       "      <td>To_further_treatment</td>\n",
       "      <td>EmergencyRoom</td>\n",
       "      <td>3</td>\n",
       "      <td>441986030</td>\n",
       "      <td>...</td>\n",
       "      <td>No</td>\n",
       "      <td>No</td>\n",
       "      <td>No</td>\n",
       "      <td>No</td>\n",
       "      <td>No</td>\n",
       "      <td>Ch</td>\n",
       "      <td>Yes</td>\n",
       "      <td>&lt;30</td>\n",
       "      <td>2</td>\n",
       "      <td>0</td>\n",
       "    </tr>\n",
       "    <tr>\n",
       "      <th>101640</th>\n",
       "      <td>62420742</td>\n",
       "      <td>428</td>\n",
       "      <td>511</td>\n",
       "      <td>276</td>\n",
       "      <td>9</td>\n",
       "      <td>Emergency</td>\n",
       "      <td>To_further_treatment</td>\n",
       "      <td>EmergencyRoom</td>\n",
       "      <td>8</td>\n",
       "      <td>442077494</td>\n",
       "      <td>...</td>\n",
       "      <td>No</td>\n",
       "      <td>No</td>\n",
       "      <td>No</td>\n",
       "      <td>No</td>\n",
       "      <td>No</td>\n",
       "      <td>No</td>\n",
       "      <td>Yes</td>\n",
       "      <td>NO</td>\n",
       "      <td>1</td>\n",
       "      <td>1</td>\n",
       "    </tr>\n",
       "    <tr>\n",
       "      <th>101648</th>\n",
       "      <td>29662614</td>\n",
       "      <td>569</td>\n",
       "      <td>578</td>\n",
       "      <td>709</td>\n",
       "      <td>9</td>\n",
       "      <td>Emergency</td>\n",
       "      <td>To_further_treatment</td>\n",
       "      <td>EmergencyRoom</td>\n",
       "      <td>5</td>\n",
       "      <td>442105448</td>\n",
       "      <td>...</td>\n",
       "      <td>No</td>\n",
       "      <td>No</td>\n",
       "      <td>No</td>\n",
       "      <td>No</td>\n",
       "      <td>No</td>\n",
       "      <td>Ch</td>\n",
       "      <td>Yes</td>\n",
       "      <td>&gt;30</td>\n",
       "      <td>2</td>\n",
       "      <td>0</td>\n",
       "    </tr>\n",
       "    <tr>\n",
       "      <th>101649</th>\n",
       "      <td>41432652</td>\n",
       "      <td>518</td>\n",
       "      <td>486</td>\n",
       "      <td>511</td>\n",
       "      <td>9</td>\n",
       "      <td>Emergency</td>\n",
       "      <td>To_further_treatment</td>\n",
       "      <td>EmergencyRoom</td>\n",
       "      <td>11</td>\n",
       "      <td>442512770</td>\n",
       "      <td>...</td>\n",
       "      <td>No</td>\n",
       "      <td>No</td>\n",
       "      <td>No</td>\n",
       "      <td>No</td>\n",
       "      <td>No</td>\n",
       "      <td>Ch</td>\n",
       "      <td>Yes</td>\n",
       "      <td>NO</td>\n",
       "      <td>1</td>\n",
       "      <td>1</td>\n",
       "    </tr>\n",
       "    <tr>\n",
       "      <th>101660</th>\n",
       "      <td>68336064</td>\n",
       "      <td>250.82</td>\n",
       "      <td>599</td>\n",
       "      <td>276</td>\n",
       "      <td>9</td>\n",
       "      <td>Emergency</td>\n",
       "      <td>To_further_treatment</td>\n",
       "      <td>EmergencyRoom</td>\n",
       "      <td>5</td>\n",
       "      <td>442552934</td>\n",
       "      <td>...</td>\n",
       "      <td>No</td>\n",
       "      <td>No</td>\n",
       "      <td>No</td>\n",
       "      <td>No</td>\n",
       "      <td>No</td>\n",
       "      <td>No</td>\n",
       "      <td>Yes</td>\n",
       "      <td>&gt;30</td>\n",
       "      <td>1</td>\n",
       "      <td>1</td>\n",
       "    </tr>\n",
       "    <tr>\n",
       "      <th>101667</th>\n",
       "      <td>78208677</td>\n",
       "      <td>431</td>\n",
       "      <td>276</td>\n",
       "      <td>250</td>\n",
       "      <td>5</td>\n",
       "      <td>Emergency</td>\n",
       "      <td>To_further_treatment</td>\n",
       "      <td>EmergencyRoom</td>\n",
       "      <td>4</td>\n",
       "      <td>442577684</td>\n",
       "      <td>...</td>\n",
       "      <td>No</td>\n",
       "      <td>No</td>\n",
       "      <td>No</td>\n",
       "      <td>No</td>\n",
       "      <td>No</td>\n",
       "      <td>Ch</td>\n",
       "      <td>Yes</td>\n",
       "      <td>&lt;30</td>\n",
       "      <td>1</td>\n",
       "      <td>0</td>\n",
       "    </tr>\n",
       "    <tr>\n",
       "      <th>101671</th>\n",
       "      <td>151756061</td>\n",
       "      <td>491</td>\n",
       "      <td>584</td>\n",
       "      <td>599</td>\n",
       "      <td>9</td>\n",
       "      <td>Emergency</td>\n",
       "      <td>To_further_treatment</td>\n",
       "      <td>EmergencyRoom</td>\n",
       "      <td>7</td>\n",
       "      <td>442606028</td>\n",
       "      <td>...</td>\n",
       "      <td>No</td>\n",
       "      <td>No</td>\n",
       "      <td>No</td>\n",
       "      <td>No</td>\n",
       "      <td>No</td>\n",
       "      <td>Ch</td>\n",
       "      <td>Yes</td>\n",
       "      <td>&gt;30</td>\n",
       "      <td>1</td>\n",
       "      <td>1</td>\n",
       "    </tr>\n",
       "    <tr>\n",
       "      <th>101674</th>\n",
       "      <td>92919915</td>\n",
       "      <td>296</td>\n",
       "      <td>305</td>\n",
       "      <td>250.6</td>\n",
       "      <td>9</td>\n",
       "      <td>Elective</td>\n",
       "      <td>To_further_treatment</td>\n",
       "      <td>Referral</td>\n",
       "      <td>7</td>\n",
       "      <td>442621412</td>\n",
       "      <td>...</td>\n",
       "      <td>No</td>\n",
       "      <td>No</td>\n",
       "      <td>No</td>\n",
       "      <td>No</td>\n",
       "      <td>No</td>\n",
       "      <td>Ch</td>\n",
       "      <td>Yes</td>\n",
       "      <td>&lt;30</td>\n",
       "      <td>2</td>\n",
       "      <td>0</td>\n",
       "    </tr>\n",
       "    <tr>\n",
       "      <th>101677</th>\n",
       "      <td>123227060</td>\n",
       "      <td>414</td>\n",
       "      <td>411</td>\n",
       "      <td>412</td>\n",
       "      <td>9</td>\n",
       "      <td>Emergency</td>\n",
       "      <td>To_further_treatment</td>\n",
       "      <td>EmergencyRoom</td>\n",
       "      <td>4</td>\n",
       "      <td>442635584</td>\n",
       "      <td>...</td>\n",
       "      <td>No</td>\n",
       "      <td>No</td>\n",
       "      <td>No</td>\n",
       "      <td>No</td>\n",
       "      <td>No</td>\n",
       "      <td>No</td>\n",
       "      <td>Yes</td>\n",
       "      <td>&gt;30</td>\n",
       "      <td>1</td>\n",
       "      <td>0</td>\n",
       "    </tr>\n",
       "    <tr>\n",
       "      <th>101678</th>\n",
       "      <td>141498050</td>\n",
       "      <td>157</td>\n",
       "      <td>V66</td>\n",
       "      <td>250.02</td>\n",
       "      <td>8</td>\n",
       "      <td>Elective</td>\n",
       "      <td>To_further_treatment</td>\n",
       "      <td>Referral</td>\n",
       "      <td>4</td>\n",
       "      <td>442641206</td>\n",
       "      <td>...</td>\n",
       "      <td>No</td>\n",
       "      <td>No</td>\n",
       "      <td>No</td>\n",
       "      <td>No</td>\n",
       "      <td>No</td>\n",
       "      <td>Ch</td>\n",
       "      <td>Yes</td>\n",
       "      <td>NO</td>\n",
       "      <td>1</td>\n",
       "      <td>1</td>\n",
       "    </tr>\n",
       "    <tr>\n",
       "      <th>101685</th>\n",
       "      <td>98403552</td>\n",
       "      <td>491</td>\n",
       "      <td>584</td>\n",
       "      <td>250</td>\n",
       "      <td>9</td>\n",
       "      <td>Emergency</td>\n",
       "      <td>To_further_treatment</td>\n",
       "      <td>EmergencyRoom</td>\n",
       "      <td>5</td>\n",
       "      <td>443102726</td>\n",
       "      <td>...</td>\n",
       "      <td>No</td>\n",
       "      <td>No</td>\n",
       "      <td>No</td>\n",
       "      <td>No</td>\n",
       "      <td>No</td>\n",
       "      <td>Ch</td>\n",
       "      <td>Yes</td>\n",
       "      <td>&gt;30</td>\n",
       "      <td>1</td>\n",
       "      <td>1</td>\n",
       "    </tr>\n",
       "    <tr>\n",
       "      <th>101689</th>\n",
       "      <td>86215806</td>\n",
       "      <td>276</td>\n",
       "      <td>238</td>\n",
       "      <td>782</td>\n",
       "      <td>9</td>\n",
       "      <td>Emergency</td>\n",
       "      <td>To_further_treatment</td>\n",
       "      <td>EmergencyRoom</td>\n",
       "      <td>4</td>\n",
       "      <td>443120228</td>\n",
       "      <td>...</td>\n",
       "      <td>No</td>\n",
       "      <td>No</td>\n",
       "      <td>No</td>\n",
       "      <td>No</td>\n",
       "      <td>No</td>\n",
       "      <td>No</td>\n",
       "      <td>Yes</td>\n",
       "      <td>&lt;30</td>\n",
       "      <td>1</td>\n",
       "      <td>0</td>\n",
       "    </tr>\n",
       "    <tr>\n",
       "      <th>101695</th>\n",
       "      <td>35047287</td>\n",
       "      <td>428</td>\n",
       "      <td>427</td>\n",
       "      <td>250.6</td>\n",
       "      <td>9</td>\n",
       "      <td>Urgent</td>\n",
       "      <td>To_further_treatment</td>\n",
       "      <td>EmergencyRoom</td>\n",
       "      <td>4</td>\n",
       "      <td>443149022</td>\n",
       "      <td>...</td>\n",
       "      <td>No</td>\n",
       "      <td>No</td>\n",
       "      <td>No</td>\n",
       "      <td>No</td>\n",
       "      <td>No</td>\n",
       "      <td>Ch</td>\n",
       "      <td>Yes</td>\n",
       "      <td>&lt;30</td>\n",
       "      <td>1</td>\n",
       "      <td>1</td>\n",
       "    </tr>\n",
       "    <tr>\n",
       "      <th>101698</th>\n",
       "      <td>91310220</td>\n",
       "      <td>820</td>\n",
       "      <td>285</td>\n",
       "      <td>599</td>\n",
       "      <td>9</td>\n",
       "      <td>Emergency</td>\n",
       "      <td>To_further_treatment</td>\n",
       "      <td>EmergencyRoom</td>\n",
       "      <td>4</td>\n",
       "      <td>443163248</td>\n",
       "      <td>...</td>\n",
       "      <td>No</td>\n",
       "      <td>No</td>\n",
       "      <td>No</td>\n",
       "      <td>No</td>\n",
       "      <td>No</td>\n",
       "      <td>Ch</td>\n",
       "      <td>Yes</td>\n",
       "      <td>&gt;30</td>\n",
       "      <td>2</td>\n",
       "      <td>0</td>\n",
       "    </tr>\n",
       "    <tr>\n",
       "      <th>101700</th>\n",
       "      <td>110596428</td>\n",
       "      <td>427</td>\n",
       "      <td>584</td>\n",
       "      <td>276</td>\n",
       "      <td>9</td>\n",
       "      <td>Emergency</td>\n",
       "      <td>To_further_treatment</td>\n",
       "      <td>Transfer</td>\n",
       "      <td>3</td>\n",
       "      <td>443177942</td>\n",
       "      <td>...</td>\n",
       "      <td>No</td>\n",
       "      <td>No</td>\n",
       "      <td>No</td>\n",
       "      <td>No</td>\n",
       "      <td>No</td>\n",
       "      <td>No</td>\n",
       "      <td>Yes</td>\n",
       "      <td>NO</td>\n",
       "      <td>1</td>\n",
       "      <td>1</td>\n",
       "    </tr>\n",
       "    <tr>\n",
       "      <th>101702</th>\n",
       "      <td>38686185</td>\n",
       "      <td>428</td>\n",
       "      <td>404</td>\n",
       "      <td>276</td>\n",
       "      <td>9</td>\n",
       "      <td>Emergency</td>\n",
       "      <td>To_further_treatment</td>\n",
       "      <td>EmergencyRoom</td>\n",
       "      <td>5</td>\n",
       "      <td>443186306</td>\n",
       "      <td>...</td>\n",
       "      <td>No</td>\n",
       "      <td>No</td>\n",
       "      <td>No</td>\n",
       "      <td>No</td>\n",
       "      <td>No</td>\n",
       "      <td>Ch</td>\n",
       "      <td>Yes</td>\n",
       "      <td>&gt;30</td>\n",
       "      <td>1</td>\n",
       "      <td>1</td>\n",
       "    </tr>\n",
       "    <tr>\n",
       "      <th>101707</th>\n",
       "      <td>141379232</td>\n",
       "      <td>823</td>\n",
       "      <td>891</td>\n",
       "      <td>E818</td>\n",
       "      <td>7</td>\n",
       "      <td>Emergency</td>\n",
       "      <td>To_further_treatment</td>\n",
       "      <td>EmergencyRoom</td>\n",
       "      <td>5</td>\n",
       "      <td>443197808</td>\n",
       "      <td>...</td>\n",
       "      <td>No</td>\n",
       "      <td>No</td>\n",
       "      <td>No</td>\n",
       "      <td>No</td>\n",
       "      <td>No</td>\n",
       "      <td>Ch</td>\n",
       "      <td>Yes</td>\n",
       "      <td>NO</td>\n",
       "      <td>2</td>\n",
       "      <td>0</td>\n",
       "    </tr>\n",
       "    <tr>\n",
       "      <th>101708</th>\n",
       "      <td>44735553</td>\n",
       "      <td>174</td>\n",
       "      <td>196</td>\n",
       "      <td>285</td>\n",
       "      <td>9</td>\n",
       "      <td>Elective</td>\n",
       "      <td>To_further_treatment</td>\n",
       "      <td>Referral</td>\n",
       "      <td>6</td>\n",
       "      <td>443197850</td>\n",
       "      <td>...</td>\n",
       "      <td>No</td>\n",
       "      <td>No</td>\n",
       "      <td>No</td>\n",
       "      <td>No</td>\n",
       "      <td>No</td>\n",
       "      <td>No</td>\n",
       "      <td>Yes</td>\n",
       "      <td>NO</td>\n",
       "      <td>1</td>\n",
       "      <td>0</td>\n",
       "    </tr>\n",
       "    <tr>\n",
       "      <th>101714</th>\n",
       "      <td>109990548</td>\n",
       "      <td>786</td>\n",
       "      <td>250</td>\n",
       "      <td>414</td>\n",
       "      <td>9</td>\n",
       "      <td>Emergency</td>\n",
       "      <td>To_further_treatment</td>\n",
       "      <td>EmergencyRoom</td>\n",
       "      <td>1</td>\n",
       "      <td>443222108</td>\n",
       "      <td>...</td>\n",
       "      <td>No</td>\n",
       "      <td>No</td>\n",
       "      <td>No</td>\n",
       "      <td>No</td>\n",
       "      <td>No</td>\n",
       "      <td>No</td>\n",
       "      <td>Yes</td>\n",
       "      <td>&gt;30</td>\n",
       "      <td>1</td>\n",
       "      <td>1</td>\n",
       "    </tr>\n",
       "    <tr>\n",
       "      <th>101716</th>\n",
       "      <td>93806559</td>\n",
       "      <td>574</td>\n",
       "      <td>250.5</td>\n",
       "      <td>276</td>\n",
       "      <td>9</td>\n",
       "      <td>Urgent</td>\n",
       "      <td>To_further_treatment</td>\n",
       "      <td>EmergencyRoom</td>\n",
       "      <td>8</td>\n",
       "      <td>443237558</td>\n",
       "      <td>...</td>\n",
       "      <td>No</td>\n",
       "      <td>No</td>\n",
       "      <td>No</td>\n",
       "      <td>No</td>\n",
       "      <td>No</td>\n",
       "      <td>Ch</td>\n",
       "      <td>Yes</td>\n",
       "      <td>NO</td>\n",
       "      <td>1</td>\n",
       "      <td>1</td>\n",
       "    </tr>\n",
       "    <tr>\n",
       "      <th>101717</th>\n",
       "      <td>182499863</td>\n",
       "      <td>518</td>\n",
       "      <td>410</td>\n",
       "      <td>491</td>\n",
       "      <td>9</td>\n",
       "      <td>Emergency</td>\n",
       "      <td>To_further_treatment</td>\n",
       "      <td>EmergencyRoom</td>\n",
       "      <td>9</td>\n",
       "      <td>443237984</td>\n",
       "      <td>...</td>\n",
       "      <td>No</td>\n",
       "      <td>No</td>\n",
       "      <td>No</td>\n",
       "      <td>No</td>\n",
       "      <td>No</td>\n",
       "      <td>No</td>\n",
       "      <td>Yes</td>\n",
       "      <td>NO</td>\n",
       "      <td>1</td>\n",
       "      <td>1</td>\n",
       "    </tr>\n",
       "    <tr>\n",
       "      <th>101721</th>\n",
       "      <td>106722468</td>\n",
       "      <td>599</td>\n",
       "      <td>584</td>\n",
       "      <td>276</td>\n",
       "      <td>9</td>\n",
       "      <td>Emergency</td>\n",
       "      <td>To_further_treatment</td>\n",
       "      <td>EmergencyRoom</td>\n",
       "      <td>6</td>\n",
       "      <td>443282564</td>\n",
       "      <td>...</td>\n",
       "      <td>No</td>\n",
       "      <td>No</td>\n",
       "      <td>No</td>\n",
       "      <td>No</td>\n",
       "      <td>No</td>\n",
       "      <td>Ch</td>\n",
       "      <td>Yes</td>\n",
       "      <td>NO</td>\n",
       "      <td>1</td>\n",
       "      <td>1</td>\n",
       "    </tr>\n",
       "    <tr>\n",
       "      <th>101726</th>\n",
       "      <td>60201405</td>\n",
       "      <td>348</td>\n",
       "      <td>344</td>\n",
       "      <td>907</td>\n",
       "      <td>7</td>\n",
       "      <td>Elective</td>\n",
       "      <td>To_further_treatment</td>\n",
       "      <td>Referral</td>\n",
       "      <td>5</td>\n",
       "      <td>443700206</td>\n",
       "      <td>...</td>\n",
       "      <td>No</td>\n",
       "      <td>No</td>\n",
       "      <td>No</td>\n",
       "      <td>No</td>\n",
       "      <td>No</td>\n",
       "      <td>Ch</td>\n",
       "      <td>Yes</td>\n",
       "      <td>NO</td>\n",
       "      <td>2</td>\n",
       "      <td>0</td>\n",
       "    </tr>\n",
       "    <tr>\n",
       "      <th>101736</th>\n",
       "      <td>90751788</td>\n",
       "      <td>590</td>\n",
       "      <td>564</td>\n",
       "      <td>250.8</td>\n",
       "      <td>9</td>\n",
       "      <td>Emergency</td>\n",
       "      <td>To_further_treatment</td>\n",
       "      <td>EmergencyRoom</td>\n",
       "      <td>8</td>\n",
       "      <td>443739152</td>\n",
       "      <td>...</td>\n",
       "      <td>No</td>\n",
       "      <td>No</td>\n",
       "      <td>No</td>\n",
       "      <td>No</td>\n",
       "      <td>No</td>\n",
       "      <td>No</td>\n",
       "      <td>Yes</td>\n",
       "      <td>&gt;30</td>\n",
       "      <td>1</td>\n",
       "      <td>1</td>\n",
       "    </tr>\n",
       "    <tr>\n",
       "      <th>101743</th>\n",
       "      <td>47293812</td>\n",
       "      <td>486</td>\n",
       "      <td>276</td>\n",
       "      <td>428</td>\n",
       "      <td>9</td>\n",
       "      <td>Emergency</td>\n",
       "      <td>To_further_treatment</td>\n",
       "      <td>EmergencyRoom</td>\n",
       "      <td>3</td>\n",
       "      <td>443793668</td>\n",
       "      <td>...</td>\n",
       "      <td>No</td>\n",
       "      <td>No</td>\n",
       "      <td>No</td>\n",
       "      <td>No</td>\n",
       "      <td>No</td>\n",
       "      <td>Ch</td>\n",
       "      <td>Yes</td>\n",
       "      <td>NO</td>\n",
       "      <td>3</td>\n",
       "      <td>0</td>\n",
       "    </tr>\n",
       "    <tr>\n",
       "      <th>101747</th>\n",
       "      <td>33230016</td>\n",
       "      <td>410</td>\n",
       "      <td>311</td>\n",
       "      <td>250</td>\n",
       "      <td>9</td>\n",
       "      <td>Emergency</td>\n",
       "      <td>To_further_treatment</td>\n",
       "      <td>EmergencyRoom</td>\n",
       "      <td>8</td>\n",
       "      <td>443804570</td>\n",
       "      <td>...</td>\n",
       "      <td>No</td>\n",
       "      <td>No</td>\n",
       "      <td>No</td>\n",
       "      <td>No</td>\n",
       "      <td>No</td>\n",
       "      <td>No</td>\n",
       "      <td>Yes</td>\n",
       "      <td>&gt;30</td>\n",
       "      <td>1</td>\n",
       "      <td>1</td>\n",
       "    </tr>\n",
       "    <tr>\n",
       "      <th>101748</th>\n",
       "      <td>189481478</td>\n",
       "      <td>295</td>\n",
       "      <td>305</td>\n",
       "      <td>250</td>\n",
       "      <td>5</td>\n",
       "      <td>Emergency</td>\n",
       "      <td>To_further_treatment</td>\n",
       "      <td>EmergencyRoom</td>\n",
       "      <td>14</td>\n",
       "      <td>443811536</td>\n",
       "      <td>...</td>\n",
       "      <td>No</td>\n",
       "      <td>No</td>\n",
       "      <td>No</td>\n",
       "      <td>No</td>\n",
       "      <td>No</td>\n",
       "      <td>Ch</td>\n",
       "      <td>Yes</td>\n",
       "      <td>&gt;30</td>\n",
       "      <td>3</td>\n",
       "      <td>0</td>\n",
       "    </tr>\n",
       "    <tr>\n",
       "      <th>101761</th>\n",
       "      <td>100162476</td>\n",
       "      <td>250.13</td>\n",
       "      <td>291</td>\n",
       "      <td>458</td>\n",
       "      <td>9</td>\n",
       "      <td>Emergency</td>\n",
       "      <td>To_further_treatment</td>\n",
       "      <td>EmergencyRoom</td>\n",
       "      <td>3</td>\n",
       "      <td>443847548</td>\n",
       "      <td>...</td>\n",
       "      <td>No</td>\n",
       "      <td>No</td>\n",
       "      <td>No</td>\n",
       "      <td>No</td>\n",
       "      <td>No</td>\n",
       "      <td>Ch</td>\n",
       "      <td>Yes</td>\n",
       "      <td>&gt;30</td>\n",
       "      <td>2</td>\n",
       "      <td>0</td>\n",
       "    </tr>\n",
       "    <tr>\n",
       "      <th>101762</th>\n",
       "      <td>74694222</td>\n",
       "      <td>560</td>\n",
       "      <td>276</td>\n",
       "      <td>787</td>\n",
       "      <td>9</td>\n",
       "      <td>Emergency</td>\n",
       "      <td>To_further_treatment</td>\n",
       "      <td>Transfer</td>\n",
       "      <td>5</td>\n",
       "      <td>443847782</td>\n",
       "      <td>...</td>\n",
       "      <td>No</td>\n",
       "      <td>No</td>\n",
       "      <td>No</td>\n",
       "      <td>No</td>\n",
       "      <td>No</td>\n",
       "      <td>No</td>\n",
       "      <td>Yes</td>\n",
       "      <td>NO</td>\n",
       "      <td>1</td>\n",
       "      <td>1</td>\n",
       "    </tr>\n",
       "    <tr>\n",
       "      <th>101764</th>\n",
       "      <td>31693671</td>\n",
       "      <td>996</td>\n",
       "      <td>285</td>\n",
       "      <td>998</td>\n",
       "      <td>9</td>\n",
       "      <td>Urgent</td>\n",
       "      <td>To_further_treatment</td>\n",
       "      <td>EmergencyRoom</td>\n",
       "      <td>10</td>\n",
       "      <td>443857166</td>\n",
       "      <td>...</td>\n",
       "      <td>No</td>\n",
       "      <td>No</td>\n",
       "      <td>No</td>\n",
       "      <td>No</td>\n",
       "      <td>No</td>\n",
       "      <td>Ch</td>\n",
       "      <td>Yes</td>\n",
       "      <td>NO</td>\n",
       "      <td>3</td>\n",
       "      <td>0</td>\n",
       "    </tr>\n",
       "  </tbody>\n",
       "</table>\n",
       "<p>16860 rows × 45 columns</p>\n",
       "</div>"
      ],
      "text/plain": [
       "        patient_nbr  diag_1   diag_2   diag_3  number_diagnoses  \\\n",
       "9          63555939     434      198      486                 8   \n",
       "12         85504905     428   250.43    250.6                 8   \n",
       "15         86328819     999      507      996                 9   \n",
       "26         40523301     427      428      414                 7   \n",
       "29         18196434     428      410      414                 8   \n",
       "31         96664626     462   250.01      276                 8   \n",
       "40         80588529     414      411   250.01                 4   \n",
       "46         86240259     428      427   250.01                 7   \n",
       "47         51838164     295      599      250                 3   \n",
       "61         94994802     414      411      428                 8   \n",
       "62         64729746     428   250.03      707                 9   \n",
       "63         24370299     722      357      496                 9   \n",
       "65         58231314   250.7      440      715                 9   \n",
       "66          3376278  250.11  missing  missing                 1   \n",
       "74         93196251     414      411      276                 7   \n",
       "77        100113975     715   250.01      401                 6   \n",
       "87         73921680     812      496      250                 7   \n",
       "90         20830941     410      424      250                 5   \n",
       "96        106343838      38      428      427                 8   \n",
       "103        67897251     411      401      490                 7   \n",
       "114         6915888     434    250.6    250.7                 8   \n",
       "116         3115566     428      410      518                 7   \n",
       "172        88614963     428      427      V45                 6   \n",
       "175        86240259     276        8      496                 8   \n",
       "211        83363985     593      401      428                 6   \n",
       "328        94582188     722      428      496                 8   \n",
       "426         2524077     715      250      401                 5   \n",
       "476        90460242     414      599      403                 6   \n",
       "487        86797872     434      428   250.01                 5   \n",
       "507        83898765     414      411   250.01                 4   \n",
       "...             ...     ...      ...      ...               ...   \n",
       "101626     65713158     518      486      491                 9   \n",
       "101640     62420742     428      511      276                 9   \n",
       "101648     29662614     569      578      709                 9   \n",
       "101649     41432652     518      486      511                 9   \n",
       "101660     68336064  250.82      599      276                 9   \n",
       "101667     78208677     431      276      250                 5   \n",
       "101671    151756061     491      584      599                 9   \n",
       "101674     92919915     296      305    250.6                 9   \n",
       "101677    123227060     414      411      412                 9   \n",
       "101678    141498050     157      V66   250.02                 8   \n",
       "101685     98403552     491      584      250                 9   \n",
       "101689     86215806     276      238      782                 9   \n",
       "101695     35047287     428      427    250.6                 9   \n",
       "101698     91310220     820      285      599                 9   \n",
       "101700    110596428     427      584      276                 9   \n",
       "101702     38686185     428      404      276                 9   \n",
       "101707    141379232     823      891     E818                 7   \n",
       "101708     44735553     174      196      285                 9   \n",
       "101714    109990548     786      250      414                 9   \n",
       "101716     93806559     574    250.5      276                 9   \n",
       "101717    182499863     518      410      491                 9   \n",
       "101721    106722468     599      584      276                 9   \n",
       "101726     60201405     348      344      907                 7   \n",
       "101736     90751788     590      564    250.8                 9   \n",
       "101743     47293812     486      276      428                 9   \n",
       "101747     33230016     410      311      250                 9   \n",
       "101748    189481478     295      305      250                 5   \n",
       "101761    100162476  250.13      291      458                 9   \n",
       "101762     74694222     560      276      787                 9   \n",
       "101764     31693671     996      285      998                 9   \n",
       "\n",
       "       admission_type_id discharge_disposition_id admission_source_id  \\\n",
       "9               Elective     To_further_treatment            Transfer   \n",
       "12             Emergency     To_further_treatment       EmergencyRoom   \n",
       "15             Emergency     To_further_treatment       EmergencyRoom   \n",
       "26             Emergency     To_further_treatment       EmergencyRoom   \n",
       "29             Emergency     To_further_treatment       EmergencyRoom   \n",
       "31             Emergency     To_further_treatment       EmergencyRoom   \n",
       "40             Emergency     To_further_treatment       EmergencyRoom   \n",
       "46              Elective     To_further_treatment            Transfer   \n",
       "47              Elective     To_further_treatment            Transfer   \n",
       "61             Emergency     To_further_treatment       EmergencyRoom   \n",
       "62             Emergency     To_further_treatment       EmergencyRoom   \n",
       "63             Emergency     To_further_treatment       EmergencyRoom   \n",
       "65                Urgent     To_further_treatment            Referral   \n",
       "66             Emergency     To_further_treatment       EmergencyRoom   \n",
       "74             Emergency     To_further_treatment       EmergencyRoom   \n",
       "77              Elective     To_further_treatment            Referral   \n",
       "87                Urgent     To_further_treatment            Referral   \n",
       "90             Emergency     To_further_treatment       EmergencyRoom   \n",
       "96             Emergency     To_further_treatment       EmergencyRoom   \n",
       "103            Emergency     To_further_treatment       EmergencyRoom   \n",
       "114            Emergency     To_further_treatment       EmergencyRoom   \n",
       "116            Emergency     To_further_treatment       EmergencyRoom   \n",
       "172             Elective     To_further_treatment            Transfer   \n",
       "175            Emergency     To_further_treatment       EmergencyRoom   \n",
       "211               Urgent     To_further_treatment            Referral   \n",
       "328             Elective     To_further_treatment            Transfer   \n",
       "426             Elective     To_further_treatment            Referral   \n",
       "476            Emergency     To_further_treatment       EmergencyRoom   \n",
       "487                 NULL     To_further_treatment       EmergencyRoom   \n",
       "507               Urgent     To_further_treatment            Transfer   \n",
       "...                  ...                      ...                 ...   \n",
       "101626         Emergency     To_further_treatment       EmergencyRoom   \n",
       "101640         Emergency     To_further_treatment       EmergencyRoom   \n",
       "101648         Emergency     To_further_treatment       EmergencyRoom   \n",
       "101649         Emergency     To_further_treatment       EmergencyRoom   \n",
       "101660         Emergency     To_further_treatment       EmergencyRoom   \n",
       "101667         Emergency     To_further_treatment       EmergencyRoom   \n",
       "101671         Emergency     To_further_treatment       EmergencyRoom   \n",
       "101674          Elective     To_further_treatment            Referral   \n",
       "101677         Emergency     To_further_treatment       EmergencyRoom   \n",
       "101678          Elective     To_further_treatment            Referral   \n",
       "101685         Emergency     To_further_treatment       EmergencyRoom   \n",
       "101689         Emergency     To_further_treatment       EmergencyRoom   \n",
       "101695            Urgent     To_further_treatment       EmergencyRoom   \n",
       "101698         Emergency     To_further_treatment       EmergencyRoom   \n",
       "101700         Emergency     To_further_treatment            Transfer   \n",
       "101702         Emergency     To_further_treatment       EmergencyRoom   \n",
       "101707         Emergency     To_further_treatment       EmergencyRoom   \n",
       "101708          Elective     To_further_treatment            Referral   \n",
       "101714         Emergency     To_further_treatment       EmergencyRoom   \n",
       "101716            Urgent     To_further_treatment       EmergencyRoom   \n",
       "101717         Emergency     To_further_treatment       EmergencyRoom   \n",
       "101721         Emergency     To_further_treatment       EmergencyRoom   \n",
       "101726          Elective     To_further_treatment            Referral   \n",
       "101736         Emergency     To_further_treatment       EmergencyRoom   \n",
       "101743         Emergency     To_further_treatment       EmergencyRoom   \n",
       "101747         Emergency     To_further_treatment       EmergencyRoom   \n",
       "101748         Emergency     To_further_treatment       EmergencyRoom   \n",
       "101761         Emergency     To_further_treatment       EmergencyRoom   \n",
       "101762         Emergency     To_further_treatment            Transfer   \n",
       "101764            Urgent     To_further_treatment       EmergencyRoom   \n",
       "\n",
       "        time_in_hospital  encounter_id     ...      glyburide-metformin  \\\n",
       "9                     12         15738     ...                       No   \n",
       "12                     7         40926     ...                       No   \n",
       "15                    12         73578     ...                       No   \n",
       "26                     6        236316     ...                       No   \n",
       "29                     5        252822     ...                       No   \n",
       "31                     1        253722     ...                       No   \n",
       "40                     1        383430     ...                       No   \n",
       "46                     9        486156     ...                       No   \n",
       "47                     9        498030     ...                       No   \n",
       "61                     4        679722     ...                       No   \n",
       "62                     3        682494     ...                       No   \n",
       "63                     4        685086     ...                       No   \n",
       "65                     8        713268     ...                       No   \n",
       "66                     1        715086     ...                       No   \n",
       "74                     5        955884     ...                       No   \n",
       "77                     3       1050294     ...                       No   \n",
       "87                     3       1139226     ...                       No   \n",
       "90                     5       1161024     ...                       No   \n",
       "96                     5       1195548     ...                       No   \n",
       "103                    1       1270524     ...                       No   \n",
       "114                   14       1810752     ...                       No   \n",
       "116                    4       1881372     ...                       No   \n",
       "172                    6       2549268     ...                       No   \n",
       "175                   11       2552952     ...                       No   \n",
       "211                    1       2730936     ...                       No   \n",
       "328                   10       3302454     ...                       No   \n",
       "426                    3       3863700     ...                       No   \n",
       "476                    3       4166928     ...                       No   \n",
       "487                    9       4211154     ...                       No   \n",
       "507                    1       4313136     ...                       No   \n",
       "...                  ...           ...     ...                      ...   \n",
       "101626                 3     441986030     ...                       No   \n",
       "101640                 8     442077494     ...                       No   \n",
       "101648                 5     442105448     ...                       No   \n",
       "101649                11     442512770     ...                       No   \n",
       "101660                 5     442552934     ...                       No   \n",
       "101667                 4     442577684     ...                       No   \n",
       "101671                 7     442606028     ...                       No   \n",
       "101674                 7     442621412     ...                       No   \n",
       "101677                 4     442635584     ...                       No   \n",
       "101678                 4     442641206     ...                       No   \n",
       "101685                 5     443102726     ...                       No   \n",
       "101689                 4     443120228     ...                       No   \n",
       "101695                 4     443149022     ...                       No   \n",
       "101698                 4     443163248     ...                       No   \n",
       "101700                 3     443177942     ...                       No   \n",
       "101702                 5     443186306     ...                       No   \n",
       "101707                 5     443197808     ...                       No   \n",
       "101708                 6     443197850     ...                       No   \n",
       "101714                 1     443222108     ...                       No   \n",
       "101716                 8     443237558     ...                       No   \n",
       "101717                 9     443237984     ...                       No   \n",
       "101721                 6     443282564     ...                       No   \n",
       "101726                 5     443700206     ...                       No   \n",
       "101736                 8     443739152     ...                       No   \n",
       "101743                 3     443793668     ...                       No   \n",
       "101747                 8     443804570     ...                       No   \n",
       "101748                14     443811536     ...                       No   \n",
       "101761                 3     443847548     ...                       No   \n",
       "101762                 5     443847782     ...                       No   \n",
       "101764                10     443857166     ...                       No   \n",
       "\n",
       "       glipizide-metformin glimepiride-pioglitazone  metformin-rosiglitazone  \\\n",
       "9                       No                       No                       No   \n",
       "12                      No                       No                       No   \n",
       "15                      No                       No                       No   \n",
       "26                      No                       No                       No   \n",
       "29                      No                       No                       No   \n",
       "31                      No                       No                       No   \n",
       "40                      No                       No                       No   \n",
       "46                      No                       No                       No   \n",
       "47                      No                       No                       No   \n",
       "61                      No                       No                       No   \n",
       "62                      No                       No                       No   \n",
       "63                      No                       No                       No   \n",
       "65                      No                       No                       No   \n",
       "66                      No                       No                       No   \n",
       "74                      No                       No                       No   \n",
       "77                      No                       No                       No   \n",
       "87                      No                       No                       No   \n",
       "90                      No                       No                       No   \n",
       "96                      No                       No                       No   \n",
       "103                     No                       No                       No   \n",
       "114                     No                       No                       No   \n",
       "116                     No                       No                       No   \n",
       "172                     No                       No                       No   \n",
       "175                     No                       No                       No   \n",
       "211                     No                       No                       No   \n",
       "328                     No                       No                       No   \n",
       "426                     No                       No                       No   \n",
       "476                     No                       No                       No   \n",
       "487                     No                       No                       No   \n",
       "507                     No                       No                       No   \n",
       "...                    ...                      ...                      ...   \n",
       "101626                  No                       No                       No   \n",
       "101640                  No                       No                       No   \n",
       "101648                  No                       No                       No   \n",
       "101649                  No                       No                       No   \n",
       "101660                  No                       No                       No   \n",
       "101667                  No                       No                       No   \n",
       "101671                  No                       No                       No   \n",
       "101674                  No                       No                       No   \n",
       "101677                  No                       No                       No   \n",
       "101678                  No                       No                       No   \n",
       "101685                  No                       No                       No   \n",
       "101689                  No                       No                       No   \n",
       "101695                  No                       No                       No   \n",
       "101698                  No                       No                       No   \n",
       "101700                  No                       No                       No   \n",
       "101702                  No                       No                       No   \n",
       "101707                  No                       No                       No   \n",
       "101708                  No                       No                       No   \n",
       "101714                  No                       No                       No   \n",
       "101716                  No                       No                       No   \n",
       "101717                  No                       No                       No   \n",
       "101721                  No                       No                       No   \n",
       "101726                  No                       No                       No   \n",
       "101736                  No                       No                       No   \n",
       "101743                  No                       No                       No   \n",
       "101747                  No                       No                       No   \n",
       "101748                  No                       No                       No   \n",
       "101761                  No                       No                       No   \n",
       "101762                  No                       No                       No   \n",
       "101764                  No                       No                       No   \n",
       "\n",
       "        metformin-pioglitazone  change  diabetesMed  readmitted  Total_drugs  \\\n",
       "9                           No      Ch          Yes          NO            2   \n",
       "12                          No      Ch          Yes         <30            3   \n",
       "15                          No      Ch          Yes          NO            1   \n",
       "26                          No      Ch          Yes          NO            2   \n",
       "29                          No      Ch          Yes         >30            2   \n",
       "31                          No      Ch          Yes         >30            1   \n",
       "40                          No      Ch          Yes         >30            2   \n",
       "46                          No      Ch          Yes         <30            2   \n",
       "47                          No      Ch          Yes          NO            2   \n",
       "61                          No      Ch          Yes         >30            2   \n",
       "62                          No      Ch          Yes         >30            1   \n",
       "63                          No      Ch          Yes          NO            3   \n",
       "65                          No      No          Yes         >30            1   \n",
       "66                          No      Ch          Yes          NO            1   \n",
       "74                          No      Ch          Yes         >30            1   \n",
       "77                          No      Ch          Yes         <30            1   \n",
       "87                          No      No          Yes          NO            1   \n",
       "90                          No      Ch          Yes         >30            2   \n",
       "96                          No      No          Yes         >30            1   \n",
       "103                         No      No          Yes          NO            1   \n",
       "114                         No      Ch          Yes         <30            1   \n",
       "116                         No      No          Yes         <30            1   \n",
       "172                         No      Ch          Yes         <30            2   \n",
       "175                         No      Ch          Yes         >30            2   \n",
       "211                         No      No          Yes         >30            1   \n",
       "328                         No      Ch          Yes         <30            1   \n",
       "426                         No      Ch          Yes          NO            3   \n",
       "476                         No      No          Yes         <30            1   \n",
       "487                         No      No          Yes         >30            1   \n",
       "507                         No      No          Yes         <30            1   \n",
       "...                        ...     ...          ...         ...          ...   \n",
       "101626                      No      Ch          Yes         <30            2   \n",
       "101640                      No      No          Yes          NO            1   \n",
       "101648                      No      Ch          Yes         >30            2   \n",
       "101649                      No      Ch          Yes          NO            1   \n",
       "101660                      No      No          Yes         >30            1   \n",
       "101667                      No      Ch          Yes         <30            1   \n",
       "101671                      No      Ch          Yes         >30            1   \n",
       "101674                      No      Ch          Yes         <30            2   \n",
       "101677                      No      No          Yes         >30            1   \n",
       "101678                      No      Ch          Yes          NO            1   \n",
       "101685                      No      Ch          Yes         >30            1   \n",
       "101689                      No      No          Yes         <30            1   \n",
       "101695                      No      Ch          Yes         <30            1   \n",
       "101698                      No      Ch          Yes         >30            2   \n",
       "101700                      No      No          Yes          NO            1   \n",
       "101702                      No      Ch          Yes         >30            1   \n",
       "101707                      No      Ch          Yes          NO            2   \n",
       "101708                      No      No          Yes          NO            1   \n",
       "101714                      No      No          Yes         >30            1   \n",
       "101716                      No      Ch          Yes          NO            1   \n",
       "101717                      No      No          Yes          NO            1   \n",
       "101721                      No      Ch          Yes          NO            1   \n",
       "101726                      No      Ch          Yes          NO            2   \n",
       "101736                      No      No          Yes         >30            1   \n",
       "101743                      No      Ch          Yes          NO            3   \n",
       "101747                      No      No          Yes         >30            1   \n",
       "101748                      No      Ch          Yes         >30            3   \n",
       "101761                      No      Ch          Yes         >30            2   \n",
       "101762                      No      No          Yes          NO            1   \n",
       "101764                      No      Ch          Yes          NO            3   \n",
       "\n",
       "       Solo_Insulin  \n",
       "9                 0  \n",
       "12                0  \n",
       "15                1  \n",
       "26                0  \n",
       "29                0  \n",
       "31                1  \n",
       "40                0  \n",
       "46                0  \n",
       "47                0  \n",
       "61                0  \n",
       "62                1  \n",
       "63                0  \n",
       "65                1  \n",
       "66                1  \n",
       "74                1  \n",
       "77                1  \n",
       "87                0  \n",
       "90                0  \n",
       "96                1  \n",
       "103               1  \n",
       "114               1  \n",
       "116               1  \n",
       "172               0  \n",
       "175               0  \n",
       "211               1  \n",
       "328               1  \n",
       "426               0  \n",
       "476               1  \n",
       "487               1  \n",
       "507               1  \n",
       "...             ...  \n",
       "101626            0  \n",
       "101640            1  \n",
       "101648            0  \n",
       "101649            1  \n",
       "101660            1  \n",
       "101667            0  \n",
       "101671            1  \n",
       "101674            0  \n",
       "101677            0  \n",
       "101678            1  \n",
       "101685            1  \n",
       "101689            0  \n",
       "101695            1  \n",
       "101698            0  \n",
       "101700            1  \n",
       "101702            1  \n",
       "101707            0  \n",
       "101708            0  \n",
       "101714            1  \n",
       "101716            1  \n",
       "101717            1  \n",
       "101721            1  \n",
       "101726            0  \n",
       "101736            1  \n",
       "101743            0  \n",
       "101747            1  \n",
       "101748            0  \n",
       "101761            0  \n",
       "101762            1  \n",
       "101764            0  \n",
       "\n",
       "[16860 rows x 45 columns]"
      ]
     },
     "execution_count": 236,
     "metadata": {},
     "output_type": "execute_result"
    }
   ],
   "source": [
    "filtereddata[filtereddata['discharge_disposition_id']=='To_further_treatment']"
   ]
  },
  {
   "cell_type": "code",
   "execution_count": 349,
   "metadata": {},
   "outputs": [
    {
     "data": {
      "text/plain": [
       "ToHome                  56910\n",
       "To_further_treatment    16860\n",
       "NA                       3050\n",
       "LeftAMA                   452\n",
       "Name: discharge_disposition_id, dtype: int64"
      ]
     },
     "execution_count": 349,
     "metadata": {},
     "output_type": "execute_result"
    }
   ],
   "source": [
    "filtereddata['discharge_disposition_id'].value_counts()"
   ]
  },
  {
   "cell_type": "code",
   "execution_count": null,
   "metadata": {},
   "outputs": [],
   "source": []
  },
  {
   "cell_type": "code",
   "execution_count": null,
   "metadata": {},
   "outputs": [],
   "source": []
  },
  {
   "cell_type": "code",
   "execution_count": 248,
   "metadata": {},
   "outputs": [],
   "source": [
    "#filtereddata=pd.read_csv('FilteredData_Updated.csv')"
   ]
  },
  {
   "cell_type": "code",
   "execution_count": 353,
   "metadata": {},
   "outputs": [],
   "source": [
    "filtereddata.to_csv('FilteredData_Updated.csv',index=0)"
   ]
  },
  {
   "cell_type": "code",
   "execution_count": 241,
   "metadata": {},
   "outputs": [
    {
     "data": {
      "text/plain": [
       "Yes    77272\n",
       "Name: diabetesMed, dtype: int64"
      ]
     },
     "execution_count": 241,
     "metadata": {},
     "output_type": "execute_result"
    }
   ],
   "source": [
    "filtereddata['diabetesMed'].value_counts()"
   ]
  },
  {
   "cell_type": "code",
   "execution_count": 242,
   "metadata": {},
   "outputs": [
    {
     "data": {
      "text/plain": [
       "(77272, 45)"
      ]
     },
     "execution_count": 242,
     "metadata": {},
     "output_type": "execute_result"
    }
   ],
   "source": [
    "filtereddata.shape"
   ]
  },
  {
   "cell_type": "markdown",
   "metadata": {},
   "source": [
    "### dropping all drugs as we have captured their data in total_drugs and solo_insulin\n",
    "### dropping diabetesMed as all values are 'Yes'"
   ]
  },
  {
   "cell_type": "code",
   "execution_count": 355,
   "metadata": {},
   "outputs": [
    {
     "name": "stderr",
     "output_type": "stream",
     "text": [
      "C:\\Users\\user\\Anaconda3\\lib\\site-packages\\pandas\\core\\frame.py:3697: SettingWithCopyWarning: \n",
      "A value is trying to be set on a copy of a slice from a DataFrame\n",
      "\n",
      "See the caveats in the documentation: http://pandas.pydata.org/pandas-docs/stable/indexing.html#indexing-view-versus-copy\n",
      "  errors=errors)\n"
     ]
    }
   ],
   "source": [
    "filtereddata.drop(['metformin', 'repaglinide', 'nateglinide', 'chlorpropamide',\n",
    "       'glimepiride', 'acetohexamide', 'glipizide', 'glyburide', 'tolbutamide',\n",
    "       'pioglitazone', 'rosiglitazone', 'acarbose', 'miglitol', 'troglitazone',\n",
    "       'tolazamide', 'insulin', 'glyburide-metformin', 'glipizide-metformin',\n",
    "       'glimepiride-pioglitazone', 'metformin-rosiglitazone',\n",
    "       'metformin-pioglitazone','diabetesMed'],axis=1,inplace=True)"
   ]
  },
  {
   "cell_type": "code",
   "execution_count": 356,
   "metadata": {},
   "outputs": [
    {
     "data": {
      "text/plain": [
       "(77272, 23)"
      ]
     },
     "execution_count": 356,
     "metadata": {},
     "output_type": "execute_result"
    }
   ],
   "source": [
    "filtereddata.shape"
   ]
  },
  {
   "cell_type": "code",
   "execution_count": 357,
   "metadata": {},
   "outputs": [
    {
     "data": {
      "text/plain": [
       "patient_nbr                 0\n",
       "diag_1                      0\n",
       "diag_2                      0\n",
       "diag_3                      0\n",
       "number_diagnoses            0\n",
       "admission_type_id           0\n",
       "discharge_disposition_id    0\n",
       "admission_source_id         0\n",
       "time_in_hospital            0\n",
       "encounter_id                0\n",
       "race                        0\n",
       "gender                      0\n",
       "age                         0\n",
       "num_lab_procedures          0\n",
       "num_procedures              0\n",
       "num_medications             0\n",
       "number_outpatient           0\n",
       "number_emergency            0\n",
       "number_inpatient            0\n",
       "change                      0\n",
       "readmitted                  0\n",
       "Total_drugs                 0\n",
       "Solo_Insulin                0\n",
       "dtype: int64"
      ]
     },
     "execution_count": 357,
     "metadata": {},
     "output_type": "execute_result"
    }
   ],
   "source": [
    "filtereddata.isnull().sum()"
   ]
  },
  {
   "cell_type": "markdown",
   "metadata": {},
   "source": [
    "### Outliers"
   ]
  },
  {
   "cell_type": "code",
   "execution_count": 358,
   "metadata": {},
   "outputs": [],
   "source": [
    "outlierdt=pd.DataFrame({\"Features\":['number_diagnoses','time_in_hospital','num_lab_procedures', 'num_procedures',\n",
    "                                    'num_medications','number_outpatient', 'number_inpatient','number_emergency'], \n",
    "                        'No_of_Ouliers':[241,1799,152,3797,2035,13037,5490,9124], \n",
    "                       'Percentage_of_Outliers':[0.31,2.32,0.19,4.91,2.63,16.87,7.10,11.80]})"
   ]
  },
  {
   "cell_type": "code",
   "execution_count": 359,
   "metadata": {},
   "outputs": [
    {
     "data": {
      "text/html": [
       "<div>\n",
       "<style scoped>\n",
       "    .dataframe tbody tr th:only-of-type {\n",
       "        vertical-align: middle;\n",
       "    }\n",
       "\n",
       "    .dataframe tbody tr th {\n",
       "        vertical-align: top;\n",
       "    }\n",
       "\n",
       "    .dataframe thead th {\n",
       "        text-align: right;\n",
       "    }\n",
       "</style>\n",
       "<table border=\"1\" class=\"dataframe\">\n",
       "  <thead>\n",
       "    <tr style=\"text-align: right;\">\n",
       "      <th></th>\n",
       "      <th>Features</th>\n",
       "      <th>No_of_Ouliers</th>\n",
       "      <th>Percentage_of_Outliers</th>\n",
       "    </tr>\n",
       "  </thead>\n",
       "  <tbody>\n",
       "    <tr>\n",
       "      <th>0</th>\n",
       "      <td>number_diagnoses</td>\n",
       "      <td>241</td>\n",
       "      <td>0.31</td>\n",
       "    </tr>\n",
       "    <tr>\n",
       "      <th>1</th>\n",
       "      <td>time_in_hospital</td>\n",
       "      <td>1799</td>\n",
       "      <td>2.32</td>\n",
       "    </tr>\n",
       "    <tr>\n",
       "      <th>2</th>\n",
       "      <td>num_lab_procedures</td>\n",
       "      <td>152</td>\n",
       "      <td>0.19</td>\n",
       "    </tr>\n",
       "    <tr>\n",
       "      <th>3</th>\n",
       "      <td>num_procedures</td>\n",
       "      <td>3797</td>\n",
       "      <td>4.91</td>\n",
       "    </tr>\n",
       "    <tr>\n",
       "      <th>4</th>\n",
       "      <td>num_medications</td>\n",
       "      <td>2035</td>\n",
       "      <td>2.63</td>\n",
       "    </tr>\n",
       "    <tr>\n",
       "      <th>5</th>\n",
       "      <td>number_outpatient</td>\n",
       "      <td>13037</td>\n",
       "      <td>16.87</td>\n",
       "    </tr>\n",
       "    <tr>\n",
       "      <th>6</th>\n",
       "      <td>number_inpatient</td>\n",
       "      <td>5490</td>\n",
       "      <td>7.10</td>\n",
       "    </tr>\n",
       "    <tr>\n",
       "      <th>7</th>\n",
       "      <td>number_emergency</td>\n",
       "      <td>9124</td>\n",
       "      <td>11.80</td>\n",
       "    </tr>\n",
       "  </tbody>\n",
       "</table>\n",
       "</div>"
      ],
      "text/plain": [
       "             Features  No_of_Ouliers  Percentage_of_Outliers\n",
       "0    number_diagnoses            241                    0.31\n",
       "1    time_in_hospital           1799                    2.32\n",
       "2  num_lab_procedures            152                    0.19\n",
       "3      num_procedures           3797                    4.91\n",
       "4     num_medications           2035                    2.63\n",
       "5   number_outpatient          13037                   16.87\n",
       "6    number_inpatient           5490                    7.10\n",
       "7    number_emergency           9124                   11.80"
      ]
     },
     "execution_count": 359,
     "metadata": {},
     "output_type": "execute_result"
    }
   ],
   "source": [
    "outlierdt"
   ]
  },
  {
   "cell_type": "code",
   "execution_count": 360,
   "metadata": {},
   "outputs": [],
   "source": [
    "import scipy.stats.mstats as mstats"
   ]
  },
  {
   "cell_type": "code",
   "execution_count": 361,
   "metadata": {},
   "outputs": [],
   "source": [
    "b=mstats.winsorize(a=filtereddata['number_diagnoses'],limits=[0.025,0.025]) # 95%\n",
    "c=mstats.winsorize(a=filtereddata['time_in_hospital'],limits=[0.025,0.025]) # 95% \n",
    "d=mstats.winsorize(a=filtereddata['num_lab_procedures'],limits=[0.025,0.025]) # 95% \n",
    "e=mstats.winsorize(a=filtereddata['num_procedures'],limits=[0.025,0.025]) # 95% \n",
    "f=mstats.winsorize(a=filtereddata['num_medications'],limits=[0.025,0.025]) # 95% \n",
    "g=mstats.winsorize(a=filtereddata['number_inpatient'],limits=[0.025,0.025]) # 95% "
   ]
  },
  {
   "cell_type": "code",
   "execution_count": 431,
   "metadata": {},
   "outputs": [],
   "source": [
    "after_win = filtereddata.copy()"
   ]
  },
  {
   "cell_type": "code",
   "execution_count": 432,
   "metadata": {},
   "outputs": [
    {
     "data": {
      "text/plain": [
       "patient_nbr                 0\n",
       "diag_1                      0\n",
       "diag_2                      0\n",
       "diag_3                      0\n",
       "number_diagnoses            0\n",
       "admission_type_id           0\n",
       "discharge_disposition_id    0\n",
       "admission_source_id         0\n",
       "time_in_hospital            0\n",
       "encounter_id                0\n",
       "race                        0\n",
       "gender                      0\n",
       "age                         0\n",
       "num_lab_procedures          0\n",
       "num_procedures              0\n",
       "num_medications             0\n",
       "number_outpatient           0\n",
       "number_emergency            0\n",
       "number_inpatient            0\n",
       "change                      0\n",
       "readmitted                  0\n",
       "Total_drugs                 0\n",
       "Solo_Insulin                0\n",
       "dtype: int64"
      ]
     },
     "execution_count": 432,
     "metadata": {},
     "output_type": "execute_result"
    }
   ],
   "source": [
    "after_win.isnull().sum()"
   ]
  },
  {
   "cell_type": "code",
   "execution_count": 433,
   "metadata": {},
   "outputs": [],
   "source": [
    "after_win['number_diagnoses']=b\n",
    "after_win['time_in_hospital']=c\n",
    "after_win['num_lab_procedures']=d\n",
    "after_win['num_procedures']=e\n",
    "after_win['num_medications']=f\n",
    "after_win['number_inpatient']=g"
   ]
  },
  {
   "cell_type": "code",
   "execution_count": 365,
   "metadata": {},
   "outputs": [],
   "source": [
    "after_win.to_csv('AfterWinsorization.csv',index=0)"
   ]
  },
  {
   "cell_type": "code",
   "execution_count": 366,
   "metadata": {},
   "outputs": [],
   "source": [
    "from sklearn.tree import DecisionTreeClassifier\n",
    "from sklearn.model_selection import train_test_split\n",
    "from sklearn.metrics import accuracy_score\n",
    "import sklearn.metrics as metrics"
   ]
  },
  {
   "cell_type": "code",
   "execution_count": 367,
   "metadata": {},
   "outputs": [
    {
     "data": {
      "text/plain": [
       "(77272, 17)"
      ]
     },
     "execution_count": 367,
     "metadata": {},
     "output_type": "execute_result"
    }
   ],
   "source": [
    "X = after_win.drop(['Solo_Insulin','diag_1','diag_2','diag_3','patient_nbr','encounter_id'], axis=1)\n",
    "y = after_win['Solo_Insulin']\n",
    "X.shape"
   ]
  },
  {
   "cell_type": "code",
   "execution_count": 368,
   "metadata": {},
   "outputs": [
    {
     "data": {
      "text/plain": [
       "(77272, 48)"
      ]
     },
     "execution_count": 368,
     "metadata": {},
     "output_type": "execute_result"
    }
   ],
   "source": [
    "X=pd.get_dummies(X)\n",
    "X.shape"
   ]
  },
  {
   "cell_type": "code",
   "execution_count": 369,
   "metadata": {},
   "outputs": [
    {
     "name": "stdout",
     "output_type": "stream",
     "text": [
      "0.8062762859915885\n",
      "0.6179210906624562\n",
      "0.7901303799242955\n"
     ]
    }
   ],
   "source": [
    "# DT\n",
    "X_train, X_test, y_train, y_test = train_test_split(X, y, random_state=1,test_size=0.2,stratify=y)\n",
    "model = DecisionTreeClassifier(random_state=0,max_depth=3,max_leaf_nodes=15,min_samples_leaf=15)\n",
    "model.fit(X_train, y_train)\n",
    "y_predict = model.predict(X_test)\n",
    "print(accuracy_score(y_test, y_predict))\n",
    "print(metrics.cohen_kappa_score(y_test,y_predict))\n",
    "print(metrics.f1_score(y_test, y_predict))"
   ]
  },
  {
   "cell_type": "markdown",
   "metadata": {},
   "source": [
    "### Baseline Model - Log Reg"
   ]
  },
  {
   "cell_type": "code",
   "execution_count": 370,
   "metadata": {},
   "outputs": [
    {
     "name": "stderr",
     "output_type": "stream",
     "text": [
      "C:\\Users\\user\\Anaconda3\\lib\\site-packages\\sklearn\\linear_model\\logistic.py:433: FutureWarning: Default solver will be changed to 'lbfgs' in 0.22. Specify a solver to silence this warning.\n",
      "  FutureWarning)\n",
      "C:\\Users\\user\\Anaconda3\\lib\\site-packages\\sklearn\\metrics\\classification.py:1143: UndefinedMetricWarning: Precision and F-score are ill-defined and being set to 0.0 in labels with no predicted samples.\n",
      "  'precision', 'predicted', average, warn_for)\n"
     ]
    },
    {
     "name": "stdout",
     "output_type": "stream",
     "text": [
      "              precision    recall  f1-score   support\n",
      "\n",
      "           0       0.61      1.00      0.76      9414\n",
      "           1       0.00      0.00      0.00      6041\n",
      "\n",
      "   micro avg       0.61      0.61      0.61     15455\n",
      "   macro avg       0.30      0.50      0.38     15455\n",
      "weighted avg       0.37      0.61      0.46     15455\n",
      "\n",
      "0.6091232610805565\n",
      "0.5\n",
      "0.0\n",
      "0.0\n"
     ]
    },
    {
     "name": "stderr",
     "output_type": "stream",
     "text": [
      "C:\\Users\\user\\Anaconda3\\lib\\site-packages\\sklearn\\metrics\\classification.py:1143: UndefinedMetricWarning: Precision and F-score are ill-defined and being set to 0.0 in labels with no predicted samples.\n",
      "  'precision', 'predicted', average, warn_for)\n",
      "C:\\Users\\user\\Anaconda3\\lib\\site-packages\\sklearn\\metrics\\classification.py:1143: UndefinedMetricWarning: Precision and F-score are ill-defined and being set to 0.0 in labels with no predicted samples.\n",
      "  'precision', 'predicted', average, warn_for)\n",
      "C:\\Users\\user\\Anaconda3\\lib\\site-packages\\sklearn\\metrics\\classification.py:1143: UndefinedMetricWarning: F-score is ill-defined and being set to 0.0 due to no predicted samples.\n",
      "  'precision', 'predicted', average, warn_for)\n"
     ]
    }
   ],
   "source": [
    "X = after_win.drop(['Solo_Insulin','diag_1','diag_2','diag_3'], axis=1)\n",
    "y = after_win['Solo_Insulin']\n",
    "X=pd.get_dummies(X)\n",
    "\n",
    "X_train, X_test, y_train, y_test = train_test_split(X, y, random_state=1,test_size=0.2,stratify=y)\n",
    "from sklearn.linear_model import LogisticRegression\n",
    "\n",
    "model = LogisticRegression(random_state=1)\n",
    "model.fit(X_train, y_train)\n",
    "y_predict = model.predict(X_test)\n",
    "\n",
    "print(metrics.classification_report(y_test, y_predict))\n",
    "fpr,tpr,_ =metrics.roc_curve(y_test, y_predict)\n",
    "aucmetric=metrics.auc(fpr,tpr)\n",
    "print(accuracy_score(y_test, y_predict))\n",
    "print(aucmetric)\n",
    "print(metrics.cohen_kappa_score(y_test,y_predict))\n",
    "print(metrics.f1_score(y_test,y_predict))"
   ]
  },
  {
   "cell_type": "code",
   "execution_count": 371,
   "metadata": {},
   "outputs": [
    {
     "name": "stderr",
     "output_type": "stream",
     "text": [
      "C:\\Users\\user\\Anaconda3\\lib\\site-packages\\sklearn\\linear_model\\logistic.py:433: FutureWarning: Default solver will be changed to 'lbfgs' in 0.22. Specify a solver to silence this warning.\n",
      "  FutureWarning)\n"
     ]
    },
    {
     "name": "stdout",
     "output_type": "stream",
     "text": [
      "              precision    recall  f1-score   support\n",
      "\n",
      "           0       0.87      0.85      0.86      9414\n",
      "           1       0.77      0.80      0.79      6041\n",
      "\n",
      "   micro avg       0.83      0.83      0.83     15455\n",
      "   macro avg       0.82      0.83      0.82     15455\n",
      "weighted avg       0.83      0.83      0.83     15455\n",
      "\n",
      "0.8302167583306373\n",
      "0.8256990762823279\n",
      "0.646261896575895\n",
      "0.7875303643724696\n"
     ]
    }
   ],
   "source": [
    "X = after_win.drop(['Solo_Insulin','diag_1','diag_2','diag_3','patient_nbr','encounter_id'], axis=1) # dropping patient nbr and encounter id\n",
    "y = after_win['Solo_Insulin']\n",
    "X=pd.get_dummies(X)\n",
    "\n",
    "X_train, X_test, y_train, y_test = train_test_split(X, y, random_state=1,test_size=0.2,stratify=y)\n",
    "from sklearn.linear_model import LogisticRegression\n",
    "\n",
    "model = LogisticRegression(random_state=1)\n",
    "model.fit(X_train, y_train)\n",
    "y_predict = model.predict(X_test)\n",
    "\n",
    "print(metrics.classification_report(y_test, y_predict))\n",
    "fpr,tpr,_ =metrics.roc_curve(y_test, y_predict)\n",
    "aucmetric=metrics.auc(fpr,tpr)\n",
    "print(accuracy_score(y_test, y_predict))\n",
    "print(aucmetric)\n",
    "print(metrics.cohen_kappa_score(y_test,y_predict))\n",
    "print(metrics.f1_score(y_test,y_predict))"
   ]
  },
  {
   "cell_type": "code",
   "execution_count": 495,
   "metadata": {},
   "outputs": [],
   "source": [
    "insulin=pd.read_csv('FilteredData_Updated.csv')"
   ]
  },
  {
   "cell_type": "code",
   "execution_count": 496,
   "metadata": {},
   "outputs": [
    {
     "data": {
      "text/plain": [
       "0        Up\n",
       "1        No\n",
       "2        Up\n",
       "3    Steady\n",
       "4    Steady\n",
       "Name: insulin, dtype: object"
      ]
     },
     "execution_count": 496,
     "metadata": {},
     "output_type": "execute_result"
    }
   ],
   "source": [
    "insulin = insulin['insulin']\n",
    "insulin.head()"
   ]
  },
  {
   "cell_type": "code",
   "execution_count": 497,
   "metadata": {},
   "outputs": [
    {
     "data": {
      "text/plain": [
       "0"
      ]
     },
     "execution_count": 497,
     "metadata": {},
     "output_type": "execute_result"
    }
   ],
   "source": [
    "insulin.isnull().sum()"
   ]
  },
  {
   "cell_type": "code",
   "execution_count": 498,
   "metadata": {},
   "outputs": [
    {
     "data": {
      "text/plain": [
       "(77272,)"
      ]
     },
     "execution_count": 498,
     "metadata": {},
     "output_type": "execute_result"
    }
   ],
   "source": [
    "insulin.shape"
   ]
  },
  {
   "cell_type": "code",
   "execution_count": 499,
   "metadata": {},
   "outputs": [
    {
     "data": {
      "text/plain": [
       "Steady    30331\n",
       "No        23838\n",
       "Down      12012\n",
       "Up        11091\n",
       "Name: insulin, dtype: int64"
      ]
     },
     "execution_count": 499,
     "metadata": {},
     "output_type": "execute_result"
    }
   ],
   "source": [
    "insulin.value_counts()"
   ]
  },
  {
   "cell_type": "code",
   "execution_count": 500,
   "metadata": {},
   "outputs": [],
   "source": [
    "after_win.index=np.arange(len(after_win))"
   ]
  },
  {
   "cell_type": "code",
   "execution_count": 501,
   "metadata": {},
   "outputs": [
    {
     "data": {
      "text/plain": [
       "Index(['patient_nbr', 'diag_1', 'diag_2', 'diag_3', 'number_diagnoses',\n",
       "       'admission_type_id', 'discharge_disposition_id', 'admission_source_id',\n",
       "       'time_in_hospital', 'encounter_id', 'race', 'gender', 'age',\n",
       "       'num_lab_procedures', 'num_procedures', 'num_medications',\n",
       "       'number_outpatient', 'number_emergency', 'number_inpatient', 'change',\n",
       "       'readmitted', 'Total_drugs', 'Solo_Insulin', 'insulin'],\n",
       "      dtype='object')"
      ]
     },
     "execution_count": 501,
     "metadata": {},
     "output_type": "execute_result"
    }
   ],
   "source": [
    "after_win['insulin'] = insulin\n",
    "after_win.columns"
   ]
  },
  {
   "cell_type": "code",
   "execution_count": 502,
   "metadata": {},
   "outputs": [
    {
     "data": {
      "text/plain": [
       "patient_nbr                 0\n",
       "diag_1                      0\n",
       "diag_2                      0\n",
       "diag_3                      0\n",
       "number_diagnoses            0\n",
       "admission_type_id           0\n",
       "discharge_disposition_id    0\n",
       "admission_source_id         0\n",
       "time_in_hospital            0\n",
       "encounter_id                0\n",
       "race                        0\n",
       "gender                      0\n",
       "age                         0\n",
       "num_lab_procedures          0\n",
       "num_procedures              0\n",
       "num_medications             0\n",
       "number_outpatient           0\n",
       "number_emergency            0\n",
       "number_inpatient            0\n",
       "change                      0\n",
       "readmitted                  0\n",
       "Total_drugs                 0\n",
       "Solo_Insulin                0\n",
       "insulin                     0\n",
       "dtype: int64"
      ]
     },
     "execution_count": 502,
     "metadata": {},
     "output_type": "execute_result"
    }
   ],
   "source": [
    "after_win.isnull().sum()"
   ]
  },
  {
   "cell_type": "code",
   "execution_count": 503,
   "metadata": {},
   "outputs": [
    {
     "data": {
      "text/plain": [
       "(77272, 24)"
      ]
     },
     "execution_count": 503,
     "metadata": {},
     "output_type": "execute_result"
    }
   ],
   "source": [
    "after_win.shape"
   ]
  },
  {
   "cell_type": "code",
   "execution_count": 504,
   "metadata": {},
   "outputs": [],
   "source": [
    "after_win['insulin']=after_win['insulin'].replace(['No','Up','Down','Steady'],[0,1,1,1])"
   ]
  },
  {
   "cell_type": "code",
   "execution_count": 505,
   "metadata": {},
   "outputs": [
    {
     "data": {
      "text/plain": [
       "(77272, 24)"
      ]
     },
     "execution_count": 505,
     "metadata": {},
     "output_type": "execute_result"
    }
   ],
   "source": [
    "after_win.shape"
   ]
  },
  {
   "cell_type": "code",
   "execution_count": 506,
   "metadata": {},
   "outputs": [
    {
     "data": {
      "text/plain": [
       "patient_nbr                 0\n",
       "diag_1                      0\n",
       "diag_2                      0\n",
       "diag_3                      0\n",
       "number_diagnoses            0\n",
       "admission_type_id           0\n",
       "discharge_disposition_id    0\n",
       "admission_source_id         0\n",
       "time_in_hospital            0\n",
       "encounter_id                0\n",
       "race                        0\n",
       "gender                      0\n",
       "age                         0\n",
       "num_lab_procedures          0\n",
       "num_procedures              0\n",
       "num_medications             0\n",
       "number_outpatient           0\n",
       "number_emergency            0\n",
       "number_inpatient            0\n",
       "change                      0\n",
       "readmitted                  0\n",
       "Total_drugs                 0\n",
       "Solo_Insulin                0\n",
       "insulin                     0\n",
       "dtype: int64"
      ]
     },
     "execution_count": 506,
     "metadata": {},
     "output_type": "execute_result"
    }
   ],
   "source": [
    "after_win.isnull().sum()"
   ]
  },
  {
   "cell_type": "markdown",
   "metadata": {},
   "source": [
    "total_drugs -> 21 , insulin -> 23"
   ]
  },
  {
   "cell_type": "code",
   "execution_count": 507,
   "metadata": {},
   "outputs": [],
   "source": [
    "def eff(df):\n",
    "    lst=[]\n",
    "    for i in range(len(df)):\n",
    "        if (df.iloc[i,21] == 1) and (df.iloc[i,23] == 1):\n",
    "            lst.append('I')\n",
    "        elif (df.iloc[i,21] > 1) and (df.iloc[i,23] == 1):\n",
    "            lst.append('IO')\n",
    "        elif (df.iloc[i,21] > 0) and (df.iloc[i,23] == 0):\n",
    "            lst.append('O')\n",
    "            \n",
    "    return lst\n",
    "            "
   ]
  },
  {
   "cell_type": "code",
   "execution_count": 508,
   "metadata": {},
   "outputs": [],
   "source": [
    "efficiency = pd.DataFrame()"
   ]
  },
  {
   "cell_type": "code",
   "execution_count": 509,
   "metadata": {},
   "outputs": [],
   "source": [
    "efficiency['I/IO/O'] = eff(after_win)"
   ]
  },
  {
   "cell_type": "code",
   "execution_count": 510,
   "metadata": {},
   "outputs": [
    {
     "data": {
      "text/plain": [
       "(77272, 1)"
      ]
     },
     "execution_count": 510,
     "metadata": {},
     "output_type": "execute_result"
    }
   ],
   "source": [
    "efficiency.shape"
   ]
  },
  {
   "cell_type": "code",
   "execution_count": 511,
   "metadata": {},
   "outputs": [
    {
     "data": {
      "text/plain": [
       "I     30202\n",
       "O     23838\n",
       "IO    23232\n",
       "Name: I/IO/O, dtype: int64"
      ]
     },
     "execution_count": 511,
     "metadata": {},
     "output_type": "execute_result"
    }
   ],
   "source": [
    "efficiency['I/IO/O'].value_counts()"
   ]
  },
  {
   "cell_type": "code",
   "execution_count": 512,
   "metadata": {},
   "outputs": [
    {
     "data": {
      "text/plain": [
       "(77272, 1)"
      ]
     },
     "execution_count": 512,
     "metadata": {},
     "output_type": "execute_result"
    }
   ],
   "source": [
    "efficiency.shape"
   ]
  },
  {
   "cell_type": "code",
   "execution_count": 513,
   "metadata": {},
   "outputs": [],
   "source": [
    "efficiency['Readmitted']=after_win['readmitted']"
   ]
  },
  {
   "cell_type": "code",
   "execution_count": 473,
   "metadata": {},
   "outputs": [],
   "source": [
    "i = efficiency[efficiency['I/IO/O']=='I']"
   ]
  },
  {
   "cell_type": "markdown",
   "metadata": {},
   "source": [
    "### Solo Insulin Efficiency"
   ]
  },
  {
   "cell_type": "code",
   "execution_count": 474,
   "metadata": {},
   "outputs": [
    {
     "data": {
      "text/plain": [
       "NO     14972\n",
       ">30    11230\n",
       "<30     4000\n",
       "Name: Readmitted, dtype: int64"
      ]
     },
     "execution_count": 474,
     "metadata": {},
     "output_type": "execute_result"
    }
   ],
   "source": [
    "i['Readmitted'].value_counts()"
   ]
  },
  {
   "cell_type": "code",
   "execution_count": 475,
   "metadata": {},
   "outputs": [
    {
     "name": "stdout",
     "output_type": "stream",
     "text": [
      "Efficiency of SoloInsulin is 0.496\n"
     ]
    }
   ],
   "source": [
    "\n",
    "print('Efficiency of SoloInsulin is {}'.format(round(i['Readmitted'].value_counts()['NO']/len(i),3)))"
   ]
  },
  {
   "cell_type": "markdown",
   "metadata": {},
   "source": [
    "### Solo Insulin + Other Drugs (I+O) efficiency"
   ]
  },
  {
   "cell_type": "code",
   "execution_count": 476,
   "metadata": {},
   "outputs": [
    {
     "data": {
      "text/plain": [
       "NO     12265\n",
       ">30     8366\n",
       "<30     2601\n",
       "Name: Readmitted, dtype: int64"
      ]
     },
     "execution_count": 476,
     "metadata": {},
     "output_type": "execute_result"
    }
   ],
   "source": [
    "io = efficiency[efficiency['I/IO/O']=='IO']\n",
    "io['Readmitted'].value_counts()"
   ]
  },
  {
   "cell_type": "code",
   "execution_count": 477,
   "metadata": {},
   "outputs": [
    {
     "name": "stdout",
     "output_type": "stream",
     "text": [
      "Efficiency of Insulin + OtherDrugs(solo + combination) is 0.528\n"
     ]
    }
   ],
   "source": [
    "print('Efficiency of Insulin + OtherDrugs(solo + combination) is {}'.format(round(io['Readmitted'].value_counts()['NO']/len(io),3)))"
   ]
  },
  {
   "cell_type": "markdown",
   "metadata": {},
   "source": [
    "### Other (individual drug and combinations) Drugs Efficiency"
   ]
  },
  {
   "cell_type": "code",
   "execution_count": 478,
   "metadata": {},
   "outputs": [
    {
     "data": {
      "text/plain": [
       "NO     12606\n",
       ">30     8722\n",
       "<30     2510\n",
       "Name: Readmitted, dtype: int64"
      ]
     },
     "execution_count": 478,
     "metadata": {},
     "output_type": "execute_result"
    }
   ],
   "source": [
    "o = efficiency[efficiency['I/IO/O']=='O']\n",
    "o['Readmitted'].value_counts()"
   ]
  },
  {
   "cell_type": "code",
   "execution_count": 479,
   "metadata": {},
   "outputs": [
    {
     "name": "stdout",
     "output_type": "stream",
     "text": [
      "Efficiency of Other drugs (solo + combination) is 0.529\n"
     ]
    }
   ],
   "source": [
    "print('Efficiency of Other drugs (solo + combination) is {}'.format(round(o['Readmitted'].value_counts()['NO']/len(o),3)))"
   ]
  },
  {
   "cell_type": "markdown",
   "metadata": {},
   "source": [
    "### Solo Other Drugs Efficiency i.e. total drugs ==1 and insulin ==0"
   ]
  },
  {
   "cell_type": "code",
   "execution_count": 480,
   "metadata": {},
   "outputs": [],
   "source": [
    "z=after_win[after_win['insulin']==0]"
   ]
  },
  {
   "cell_type": "code",
   "execution_count": 481,
   "metadata": {},
   "outputs": [
    {
     "data": {
      "text/plain": [
       "1    16231\n",
       "2     6417\n",
       "3     1150\n",
       "4       38\n",
       "6        1\n",
       "5        1\n",
       "Name: Total_drugs, dtype: int64"
      ]
     },
     "execution_count": 481,
     "metadata": {},
     "output_type": "execute_result"
    }
   ],
   "source": [
    "z['Total_drugs'].value_counts()"
   ]
  },
  {
   "cell_type": "code",
   "execution_count": 482,
   "metadata": {},
   "outputs": [
    {
     "name": "stdout",
     "output_type": "stream",
     "text": [
      "Efficiency of Solo Other Drugs is 0.681\n"
     ]
    }
   ],
   "source": [
    "print('Efficiency of Solo Other Drugs is {}'.format(round(z['Total_drugs'].value_counts()[1]/len(z),3)))"
   ]
  },
  {
   "cell_type": "markdown",
   "metadata": {},
   "source": [
    "### SoloInsulin + Others(Drug) Efficiency"
   ]
  },
  {
   "cell_type": "code",
   "execution_count": 516,
   "metadata": {},
   "outputs": [
    {
     "data": {
      "text/plain": [
       "1    46433\n",
       "2    21714\n",
       "3     7737\n",
       "4     1325\n",
       "5       58\n",
       "6        5\n",
       "Name: Total_drugs, dtype: int64"
      ]
     },
     "execution_count": 516,
     "metadata": {},
     "output_type": "execute_result"
    }
   ],
   "source": [
    "after_win['Total_drugs'].value_counts()"
   ]
  },
  {
   "cell_type": "code",
   "execution_count": null,
   "metadata": {},
   "outputs": [],
   "source": []
  },
  {
   "cell_type": "code",
   "execution_count": 517,
   "metadata": {},
   "outputs": [
    {
     "name": "stdout",
     "output_type": "stream",
     "text": [
      "Efficiency of SoloInsulin + Other Solo Drug is 0.601\n"
     ]
    }
   ],
   "source": [
    "print('Efficiency of SoloInsulin + Other Solo Drug is {}'.format(round(after_win['Total_drugs'].value_counts()[1]/len(after_win),3)))"
   ]
  },
  {
   "cell_type": "code",
   "execution_count": null,
   "metadata": {},
   "outputs": [],
   "source": []
  },
  {
   "cell_type": "code",
   "execution_count": 518,
   "metadata": {},
   "outputs": [
    {
     "data": {
      "text/html": [
       "<div>\n",
       "<style scoped>\n",
       "    .dataframe tbody tr th:only-of-type {\n",
       "        vertical-align: middle;\n",
       "    }\n",
       "\n",
       "    .dataframe tbody tr th {\n",
       "        vertical-align: top;\n",
       "    }\n",
       "\n",
       "    .dataframe thead th {\n",
       "        text-align: right;\n",
       "    }\n",
       "</style>\n",
       "<table border=\"1\" class=\"dataframe\">\n",
       "  <thead>\n",
       "    <tr style=\"text-align: right;\">\n",
       "      <th></th>\n",
       "      <th>Efficiency</th>\n",
       "    </tr>\n",
       "  </thead>\n",
       "  <tbody>\n",
       "    <tr>\n",
       "      <th>SoloInsulin</th>\n",
       "      <td>49.6%</td>\n",
       "    </tr>\n",
       "    <tr>\n",
       "      <th>SoloInsulin+Others(Drug+Combination)</th>\n",
       "      <td>52.8%</td>\n",
       "    </tr>\n",
       "    <tr>\n",
       "      <th>Others(Drug+Combination)</th>\n",
       "      <td>52.9%</td>\n",
       "    </tr>\n",
       "    <tr>\n",
       "      <th>Others(Drug)</th>\n",
       "      <td>68.1%</td>\n",
       "    </tr>\n",
       "    <tr>\n",
       "      <th>SoloInsulin+Others(Drug)</th>\n",
       "      <td>60.1%</td>\n",
       "    </tr>\n",
       "  </tbody>\n",
       "</table>\n",
       "</div>"
      ],
      "text/plain": [
       "                                     Efficiency\n",
       "SoloInsulin                               49.6%\n",
       "SoloInsulin+Others(Drug+Combination)      52.8%\n",
       "Others(Drug+Combination)                  52.9%\n",
       "Others(Drug)                              68.1%\n",
       "SoloInsulin+Others(Drug)                  60.1%"
      ]
     },
     "execution_count": 518,
     "metadata": {},
     "output_type": "execute_result"
    }
   ],
   "source": [
    "pd.DataFrame(index=['SoloInsulin','SoloInsulin+Others(Drug+Combination)','Others(Drug+Combination)','Others(Drug)','SoloInsulin+Others(Drug)']\n",
    "             ,data=['49.6%','52.8%',\n",
    "              '52.9%','68.1%','60.1%'],columns=['Efficiency'])"
   ]
  },
  {
   "cell_type": "code",
   "execution_count": null,
   "metadata": {},
   "outputs": [],
   "source": []
  },
  {
   "cell_type": "code",
   "execution_count": 520,
   "metadata": {},
   "outputs": [],
   "source": [
    "#efficiency.to_csv('efficiency.csv',index=0)"
   ]
  },
  {
   "cell_type": "code",
   "execution_count": null,
   "metadata": {},
   "outputs": [],
   "source": []
  },
  {
   "cell_type": "code",
   "execution_count": 484,
   "metadata": {
    "scrolled": true
   },
   "outputs": [
    {
     "data": {
      "text/plain": [
       "Emergency        40547\n",
       "Elective         14509\n",
       "Urgent           14351\n",
       "NA                3817\n",
       "NULL              3756\n",
       "Not Mapped         272\n",
       "Trauma Center       12\n",
       "Newborn              8\n",
       "Name: admission_type_id, dtype: int64"
      ]
     },
     "execution_count": 484,
     "metadata": {},
     "output_type": "execute_result"
    }
   ],
   "source": [
    "after_win['admission_type_id'].value_counts()"
   ]
  },
  {
   "cell_type": "code",
   "execution_count": 486,
   "metadata": {},
   "outputs": [],
   "source": [
    "after_win['admission_type_id'].replace({'NULL':'NA','Not Mapped':'NA'},inplace=True)"
   ]
  },
  {
   "cell_type": "code",
   "execution_count": 487,
   "metadata": {},
   "outputs": [
    {
     "data": {
      "text/plain": [
       "Emergency        40547\n",
       "Elective         14509\n",
       "Urgent           14351\n",
       "NA                7845\n",
       "Trauma Center       12\n",
       "Newborn              8\n",
       "Name: admission_type_id, dtype: int64"
      ]
     },
     "execution_count": 487,
     "metadata": {},
     "output_type": "execute_result"
    }
   ],
   "source": [
    "after_win['admission_type_id'].value_counts()"
   ]
  },
  {
   "cell_type": "code",
   "execution_count": 488,
   "metadata": {},
   "outputs": [],
   "source": [
    "after_win.to_csv('AfterWinsorization.csv',index=0)"
   ]
  },
  {
   "cell_type": "code",
   "execution_count": 490,
   "metadata": {},
   "outputs": [
    {
     "data": {
      "text/plain": [
       "Index(['patient_nbr', 'diag_1', 'diag_2', 'diag_3', 'number_diagnoses',\n",
       "       'admission_type_id', 'discharge_disposition_id', 'admission_source_id',\n",
       "       'time_in_hospital', 'encounter_id', 'race', 'gender', 'age',\n",
       "       'num_lab_procedures', 'num_procedures', 'num_medications',\n",
       "       'number_outpatient', 'number_emergency', 'number_inpatient', 'change',\n",
       "       'readmitted', 'Total_drugs', 'Solo_Insulin', 'insulin'],\n",
       "      dtype='object')"
      ]
     },
     "execution_count": 490,
     "metadata": {},
     "output_type": "execute_result"
    }
   ],
   "source": [
    "after_win.columns"
   ]
  },
  {
   "cell_type": "code",
   "execution_count": 492,
   "metadata": {},
   "outputs": [],
   "source": [
    "after_win.drop('insulin',axis=1,inplace=True)"
   ]
  },
  {
   "cell_type": "code",
   "execution_count": 493,
   "metadata": {},
   "outputs": [
    {
     "data": {
      "text/plain": [
       "Index(['patient_nbr', 'diag_1', 'diag_2', 'diag_3', 'number_diagnoses',\n",
       "       'admission_type_id', 'discharge_disposition_id', 'admission_source_id',\n",
       "       'time_in_hospital', 'encounter_id', 'race', 'gender', 'age',\n",
       "       'num_lab_procedures', 'num_procedures', 'num_medications',\n",
       "       'number_outpatient', 'number_emergency', 'number_inpatient', 'change',\n",
       "       'readmitted', 'Total_drugs', 'Solo_Insulin'],\n",
       "      dtype='object')"
      ]
     },
     "execution_count": 493,
     "metadata": {},
     "output_type": "execute_result"
    }
   ],
   "source": [
    "after_win.columns"
   ]
  },
  {
   "cell_type": "code",
   "execution_count": null,
   "metadata": {},
   "outputs": [],
   "source": []
  },
  {
   "cell_type": "code",
   "execution_count": null,
   "metadata": {},
   "outputs": [],
   "source": []
  },
  {
   "cell_type": "code",
   "execution_count": 522,
   "metadata": {},
   "outputs": [],
   "source": [
    "after_win.drop('insulin',axis=1,inplace=True)"
   ]
  },
  {
   "cell_type": "markdown",
   "metadata": {},
   "source": [
    "### Feature Engineering diag1, diag2, diag3 based on icd9 codes to get a new column - diagnosis "
   ]
  },
  {
   "cell_type": "code",
   "execution_count": 523,
   "metadata": {},
   "outputs": [
    {
     "data": {
      "text/plain": [
       "Index(['patient_nbr', 'diag_1', 'diag_2', 'diag_3', 'number_diagnoses',\n",
       "       'admission_type_id', 'discharge_disposition_id', 'admission_source_id',\n",
       "       'time_in_hospital', 'encounter_id', 'race', 'gender', 'age',\n",
       "       'num_lab_procedures', 'num_procedures', 'num_medications',\n",
       "       'number_outpatient', 'number_emergency', 'number_inpatient', 'change',\n",
       "       'readmitted', 'Total_drugs', 'Solo_Insulin'],\n",
       "      dtype='object')"
      ]
     },
     "execution_count": 523,
     "metadata": {},
     "output_type": "execute_result"
    }
   ],
   "source": [
    "after_win.columns"
   ]
  },
  {
   "cell_type": "markdown",
   "metadata": {},
   "source": [
    "##### if diag1,2,3 start with 250 then diabetic according to icd9 codes"
   ]
  },
  {
   "cell_type": "code",
   "execution_count": 529,
   "metadata": {},
   "outputs": [],
   "source": [
    "def diagnosis(df):\n",
    "    lst=[]\n",
    "    for i in range(len(df)):\n",
    "        if(( df.iloc[i,1].startswith('250') == True) or ( df.iloc[i,2].startswith('250') == True) or ( df.iloc[i,3].startswith('250') == True)):\n",
    "            lst.append(1)\n",
    "        else:\n",
    "            lst.append(0)\n",
    "    return lst"
   ]
  },
  {
   "cell_type": "code",
   "execution_count": 530,
   "metadata": {},
   "outputs": [],
   "source": [
    "temp1=after_win.copy()\n",
    "temp2=after_win.copy()"
   ]
  },
  {
   "cell_type": "code",
   "execution_count": 531,
   "metadata": {},
   "outputs": [],
   "source": [
    "temp1['diagnosis']=diagnosis(temp1)"
   ]
  },
  {
   "cell_type": "code",
   "execution_count": 532,
   "metadata": {},
   "outputs": [
    {
     "data": {
      "text/plain": [
       "0    46964\n",
       "1    30308\n",
       "Name: diagnosis, dtype: int64"
      ]
     },
     "execution_count": 532,
     "metadata": {},
     "output_type": "execute_result"
    }
   ],
   "source": [
    "temp1['diagnosis'].value_counts()"
   ]
  },
  {
   "cell_type": "code",
   "execution_count": 539,
   "metadata": {},
   "outputs": [],
   "source": [
    "temp1.drop(['diag_1','diag_2','diag_3'],axis=1,inplace=True)"
   ]
  },
  {
   "cell_type": "code",
   "execution_count": 533,
   "metadata": {},
   "outputs": [],
   "source": [
    "fe=pd.read_csv('FeatureEngineering.csv')"
   ]
  },
  {
   "cell_type": "code",
   "execution_count": 534,
   "metadata": {},
   "outputs": [
    {
     "data": {
      "text/plain": [
       "Index(['patient_nbr', 'diag_1', 'diag_2', 'diag_3', 'number_diagnoses',\n",
       "       'admission_type_id', 'discharge_disposition_id', 'admission_source_id',\n",
       "       'time_in_hospital', 'encounter_id', 'race', 'gender', 'age',\n",
       "       'num_lab_procedures', 'num_procedures', 'num_medications',\n",
       "       'number_outpatient', 'number_emergency', 'number_inpatient',\n",
       "       'metformin', 'repaglinide', 'nateglinide', 'chlorpropamide',\n",
       "       'glimepiride', 'acetohexamide', 'glipizide', 'glyburide', 'tolbutamide',\n",
       "       'pioglitazone', 'rosiglitazone', 'acarbose', 'miglitol', 'troglitazone',\n",
       "       'tolazamide', 'insulin', 'glyburide-metformin', 'glipizide-metformin',\n",
       "       'glimepiride-pioglitazone', 'metformin-rosiglitazone',\n",
       "       'metformin-pioglitazone', 'change', 'diabetesMed', 'readmitted',\n",
       "       'Total_drugs', 'Solo_Insulin', 'circulatory', 'respiratory',\n",
       "       'digestive', 'diabetes', 'injury', 'musculusketal', 'genitourinary',\n",
       "       'neoplasms', 'others'],\n",
       "      dtype='object')"
      ]
     },
     "execution_count": 534,
     "metadata": {},
     "output_type": "execute_result"
    }
   ],
   "source": [
    "fe.columns"
   ]
  },
  {
   "cell_type": "code",
   "execution_count": 537,
   "metadata": {},
   "outputs": [],
   "source": [
    "temp2['circulatory']=fe['circulatory']\n",
    "temp2['respiratory']=fe['respiratory']\n",
    "temp2['digestive']=fe['digestive']\n",
    "temp2['diabetic']=fe['diabetes']\n",
    "temp2['injury']=fe['injury']\n",
    "temp2['musculusketal']=fe['musculusketal']\n",
    "temp2['genitourinary']=fe['genitourinary']\n",
    "temp2['neoplasms']=fe['neoplasms']"
   ]
  },
  {
   "cell_type": "code",
   "execution_count": 540,
   "metadata": {},
   "outputs": [],
   "source": [
    "temp2.drop(['diag_1','diag_2','diag_3'],axis=1,inplace=True)"
   ]
  },
  {
   "cell_type": "code",
   "execution_count": 542,
   "metadata": {},
   "outputs": [
    {
     "data": {
      "text/plain": [
       "Index(['patient_nbr', 'number_diagnoses', 'admission_type_id',\n",
       "       'discharge_disposition_id', 'admission_source_id', 'time_in_hospital',\n",
       "       'encounter_id', 'race', 'gender', 'age', 'num_lab_procedures',\n",
       "       'num_procedures', 'num_medications', 'number_outpatient',\n",
       "       'number_emergency', 'number_inpatient', 'change', 'readmitted',\n",
       "       'Total_drugs', 'Solo_Insulin', 'circulatory', 'respiratory',\n",
       "       'digestive', 'diabetic', 'injury', 'musculusketal', 'genitourinary',\n",
       "       'neoplasms'],\n",
       "      dtype='object')"
      ]
     },
     "execution_count": 542,
     "metadata": {},
     "output_type": "execute_result"
    }
   ],
   "source": [
    "temp2.columns"
   ]
  },
  {
   "cell_type": "code",
   "execution_count": null,
   "metadata": {},
   "outputs": [],
   "source": []
  },
  {
   "cell_type": "code",
   "execution_count": null,
   "metadata": {},
   "outputs": [],
   "source": []
  },
  {
   "cell_type": "code",
   "execution_count": null,
   "metadata": {},
   "outputs": [],
   "source": []
  },
  {
   "cell_type": "markdown",
   "metadata": {},
   "source": [
    "### testing baseline with new columns"
   ]
  },
  {
   "cell_type": "code",
   "execution_count": 551,
   "metadata": {},
   "outputs": [],
   "source": [
    "x=temp1.drop(['patient_nbr','encounter_id','Solo_Insulin'],axis=1)\n",
    "y=temp1['Solo_Insulin']"
   ]
  },
  {
   "cell_type": "code",
   "execution_count": 552,
   "metadata": {},
   "outputs": [],
   "source": [
    "x = pd.get_dummies(x,drop_first=True)"
   ]
  },
  {
   "cell_type": "code",
   "execution_count": 546,
   "metadata": {},
   "outputs": [
    {
     "name": "stderr",
     "output_type": "stream",
     "text": [
      "C:\\Users\\user\\Anaconda3\\lib\\site-packages\\sklearn\\linear_model\\logistic.py:433: FutureWarning: Default solver will be changed to 'lbfgs' in 0.22. Specify a solver to silence this warning.\n",
      "  FutureWarning)\n"
     ]
    },
    {
     "name": "stdout",
     "output_type": "stream",
     "text": [
      "              precision    recall  f1-score   support\n",
      "\n",
      "           0       0.87      0.84      0.86      9414\n",
      "           1       0.77      0.80      0.79      6041\n",
      "\n",
      "   micro avg       0.83      0.83      0.83     15455\n",
      "   macro avg       0.82      0.82      0.82     15455\n",
      "weighted avg       0.83      0.83      0.83     15455\n",
      "\n",
      "0.8285991588482692\n",
      "0.8242823005334942\n",
      "0.6430911936664504\n",
      "0.7858355566335193\n"
     ]
    }
   ],
   "source": [
    "# WITH TEMP1\n",
    "X_train, X_test, y_train, y_test = train_test_split(x, y, random_state=1,test_size=0.2,stratify=y)\n",
    "#from sklearn.linear_model import LogisticRegression\n",
    "\n",
    "model = LogisticRegression(random_state=1)\n",
    "model.fit(X_train, y_train)\n",
    "y_predict = model.predict(X_test)\n",
    "\n",
    "print(metrics.classification_report(y_test, y_predict))\n",
    "fpr,tpr,_ =metrics.roc_curve(y_test, y_predict)\n",
    "aucmetric=metrics.auc(fpr,tpr)\n",
    "print(accuracy_score(y_test, y_predict))\n",
    "print(aucmetric)\n",
    "print(metrics.cohen_kappa_score(y_test,y_predict))\n",
    "print(metrics.f1_score(y_test,y_predict))"
   ]
  },
  {
   "cell_type": "code",
   "execution_count": 553,
   "metadata": {},
   "outputs": [
    {
     "data": {
      "text/plain": [
       "(77272, 39)"
      ]
     },
     "execution_count": 553,
     "metadata": {},
     "output_type": "execute_result"
    }
   ],
   "source": [
    "x.shape"
   ]
  },
  {
   "cell_type": "code",
   "execution_count": null,
   "metadata": {},
   "outputs": [],
   "source": []
  },
  {
   "cell_type": "code",
   "execution_count": 547,
   "metadata": {},
   "outputs": [],
   "source": [
    "x=temp2.drop(['patient_nbr','encounter_id','Solo_Insulin'],axis=1)\n",
    "y=temp2['Solo_Insulin']"
   ]
  },
  {
   "cell_type": "code",
   "execution_count": 548,
   "metadata": {},
   "outputs": [],
   "source": [
    "x = pd.get_dummies(x,drop_first=True)"
   ]
  },
  {
   "cell_type": "code",
   "execution_count": 549,
   "metadata": {},
   "outputs": [
    {
     "name": "stderr",
     "output_type": "stream",
     "text": [
      "C:\\Users\\user\\Anaconda3\\lib\\site-packages\\sklearn\\linear_model\\logistic.py:433: FutureWarning: Default solver will be changed to 'lbfgs' in 0.22. Specify a solver to silence this warning.\n",
      "  FutureWarning)\n"
     ]
    },
    {
     "name": "stdout",
     "output_type": "stream",
     "text": [
      "              precision    recall  f1-score   support\n",
      "\n",
      "           0       0.88      0.85      0.87      9414\n",
      "           1       0.78      0.81      0.80      6041\n",
      "\n",
      "   micro avg       0.84      0.84      0.84     15455\n",
      "   macro avg       0.83      0.83      0.83     15455\n",
      "weighted avg       0.84      0.84      0.84     15455\n",
      "\n",
      "0.8377871239081204\n",
      "0.8330994401368989\n",
      "0.6616662087081693\n",
      "0.7963940550637537\n"
     ]
    }
   ],
   "source": [
    "# WITH TEMP2\n",
    "X_train, X_test, y_train, y_test = train_test_split(x, y, random_state=1,test_size=0.2,stratify=y)\n",
    "#from sklearn.linear_model import LogisticRegression\n",
    "\n",
    "model = LogisticRegression(random_state=1)\n",
    "model.fit(X_train, y_train)\n",
    "y_predict = model.predict(X_test)\n",
    "\n",
    "print(metrics.classification_report(y_test, y_predict))\n",
    "fpr,tpr,_ =metrics.roc_curve(y_test, y_predict)\n",
    "aucmetric=metrics.auc(fpr,tpr)\n",
    "print(accuracy_score(y_test, y_predict))\n",
    "print(aucmetric)\n",
    "print(metrics.cohen_kappa_score(y_test,y_predict))\n",
    "print(metrics.f1_score(y_test,y_predict))"
   ]
  },
  {
   "cell_type": "code",
   "execution_count": 550,
   "metadata": {},
   "outputs": [
    {
     "data": {
      "text/plain": [
       "(77272, 46)"
      ]
     },
     "execution_count": 550,
     "metadata": {},
     "output_type": "execute_result"
    }
   ],
   "source": [
    "x.shape"
   ]
  },
  {
   "cell_type": "code",
   "execution_count": 555,
   "metadata": {},
   "outputs": [],
   "source": []
  },
  {
   "cell_type": "code",
   "execution_count": 557,
   "metadata": {},
   "outputs": [
    {
     "data": {
      "text/plain": [
       "patient_nbr                 0\n",
       "number_diagnoses            0\n",
       "admission_type_id           0\n",
       "discharge_disposition_id    0\n",
       "admission_source_id         0\n",
       "time_in_hospital            0\n",
       "encounter_id                0\n",
       "race                        0\n",
       "gender                      0\n",
       "age                         0\n",
       "num_lab_procedures          0\n",
       "num_procedures              0\n",
       "num_medications             0\n",
       "number_outpatient           0\n",
       "number_emergency            0\n",
       "number_inpatient            0\n",
       "change                      0\n",
       "readmitted                  0\n",
       "Total_drugs                 0\n",
       "Solo_Insulin                0\n",
       "circulatory                 0\n",
       "respiratory                 0\n",
       "digestive                   0\n",
       "diabetic                    0\n",
       "injury                      0\n",
       "musculusketal               0\n",
       "genitourinary               0\n",
       "neoplasms                   0\n",
       "dtype: int64"
      ]
     },
     "execution_count": 557,
     "metadata": {},
     "output_type": "execute_result"
    }
   ],
   "source": [
    "temp2.isnull().sum()"
   ]
  },
  {
   "cell_type": "code",
   "execution_count": 559,
   "metadata": {},
   "outputs": [],
   "source": [
    "temp1.to_csv('temp1.csv',index=0)\n",
    "temp2.to_csv('temp2.csv',index=0)"
   ]
  },
  {
   "cell_type": "code",
   "execution_count": null,
   "metadata": {},
   "outputs": [],
   "source": []
  }
 ],
 "metadata": {
  "kernelspec": {
   "display_name": "Python 3",
   "language": "python",
   "name": "python3"
  },
  "language_info": {
   "codemirror_mode": {
    "name": "ipython",
    "version": 3
   },
   "file_extension": ".py",
   "mimetype": "text/x-python",
   "name": "python",
   "nbconvert_exporter": "python",
   "pygments_lexer": "ipython3",
   "version": "3.7.1"
  }
 },
 "nbformat": 4,
 "nbformat_minor": 2
}
